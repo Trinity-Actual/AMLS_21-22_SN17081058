{
 "cells": [
  {
   "cell_type": "markdown",
   "metadata": {},
   "source": [
    "# Binary Task Notebook\n",
    "\n",
    "### Contains Code for Binary task and models created"
   ]
  },
  {
   "cell_type": "code",
   "execution_count": 10,
   "metadata": {},
   "outputs": [],
   "source": [
    "# Import required libraries\n",
    "import numpy as np\n",
    "import pandas as pd\n",
    "import os\n",
    "import matplotlib.pyplot as plt\n",
    "import tensorflow as tf\n",
    "import keras\n",
    "from sklearn.model_selection import train_test_split\n",
    "from sklearn.decomposition import PCA\n",
    "\n",
    "#tqdm is for progress bar functionality in code, must be installed for code to function (TO DO: include exception if tqdm not imported )\n",
    "from tqdm import tqdm\n",
    "\n",
    "\n",
    "from sklearn.metrics import roc_curve, roc_auc_score\n",
    "\n",
    "import pickle as pkl\n",
    "import cv2"
   ]
  },
  {
   "cell_type": "markdown",
   "metadata": {},
   "source": [
    "# 1. Loading Dataset and doing final preprocessing\n",
    "### We Load the preprocessed data and carry out PCA on the image array here for the binary training and test data\n",
    "### 1.1 Loading Datasets"
   ]
  },
  {
   "cell_type": "code",
   "execution_count": 2,
   "metadata": {},
   "outputs": [
    {
     "name": "stdout",
     "output_type": "stream",
     "text": [
      "      MRI_Binary_Label\n",
      "0                  1.0\n",
      "1                  0.0\n",
      "2                  1.0\n",
      "3                  1.0\n",
      "4                  1.0\n",
      "...                ...\n",
      "2995               0.0\n",
      "2996               1.0\n",
      "2997               1.0\n",
      "2998               1.0\n",
      "2999               1.0\n",
      "\n",
      "[3000 rows x 1 columns]\n"
     ]
    },
    {
     "data": {
      "text/html": [
       "<div>\n",
       "<style scoped>\n",
       "    .dataframe tbody tr th:only-of-type {\n",
       "        vertical-align: middle;\n",
       "    }\n",
       "\n",
       "    .dataframe tbody tr th {\n",
       "        vertical-align: top;\n",
       "    }\n",
       "\n",
       "    .dataframe thead th {\n",
       "        text-align: right;\n",
       "    }\n",
       "</style>\n",
       "<table border=\"1\" class=\"dataframe\">\n",
       "  <thead>\n",
       "    <tr style=\"text-align: right;\">\n",
       "      <th></th>\n",
       "      <th>0</th>\n",
       "      <th>1</th>\n",
       "      <th>2</th>\n",
       "      <th>3</th>\n",
       "      <th>4</th>\n",
       "      <th>5</th>\n",
       "      <th>6</th>\n",
       "      <th>7</th>\n",
       "      <th>8</th>\n",
       "      <th>9</th>\n",
       "      <th>...</th>\n",
       "      <th>774</th>\n",
       "      <th>775</th>\n",
       "      <th>776</th>\n",
       "      <th>777</th>\n",
       "      <th>778</th>\n",
       "      <th>779</th>\n",
       "      <th>780</th>\n",
       "      <th>781</th>\n",
       "      <th>782</th>\n",
       "      <th>783</th>\n",
       "    </tr>\n",
       "  </thead>\n",
       "  <tbody>\n",
       "    <tr>\n",
       "      <th>0</th>\n",
       "      <td>1</td>\n",
       "      <td>1</td>\n",
       "      <td>2</td>\n",
       "      <td>2</td>\n",
       "      <td>3</td>\n",
       "      <td>3</td>\n",
       "      <td>3</td>\n",
       "      <td>3</td>\n",
       "      <td>3</td>\n",
       "      <td>2</td>\n",
       "      <td>...</td>\n",
       "      <td>40</td>\n",
       "      <td>67</td>\n",
       "      <td>63</td>\n",
       "      <td>29</td>\n",
       "      <td>44</td>\n",
       "      <td>62</td>\n",
       "      <td>3</td>\n",
       "      <td>3</td>\n",
       "      <td>3</td>\n",
       "      <td>3</td>\n",
       "    </tr>\n",
       "    <tr>\n",
       "      <th>1</th>\n",
       "      <td>3</td>\n",
       "      <td>2</td>\n",
       "      <td>2</td>\n",
       "      <td>2</td>\n",
       "      <td>2</td>\n",
       "      <td>2</td>\n",
       "      <td>2</td>\n",
       "      <td>2</td>\n",
       "      <td>2</td>\n",
       "      <td>2</td>\n",
       "      <td>...</td>\n",
       "      <td>1</td>\n",
       "      <td>1</td>\n",
       "      <td>0</td>\n",
       "      <td>1</td>\n",
       "      <td>0</td>\n",
       "      <td>0</td>\n",
       "      <td>0</td>\n",
       "      <td>0</td>\n",
       "      <td>0</td>\n",
       "      <td>0</td>\n",
       "    </tr>\n",
       "    <tr>\n",
       "      <th>2</th>\n",
       "      <td>2</td>\n",
       "      <td>0</td>\n",
       "      <td>0</td>\n",
       "      <td>0</td>\n",
       "      <td>0</td>\n",
       "      <td>0</td>\n",
       "      <td>0</td>\n",
       "      <td>0</td>\n",
       "      <td>0</td>\n",
       "      <td>0</td>\n",
       "      <td>...</td>\n",
       "      <td>48</td>\n",
       "      <td>44</td>\n",
       "      <td>46</td>\n",
       "      <td>33</td>\n",
       "      <td>43</td>\n",
       "      <td>38</td>\n",
       "      <td>47</td>\n",
       "      <td>34</td>\n",
       "      <td>1</td>\n",
       "      <td>0</td>\n",
       "    </tr>\n",
       "    <tr>\n",
       "      <th>3</th>\n",
       "      <td>0</td>\n",
       "      <td>0</td>\n",
       "      <td>0</td>\n",
       "      <td>0</td>\n",
       "      <td>1</td>\n",
       "      <td>1</td>\n",
       "      <td>1</td>\n",
       "      <td>2</td>\n",
       "      <td>1</td>\n",
       "      <td>2</td>\n",
       "      <td>...</td>\n",
       "      <td>2</td>\n",
       "      <td>2</td>\n",
       "      <td>2</td>\n",
       "      <td>2</td>\n",
       "      <td>3</td>\n",
       "      <td>4</td>\n",
       "      <td>24</td>\n",
       "      <td>26</td>\n",
       "      <td>5</td>\n",
       "      <td>2</td>\n",
       "    </tr>\n",
       "    <tr>\n",
       "      <th>4</th>\n",
       "      <td>1</td>\n",
       "      <td>1</td>\n",
       "      <td>1</td>\n",
       "      <td>1</td>\n",
       "      <td>1</td>\n",
       "      <td>0</td>\n",
       "      <td>0</td>\n",
       "      <td>6</td>\n",
       "      <td>1</td>\n",
       "      <td>20</td>\n",
       "      <td>...</td>\n",
       "      <td>157</td>\n",
       "      <td>112</td>\n",
       "      <td>183</td>\n",
       "      <td>133</td>\n",
       "      <td>43</td>\n",
       "      <td>1</td>\n",
       "      <td>0</td>\n",
       "      <td>0</td>\n",
       "      <td>0</td>\n",
       "      <td>2</td>\n",
       "    </tr>\n",
       "    <tr>\n",
       "      <th>...</th>\n",
       "      <td>...</td>\n",
       "      <td>...</td>\n",
       "      <td>...</td>\n",
       "      <td>...</td>\n",
       "      <td>...</td>\n",
       "      <td>...</td>\n",
       "      <td>...</td>\n",
       "      <td>...</td>\n",
       "      <td>...</td>\n",
       "      <td>...</td>\n",
       "      <td>...</td>\n",
       "      <td>...</td>\n",
       "      <td>...</td>\n",
       "      <td>...</td>\n",
       "      <td>...</td>\n",
       "      <td>...</td>\n",
       "      <td>...</td>\n",
       "      <td>...</td>\n",
       "      <td>...</td>\n",
       "      <td>...</td>\n",
       "      <td>...</td>\n",
       "    </tr>\n",
       "    <tr>\n",
       "      <th>2995</th>\n",
       "      <td>5</td>\n",
       "      <td>1</td>\n",
       "      <td>1</td>\n",
       "      <td>3</td>\n",
       "      <td>1</td>\n",
       "      <td>0</td>\n",
       "      <td>5</td>\n",
       "      <td>6</td>\n",
       "      <td>6</td>\n",
       "      <td>3</td>\n",
       "      <td>...</td>\n",
       "      <td>1</td>\n",
       "      <td>1</td>\n",
       "      <td>1</td>\n",
       "      <td>2</td>\n",
       "      <td>3</td>\n",
       "      <td>4</td>\n",
       "      <td>1</td>\n",
       "      <td>2</td>\n",
       "      <td>0</td>\n",
       "      <td>3</td>\n",
       "    </tr>\n",
       "    <tr>\n",
       "      <th>2996</th>\n",
       "      <td>1</td>\n",
       "      <td>1</td>\n",
       "      <td>2</td>\n",
       "      <td>2</td>\n",
       "      <td>2</td>\n",
       "      <td>2</td>\n",
       "      <td>3</td>\n",
       "      <td>2</td>\n",
       "      <td>3</td>\n",
       "      <td>3</td>\n",
       "      <td>...</td>\n",
       "      <td>72</td>\n",
       "      <td>70</td>\n",
       "      <td>42</td>\n",
       "      <td>9</td>\n",
       "      <td>4</td>\n",
       "      <td>4</td>\n",
       "      <td>2</td>\n",
       "      <td>4</td>\n",
       "      <td>2</td>\n",
       "      <td>2</td>\n",
       "    </tr>\n",
       "    <tr>\n",
       "      <th>2997</th>\n",
       "      <td>0</td>\n",
       "      <td>3</td>\n",
       "      <td>2</td>\n",
       "      <td>2</td>\n",
       "      <td>2</td>\n",
       "      <td>2</td>\n",
       "      <td>2</td>\n",
       "      <td>2</td>\n",
       "      <td>2</td>\n",
       "      <td>2</td>\n",
       "      <td>...</td>\n",
       "      <td>27</td>\n",
       "      <td>21</td>\n",
       "      <td>27</td>\n",
       "      <td>14</td>\n",
       "      <td>4</td>\n",
       "      <td>3</td>\n",
       "      <td>2</td>\n",
       "      <td>1</td>\n",
       "      <td>3</td>\n",
       "      <td>0</td>\n",
       "    </tr>\n",
       "    <tr>\n",
       "      <th>2998</th>\n",
       "      <td>2</td>\n",
       "      <td>2</td>\n",
       "      <td>2</td>\n",
       "      <td>2</td>\n",
       "      <td>3</td>\n",
       "      <td>3</td>\n",
       "      <td>3</td>\n",
       "      <td>3</td>\n",
       "      <td>4</td>\n",
       "      <td>3</td>\n",
       "      <td>...</td>\n",
       "      <td>153</td>\n",
       "      <td>63</td>\n",
       "      <td>86</td>\n",
       "      <td>81</td>\n",
       "      <td>59</td>\n",
       "      <td>71</td>\n",
       "      <td>26</td>\n",
       "      <td>7</td>\n",
       "      <td>5</td>\n",
       "      <td>3</td>\n",
       "    </tr>\n",
       "    <tr>\n",
       "      <th>2999</th>\n",
       "      <td>0</td>\n",
       "      <td>0</td>\n",
       "      <td>0</td>\n",
       "      <td>0</td>\n",
       "      <td>0</td>\n",
       "      <td>0</td>\n",
       "      <td>0</td>\n",
       "      <td>0</td>\n",
       "      <td>0</td>\n",
       "      <td>0</td>\n",
       "      <td>...</td>\n",
       "      <td>1</td>\n",
       "      <td>1</td>\n",
       "      <td>1</td>\n",
       "      <td>1</td>\n",
       "      <td>1</td>\n",
       "      <td>1</td>\n",
       "      <td>0</td>\n",
       "      <td>0</td>\n",
       "      <td>0</td>\n",
       "      <td>0</td>\n",
       "    </tr>\n",
       "  </tbody>\n",
       "</table>\n",
       "<p>3000 rows × 784 columns</p>\n",
       "</div>"
      ],
      "text/plain": [
       "      0    1    2    3    4    5    6    7    8    9    ...  774  775  776  \\\n",
       "0       1    1    2    2    3    3    3    3    3    2  ...   40   67   63   \n",
       "1       3    2    2    2    2    2    2    2    2    2  ...    1    1    0   \n",
       "2       2    0    0    0    0    0    0    0    0    0  ...   48   44   46   \n",
       "3       0    0    0    0    1    1    1    2    1    2  ...    2    2    2   \n",
       "4       1    1    1    1    1    0    0    6    1   20  ...  157  112  183   \n",
       "...   ...  ...  ...  ...  ...  ...  ...  ...  ...  ...  ...  ...  ...  ...   \n",
       "2995    5    1    1    3    1    0    5    6    6    3  ...    1    1    1   \n",
       "2996    1    1    2    2    2    2    3    2    3    3  ...   72   70   42   \n",
       "2997    0    3    2    2    2    2    2    2    2    2  ...   27   21   27   \n",
       "2998    2    2    2    2    3    3    3    3    4    3  ...  153   63   86   \n",
       "2999    0    0    0    0    0    0    0    0    0    0  ...    1    1    1   \n",
       "\n",
       "      777  778  779  780  781  782  783  \n",
       "0      29   44   62    3    3    3    3  \n",
       "1       1    0    0    0    0    0    0  \n",
       "2      33   43   38   47   34    1    0  \n",
       "3       2    3    4   24   26    5    2  \n",
       "4     133   43    1    0    0    0    2  \n",
       "...   ...  ...  ...  ...  ...  ...  ...  \n",
       "2995    2    3    4    1    2    0    3  \n",
       "2996    9    4    4    2    4    2    2  \n",
       "2997   14    4    3    2    1    3    0  \n",
       "2998   81   59   71   26    7    5    3  \n",
       "2999    1    1    1    0    0    0    0  \n",
       "\n",
       "[3000 rows x 784 columns]"
      ]
     },
     "execution_count": 2,
     "metadata": {},
     "output_type": "execute_result"
    }
   ],
   "source": [
    "#We can do PCA for the images but must be done separately for binary and multiclass task as the data must be split first\n",
    "#This is because we must do PCA on the training data only (fit and transform it) and then only use the transform on the test data to prevent bias\n",
    "#We select 400 components as it provides around 96% explained variance (can get the exact value)\n",
    "\n",
    "#Reading created pkl files for binary labels and image data.\n",
    "Binary_labels = pd.read_pickle('./dataset/Y_Binary_label.pkl')\n",
    "Flattened_MRI_Array = pd.read_pickle('.\\dataset\\Image_DF_Flat.pkl')\n",
    "\n",
    "#For Display\n",
    "print(Binary_labels)\n",
    "Flattened_MRI_Array\n"
   ]
  },
  {
   "cell_type": "code",
   "execution_count": 15,
   "metadata": {},
   "outputs": [
    {
     "name": "stdout",
     "output_type": "stream",
     "text": [
      "(3000, 1)\n",
      "(3000, 784)\n",
      "ERROR! Session/line number was not unique in database. History logging moved to new session 173\n"
     ]
    }
   ],
   "source": [
    "#Taking just the label portion for editing into our Target Y array\n",
    "Y = Binary_labels[['MRI_Binary_Label']]\n",
    "print(Y.shape)\n",
    "\n",
    "X = Flattened_MRI_Array\n",
    "print(X.shape)"
   ]
  },
  {
   "cell_type": "markdown",
   "metadata": {},
   "source": [
    "### 1.2 Splitting data in to training and testing sets"
   ]
  },
  {
   "cell_type": "code",
   "execution_count": 16,
   "metadata": {},
   "outputs": [],
   "source": [
    "# Split the data into training and testing(70% training and 30% testing data)\n",
    "xTrain,xTest,yTrain,yTest=train_test_split(X, Y, train_size = 0.7)\n",
    "\n",
    "#Rescaling the dataframe as the pixel values range from 0 to 255\n",
    "#We want it to be between 0 to 1 to let it pass through the NN and models\n",
    "xTrain_Scaled = xTrain/255\n",
    "xTest_Scaled = xTest/255"
   ]
  },
  {
   "cell_type": "markdown",
   "metadata": {},
   "source": [
    "### 1.3 PCA"
   ]
  },
  {
   "cell_type": "code",
   "execution_count": 17,
   "metadata": {},
   "outputs": [
    {
     "name": "stdout",
     "output_type": "stream",
     "text": [
      "96.49854310968563\n"
     ]
    }
   ],
   "source": [
    "#Initialising PCA with 400 components determined in preprocessing notebook\n",
    "Binary_PCA = PCA(n_components = 400)\n",
    "\n",
    "#Fitting and Transforming training dataset\n",
    "xTrain_PCA = Binary_PCA.fit_transform(xTrain_Scaled)\n",
    "\n",
    "#We only transform test dataset as we do not want the model to learn about the test data statistics\n",
    "xTest_transformed = Binary_PCA.transform(xTest_Scaled)\n",
    "\n",
    "#Prints the percentage of explained variance to verify it is greater than our threshold of 95%\n",
    "print(np.cumsum(Binary_PCA.explained_variance_ratio_ * 100)[-1])"
   ]
  },
  {
   "cell_type": "markdown",
   "metadata": {},
   "source": [
    "# 2. Model Building"
   ]
  },
  {
   "cell_type": "code",
   "execution_count": 18,
   "metadata": {},
   "outputs": [],
   "source": [
    "#Importing libraries used for SVM classification\n",
    "from sklearn.metrics import classification_report, confusion_matrix\n",
    "from sklearn.svm import SVC\n",
    "from sklearn.model_selection import GridSearchCV\n"
   ]
  },
  {
   "cell_type": "markdown",
   "metadata": {},
   "source": [
    "## 2.1 SVM Model"
   ]
  },
  {
   "cell_type": "code",
   "execution_count": 14,
   "metadata": {},
   "outputs": [
    {
     "name": "stdout",
     "output_type": "stream",
     "text": [
      "The Result for SVM without hyperparameter tuning is:\n",
      "              precision    recall  f1-score   support\n",
      "\n",
      "         0.0       0.92      0.57      0.70       121\n",
      "         1.0       0.94      0.99      0.96       779\n",
      "\n",
      "    accuracy                           0.94       900\n",
      "   macro avg       0.93      0.78      0.83       900\n",
      "weighted avg       0.93      0.94      0.93       900\n",
      "\n",
      "The confusion matrix is:\n",
      "[[ 69  52]\n",
      " [  6 773]]\n"
     ]
    }
   ],
   "source": [
    "#Training model using SVC without hyperparameter tuning\n",
    "binary_SVM_base = SVC()\n",
    "binary_SVM_base.fit(xTrain_PCA, yTrain.values.ravel())\n",
    "\n",
    "#Printing prediction results\n",
    "binary_SVM_base_pred = binary_SVM_base.predict(xTest_transformed)\n",
    "print(\"The Result for SVM without hyperparameter tuning is:\")\n",
    "print(classification_report(yTest, binary_SVM_base_pred))\n",
    "\n",
    "#Printing the confusion matrix for SVM without tuning\n",
    "print(\"The confusion matrix is:\")\n",
    "print(confusion_matrix(yTest, binary_SVM_base_pred))"
   ]
  },
  {
   "cell_type": "code",
   "execution_count": 18,
   "metadata": {},
   "outputs": [
    {
     "name": "stdout",
     "output_type": "stream",
     "text": [
      "Fitting 10 folds for each of 75 candidates, totalling 750 fits\n"
     ]
    },
    {
     "data": {
      "text/plain": [
       "GridSearchCV(cv=10, estimator=SVC(),\n",
       "             param_grid={'C': [0.1, 1, 10, 100, 1000],\n",
       "                         'gamma': [1, 0.1, 0.01, 0.001, 0.0001],\n",
       "                         'kernel': ['rbf', 'sigmoid', 'linear']},\n",
       "             verbose=1)"
      ]
     },
     "execution_count": 18,
     "metadata": {},
     "output_type": "execute_result"
    }
   ],
   "source": [
    "#Using SVM but this time with gridsearch to tune hyperparameter\n",
    "\n",
    "#Define the parameter ranges\n",
    "param_grid = {\n",
    "    'C': [0.1, 1, 10, 100, 1000],\n",
    "    'gamma': [1, 0.1, 0.01, 0.001, 0.0001],\n",
    "    'kernel': ['rbf','sigmoid','linear']\n",
    "}\n",
    "\n",
    "Binary_SVM_grid = GridSearchCV(SVC(), param_grid, refit = True, verbose = 1, cv = 10)\n",
    "\n",
    "#Fitting model with grid search\n",
    "Binary_SVM_grid.fit(xTrain_PCA, yTrain.values.ravel())"
   ]
  },
  {
   "cell_type": "code",
   "execution_count": 19,
   "metadata": {},
   "outputs": [
    {
     "name": "stdout",
     "output_type": "stream",
     "text": [
      "The best hyperparameters found by gridsearch are:\n",
      "{'C': 100, 'gamma': 0.01, 'kernel': 'rbf'}\n",
      "The new model created after hyperparameter tuning is:\n",
      "SVC(C=100, gamma=0.01)\n"
     ]
    }
   ],
   "source": [
    "#Display the best parameters after the hyperparameter tuning\n",
    "print(\"The best hyperparameters found by gridsearch are:\")\n",
    "print(Binary_SVM_grid.best_params_)\n",
    "\n",
    "#Print the new details of the SVM model after tuning\n",
    "print(\"The new model created after hyperparameter tuning is:\")\n",
    "print(Binary_SVM_grid.best_estimator_)"
   ]
  },
  {
   "cell_type": "code",
   "execution_count": 20,
   "metadata": {},
   "outputs": [
    {
     "name": "stdout",
     "output_type": "stream",
     "text": [
      "The Result for SVM with hyperparameter tuning via gridsearch is:\n",
      "              precision    recall  f1-score   support\n",
      "\n",
      "         0.0       0.86      0.79      0.82       121\n",
      "         1.0       0.97      0.98      0.97       779\n",
      "\n",
      "    accuracy                           0.95       900\n",
      "   macro avg       0.91      0.89      0.90       900\n",
      "weighted avg       0.95      0.95      0.95       900\n",
      "\n",
      "The confusion matrix is:\n",
      "[[ 96  25]\n",
      " [ 16 763]]\n"
     ]
    }
   ],
   "source": [
    "#Now running the tuned model with the test data to obtain the classification report\n",
    "Tuned_SVM_pred = Binary_SVM_grid.predict(xTest_transformed)\n",
    "\n",
    "#Print classification report\n",
    "print(\"The Result for SVM with hyperparameter tuning via gridsearch is:\")\n",
    "print(classification_report(yTest, Tuned_SVM_pred))\n",
    "\n",
    "#Printing the confusion matrix for SVM without tuning\n",
    "print(\"The confusion matrix is:\")\n",
    "print(confusion_matrix(yTest, Tuned_SVM_pred))"
   ]
  },
  {
   "cell_type": "code",
   "execution_count": 42,
   "metadata": {},
   "outputs": [],
   "source": [
    "FPR_Tuned_SVM, TPR_Tuned_SVM_SVM, Tuned_SVM_SVM_thres = roc_curve(yTest, Tuned_SVM_pred)\n",
    "\n",
    "FPR_Base_SVM, TPR_Base_SVM, Base_SVM_thres = roc_curve(yTest, binary_SVM_base_pred)\n"
   ]
  },
  {
   "cell_type": "code",
   "execution_count": 45,
   "metadata": {},
   "outputs": [
    {
     "name": "stdout",
     "output_type": "stream",
     "text": [
      "roc_auc_score for Tuned SVM:  0.8864246384960588\n",
      "roc_auc_score for Base SVM:  0.7812728757996584\n"
     ]
    }
   ],
   "source": [
    "print('roc_auc_score for Tuned SVM: ', roc_auc_score(yTest, Tuned_SVM_pred))\n",
    "print('roc_auc_score for Base SVM: ', roc_auc_score(yTest, binary_SVM_base_pred))"
   ]
  },
  {
   "cell_type": "code",
   "execution_count": 46,
   "metadata": {},
   "outputs": [
    {
     "data": {
      "image/png": "[encoded data removed]",
      "text/plain": [
       "<Figure size 720x720 with 1 Axes>"
      ]
     },
     "metadata": {
      "needs_background": "light"
     },
     "output_type": "display_data"
    }
   ],
   "source": [
    "plt.subplots(1, figsize=(10,10))\n",
    "plt.title('Receiver Operating Characteristic - Tuned Binary SVM')\n",
    "\n",
    "#This plot is our tuned SVM model\n",
    "plt.plot(FPR_Tuned_SVM, TPR_Tuned_SVM_SVM)\n",
    "\n",
    "#This plot is the base SVM model\n",
    "plt.plot(FPR_Base_SVM, TPR_Base_SVM)\n",
    "\n",
    "#Optimal Model line\n",
    "plt.plot([0, 1], ls=\"--\")\n",
    "\n",
    "plt.plot([0, 0], [1, 0] , c=\".7\"), plt.plot([1, 1] , c=\".7\")\n",
    "plt.ylabel('True Positive Rate')\n",
    "plt.xlabel('False Positive Rate')\n",
    "plt.show()"
   ]
  },
  {
   "cell_type": "code",
   "execution_count": 49,
   "metadata": {},
   "outputs": [
    {
     "name": "stdout",
     "output_type": "stream",
     "text": [
      "ERROR! Session/line number was not unique in database. History logging moved to new session 166\n"
     ]
    }
   ],
   "source": [
    "#Saving tuned and base SVM models\n",
    "save_path = \"./Models\"\n",
    "Tuned_SVM_filename = 'Tuned_SVM_model.sav'\n",
    "Base_SVM_filename = 'Base_SVM_model.sav'\n"
   ]
  },
  {
   "cell_type": "code",
   "execution_count": 50,
   "metadata": {},
   "outputs": [],
   "source": [
    "#Using Pickle to put them in files\n",
    "pkl.dump(binary_SVM_base , open(os.path.join(save_path, Base_SVM_filename), 'wb'))\n",
    "pkl.dump(Binary_SVM_grid, open(os.path.join(save_path, Tuned_SVM_filename), 'wb'))"
   ]
  },
  {
   "cell_type": "code",
   "execution_count": 53,
   "metadata": {},
   "outputs": [
    {
     "name": "stdout",
     "output_type": "stream",
     "text": [
      "{'C': 100, 'gamma': 0.01, 'kernel': 'rbf'}\n"
     ]
    }
   ],
   "source": [
    "#Code to test loading of trained tuned SVM model\n",
    "load_tuned_SVM = pkl.load(open('.\\Models\\Tuned_SVM_model.sav', 'rb'))\n",
    "#Gets the best parameter values from loaded model\n",
    "best_param = load_tuned_SVM.best_params_\n",
    "#Prints out the parameter values\n",
    "#Output should match earlier .best_params_ output\n",
    "print(best_param)"
   ]
  },
  {
   "cell_type": "markdown",
   "metadata": {},
   "source": [
    "## 2.2 Convolutional Neural Network"
   ]
  },
  {
   "cell_type": "code",
   "execution_count": null,
   "metadata": {},
   "outputs": [],
   "source": []
  }
 ],
 "metadata": {
  "interpreter": {
   "hash": "290ec9070849e8daf2fe4bd922bd966932468e9fb905fb4b926b0f4d9e51cc32"
  },
  "kernelspec": {
   "display_name": "Python 3.7.11 64-bit ('gym': conda)",
   "language": "python",
   "name": "python3"
  },
  "language_info": {
   "codemirror_mode": {
    "name": "ipython",
    "version": 3
   },
   "file_extension": ".py",
   "mimetype": "text/x-python",
   "name": "python",
   "nbconvert_exporter": "python",
   "pygments_lexer": "ipython3",
   "version": "3.7.11"
  },
  "orig_nbformat": 4
 },
 "nbformat": 4,
 "nbformat_minor": 2
}
