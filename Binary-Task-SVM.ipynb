{
 "cells": [
  {
   "cell_type": "markdown",
   "metadata": {},
   "source": [
    "# Binary Task SVM Notebook\n",
    "\n",
    "### Contains Code for Binary task SVM Model creation, training and validation(hyperparameter tuning)"
   ]
  },
  {
   "cell_type": "code",
   "execution_count": 1,
   "metadata": {},
   "outputs": [
    {
     "name": "stderr",
     "output_type": "stream",
     "text": [
      "Using TensorFlow backend.\n"
     ]
    }
   ],
   "source": [
    "# Import required libraries\n",
    "import numpy as np\n",
    "import pandas as pd\n",
    "import pickle as pkl\n",
    "import os\n",
    "import cv2\n",
    "import matplotlib.pyplot as plt\n",
    "import tensorflow as tf\n",
    "import keras\n",
    "from sklearn.decomposition import PCA\n",
    "\n",
    "#tqdm is for progress bar functionality in code, must be installed for code to function (TO DO: include exception if tqdm not imported )\n",
    "from tqdm import tqdm\n",
    "\n",
    "#Importing libraries used for SVM classification and model assessment\n",
    "from sklearn.model_selection import train_test_split\n",
    "from sklearn.metrics import classification_report, confusion_matrix\n",
    "from sklearn.svm import SVC\n",
    "from sklearn.model_selection import GridSearchCV\n",
    "from sklearn.metrics import roc_curve, roc_auc_score\n",
    "\n",
    "#Importing functions notebook containing functions created to streamline code\n",
    "from ipynb.fs.full.functions import load_dataset, dataset_PCA, Tuned_SVM_train, SVM_predictions\n"
   ]
  },
  {
   "cell_type": "markdown",
   "metadata": {},
   "source": [
    "# 1. Loading Dataset and doing final preprocessing\n",
    "### We Load the preprocessed data and carry out PCA on the image array here for the binary training and test data\n",
    "## 1.1 Loading Datasets"
   ]
  },
  {
   "cell_type": "code",
   "execution_count": 2,
   "metadata": {},
   "outputs": [
    {
     "name": "stdout",
     "output_type": "stream",
     "text": [
      "Datasets successfully loaded with shapes:\n",
      "Y Shape:\n",
      "(3000,)\n",
      "X Shape:\n",
      "(3000, 784)\n"
     ]
    }
   ],
   "source": [
    "#Calls load_dataset function from \"functions.ipynb\" which loads the X data and Y label datasets for binary task from the inputted file paths\n",
    "#It prints the loaded array shapes to verify it has completed properly\n",
    "X, Y = load_dataset('.\\dataset\\Image_DF_Flat.pkl', './dataset/Y_Binary_label.pkl')"
   ]
  },
  {
   "cell_type": "markdown",
   "metadata": {},
   "source": [
    "##### We can do PCA for the images but must be done separately for binary and multiclass task as the data must be split first.<br/> This is because we must do PCA on the training data only (fit and transform it) and then only use the transform on the test data to prevent bias<br/> We select 400 components as it provides around 96% explained variance as shown previously."
   ]
  },
  {
   "cell_type": "markdown",
   "metadata": {},
   "source": [
    "## 1.2 Splitting data in to training and testing sets"
   ]
  },
  {
   "cell_type": "code",
   "execution_count": 3,
   "metadata": {},
   "outputs": [],
   "source": [
    "# Split the data into training and testing(70% training and 30% testing data)\n",
    "# The training set will be used for training and validation\n",
    "# Validation in terms of using it to assess and tune the hyperparameter values using Grid Search as well as cross validation on the hyperparameter values\n",
    "# Setting random_state to 42 keeps the same random generator seed to be used.\n",
    "# This maintains the split used across code executions so results obtained will be the same for other users\n",
    "xTrain,xTest,yTrain,yTest=train_test_split(X, Y, train_size = 0.7, random_state = 42)\n",
    "\n",
    "#To verify split data is the same regardless of number of executions\n",
    "#print(xTrain)\n",
    "\n",
    "#Rescaling the dataframe as the pixel values range from 0 to 255\n",
    "#We want it to be between 0 to 1 for easier classification for SVM\n",
    "xTrain_Scaled = xTrain/255\n",
    "xTest_Scaled = xTest/255"
   ]
  },
  {
   "cell_type": "markdown",
   "metadata": {},
   "source": [
    "#### 1.2.1 Displaying label distribution<br/> We show the the number of samples in each class label "
   ]
  },
  {
   "cell_type": "code",
   "execution_count": 4,
   "metadata": {},
   "outputs": [
    {
     "name": "stdout",
     "output_type": "stream",
     "text": [
      "Training dataset number of samples per class:\n",
      "1.0    1780\n",
      "0.0     320\n",
      "Name: MRI_Binary_Label, dtype: int64\n",
      "Test dataset number of samples per class:\n",
      "1.0    766\n",
      "0.0    134\n",
      "Name: MRI_Binary_Label, dtype: int64\n"
     ]
    }
   ],
   "source": [
    "#Number of Samples per class in training data\n",
    "print(\"Training dataset number of samples per class:\")\n",
    "print(yTrain.value_counts())\n",
    "\n",
    "#Number of Samples per class in test data\n",
    "print(\"Test dataset number of samples per class:\")\n",
    "print(yTest.value_counts())\n",
    "\n",
    "#This shows that there is a very large imbalance in the dataset between the binary labels (Tumor and no tumor)"
   ]
  },
  {
   "cell_type": "markdown",
   "metadata": {},
   "source": [
    "## 1.3 PCA"
   ]
  },
  {
   "cell_type": "code",
   "execution_count": 5,
   "metadata": {},
   "outputs": [
    {
     "name": "stdout",
     "output_type": "stream",
     "text": [
      "PCA conducted with 400 components.\n",
      "The percentage of Explained Variance of the dataset from PCA is: 96.4978759418244\n"
     ]
    }
   ],
   "source": [
    "#Initialising PCA with 400 components determined in preprocessing notebook\n",
    "#Calls the dataset_PCA function defined in \"functions.ipynb\" to carry out PCA\n",
    "#Input arguements are number of components, xTrain data and xTest data\n",
    "#We put in the scaled X train and test data\n",
    "xTrain_PCA, xTest_transformed = dataset_PCA(400, xTrain_Scaled, xTest_Scaled)\n",
    "\n",
    "#Function also returns the resultant explained variance percentage when we use 400 components.\n",
    "#Verified that explained variance using 400 components is ~96.498%"
   ]
  },
  {
   "cell_type": "markdown",
   "metadata": {},
   "source": [
    "# 2. Model Building\n",
    "#### This section describes the training and testing of the Binary SVM models.\n",
    "## 2.1 SVM without tuning\n",
    "### 2.1.1 Training<br/> We first train SVM without hyperparameter tuning to assess the performance of the model with the training and test data"
   ]
  },
  {
   "cell_type": "code",
   "execution_count": 6,
   "metadata": {},
   "outputs": [
    {
     "data": {
      "text/plain": [
       "SVC(probability=True)"
      ]
     },
     "execution_count": 6,
     "metadata": {},
     "output_type": "execute_result"
    }
   ],
   "source": [
    "#Training model using SVC without hyperparameter tuning\n",
    "#SVC allows automatic scaling of weights to counter imbalanced datasets. This is done by setting class_weight to 'balanced'\n",
    "#Default value for C is 1\n",
    "#Default value for gamma is = 1 / (n_features * X.var())\n",
    "binary_SVM_untuned = SVC(probability = True)\n",
    "binary_SVM_untuned.fit(xTrain_PCA, yTrain.values.ravel())"
   ]
  },
  {
   "cell_type": "markdown",
   "metadata": {},
   "source": [
    "### 2.1.2 Binary Untuned SVM Obtaining the Prediction results and performance<br/> Showing the confusion matrix and general assessment metrics using the classification report"
   ]
  },
  {
   "cell_type": "code",
   "execution_count": 7,
   "metadata": {},
   "outputs": [
    {
     "name": "stdout",
     "output_type": "stream",
     "text": [
      "The Results for SVM are:\n",
      "              precision    recall  f1-score   support\n",
      "\n",
      "         0.0       0.95      0.57      0.71       134\n",
      "         1.0       0.93      0.99      0.96       766\n",
      "\n",
      "    accuracy                           0.93       900\n",
      "   macro avg       0.94      0.78      0.84       900\n",
      "weighted avg       0.93      0.93      0.92       900\n",
      "\n",
      "The confusion matrix is:\n",
      "[[ 76  58]\n",
      " [  4 762]]\n"
     ]
    }
   ],
   "source": [
    "#Calls SVM_predictions function from \"functions.ipynb\" to carry out the predictions on the sample test set using the base SVM model we made.\n",
    "#It prints out the classification report of the predictions as well as the confusion matrix\n",
    "#Also Returns the predictions of each sample\n",
    "Binary_SVM_untuned_pred = SVM_predictions(binary_SVM_untuned, xTest_transformed, yTest)"
   ]
  },
  {
   "cell_type": "markdown",
   "metadata": {},
   "source": [
    "## 2.2 SVM with validation\n",
    "\n",
    "### 2.2.1 Training<br/> \n",
    "#### We now use SVM again but with validation, tuning of the hyperparameter values and cross validation<br/> This is done using an exhaustive Gridsearch of the parameter values given along with cross validation using GridsearchCV <br/> After model is trained, we obtain the best parameters found by the gridsearch"
   ]
  },
  {
   "cell_type": "code",
   "execution_count": 8,
   "metadata": {},
   "outputs": [],
   "source": [
    "#Using SVM but this time with gridsearch to tune hyperparameter\n",
    "\n",
    "#Define the parameter values we want to be tested\n",
    "#We test various values of:\n",
    "# C\n",
    "# gamma\n",
    "# Type of Kernel to use\n",
    "# The values are arranged in logarithmic increments\n",
    "param_grid = {\n",
    "    'C': [0.1, 1, 10, 100, 1000],\n",
    "    'gamma': [1, 0.1, 0.01, 0.001, 0.0001],\n",
    "    'kernel': ['rbf','sigmoid']\n",
    "}"
   ]
  },
  {
   "cell_type": "code",
   "execution_count": 9,
   "metadata": {},
   "outputs": [
    {
     "name": "stdout",
     "output_type": "stream",
     "text": [
      "Fitting 10 folds for each of 50 candidates, totalling 500 fits\n",
      "Tuned SVM Model successfully trained and tuned\n",
      "The best hyperparameters found by gridsearch are:\n",
      "{'C': 100, 'gamma': 0.01, 'kernel': 'rbf'}\n",
      "The new model created after hyperparameter tuning is:\n",
      "SVC(C=100, class_weight='balanced', gamma=0.01, probability=True)\n"
     ]
    }
   ],
   "source": [
    "#Calls Tuned_SVM_train from \"functions.ipynb\" to conduct training and tuning of SVM model using gridsearch\n",
    "#Full details on the input arguements listed in the functions notebook\n",
    "\n",
    "#Function prints the resultant best hyperparameters found and new details of the model\n",
    "#Returns the tuned model\n",
    "Binary_SVM_Tuned = Tuned_SVM_train(param_grid, 10, xTrain_PCA, yTrain, True)\n",
    "\n",
    "#est time on last run = 16mins"
   ]
  },
  {
   "cell_type": "markdown",
   "metadata": {},
   "source": [
    "### 2.2.2 Binary Tuned SVM Obtaining the Prediction results and performance<br/> Showing the confusion matrix and general assessment metrics using the classification report"
   ]
  },
  {
   "cell_type": "code",
   "execution_count": 10,
   "metadata": {},
   "outputs": [
    {
     "name": "stdout",
     "output_type": "stream",
     "text": [
      "The Results for SVM are:\n",
      "              precision    recall  f1-score   support\n",
      "\n",
      "         0.0       0.86      0.71      0.78       134\n",
      "         1.0       0.95      0.98      0.97       766\n",
      "\n",
      "    accuracy                           0.94       900\n",
      "   macro avg       0.91      0.84      0.87       900\n",
      "weighted avg       0.94      0.94      0.94       900\n",
      "\n",
      "The confusion matrix is:\n",
      "[[ 95  39]\n",
      " [ 15 751]]\n"
     ]
    }
   ],
   "source": [
    "#Calls SVM_predictions function from \"functions.ipynb\"\n",
    "#This time we are doing predictions with the tuned SVM model\n",
    "Binary_SVM_Tuned_pred = SVM_predictions(Binary_SVM_Tuned, xTest_transformed, yTest)\n",
    "\n",
    "#It prints out the classification report of the predictions as well as the confusion matrix\n",
    "#Returns the predictions"
   ]
  },
  {
   "cell_type": "markdown",
   "metadata": {},
   "source": [
    "## 2.3 Comparing untuned and tuned SVM performance\n",
    "##### We utilise the ROC and AUC metrics to assess and compare the difference in performance of untuned and tuned SVM<br/> We show the ROC curve as well to visualise the difference in model performance. \n",
    "##### 2.3.1 TPR and AUC metric from binary predictions with 3 point ROC curve demonstration"
   ]
  },
  {
   "cell_type": "code",
   "execution_count": 24,
   "metadata": {},
   "outputs": [
    {
     "name": "stdout",
     "output_type": "stream",
     "text": [
      "roc_auc_score for Untuned SVM:  0.7809711234947977\n",
      "roc_auc_score for Tuned SVM:  0.8446864892248938\n"
     ]
    }
   ],
   "source": [
    "#Directly calculating AUC metric for comparison between tuned and untuned binary SVM from the discrete predictions given by SVM model\n",
    "#roc_curve returns the FPR, TPR and threshold values which are also used for plotting the ROC curve\n",
    "\n",
    "#Untuned SVM\n",
    "Untuned_TNR = 762 / (762 + 58) #True negative rate for untuned SVM based on confusion matrix\n",
    "FPR_Base_SVM, TPR_Base_SVM, Base_SVM_thres = roc_curve(yTest, Binary_SVM_untuned_pred)\n",
    "print(\"The following are the metrics for unTuned SVM:\")\n",
    "print(\"The True Positive Rate: \", print(TPR_Base_SVM))\n",
    "print(\"True Negative Rate: \", Untuned_TNR)\n",
    "print('The AUC score for Untuned SVM: ', roc_auc_score(yTest, Binary_SVM_untuned_pred))\n",
    "print(\"\")\n",
    "\n",
    "#Tuned SVM\n",
    "Tuned_TNR = 751 / (751 + 39) #True negative rate for tuned SVM based on confusion matrix\n",
    "FPR_Tuned_SVM, TPR_Tuned_SVM, Tuned_SVM_thres = roc_curve(yTest, Binary_SVM_Tuned_pred)\n",
    "print(\"The following are the metrics for Tuned SVM:\")\n",
    "print(\"The True Positive Rate: \", print(TPR_Tuned_SVM))\n",
    "print(\"True Negative Rate: \", Tuned_TNR)\n",
    "print('The AUC score for Tuned SVM: ', roc_auc_score(yTest, Binary_SVM_Tuned_pred))"
   ]
  },
  {
   "cell_type": "code",
   "execution_count": null,
   "metadata": {},
   "outputs": [],
   "source": [
    "#The resultant ROC curves produced by the base predictions for the SVM models gives a 3 points ROC curve as the SVM output is discrete.\n",
    "plt.subplots(1, figsize=(10,10))\n",
    "plt.grid()\n",
    "\n",
    "#This plot is the base SVM model\n",
    "plt.plot(FPR_Base_SVM, TPR_Base_SVM, linestyle='-', color='b', marker='o', label =\"Untuned SVM\")\n",
    "\n",
    "#This plot is our tuned SVM model\n",
    "plt.plot(FPR_Tuned_SVM, TPR_Tuned_SVM, linestyle='-', color='r', marker='x', label =\"Tuned SVM\")\n",
    "\n",
    "#Optimal Model line\n",
    "plt.plot([0, 1], ls=\"--\")\n",
    "\n",
    "#Diagonal Dotted Line\n",
    "plt.plot([0, 0], [1, 0] , c=\".7\"), plt.plot([1, 1] , c=\".7\")\n",
    "\n",
    "#Labels for title and axis\n",
    "plt.title('Receiver Operating Characteristic - Untuned and Tuned Binary SVM with discrete predictions', fontsize=22)\n",
    "plt.ylabel('True Positive Rate', fontsize=18)\n",
    "plt.xlabel('False Positive Rate', fontsize=18)\n",
    "plt.yticks(fontsize=16)\n",
    "plt.xticks(fontsize=16)\n",
    "plt.legend(fontsize=20)\n",
    "\n",
    "#Saves plot to be used in the report\n",
    "plt.savefig('./Plots/ROC_Binary_SVM_discrete.jpg', bbox_inches='tight')"
   ]
  },
  {
   "cell_type": "markdown",
   "metadata": {},
   "source": [
    "#### 2.3.2 Plot ROC curve using decision_function"
   ]
  },
  {
   "cell_type": "code",
   "execution_count": 20,
   "metadata": {},
   "outputs": [],
   "source": [
    "#Using roc_curve method we obtain the various values pertinent to assessing accuracy for models, we take for both the Untuned and Tuned SVM model predictions\n",
    "#Following which we also print the area under the ROC curve metric AUC. The higher the value the better the model\n",
    "\n",
    "#We use predict_proba to obtain probabilities of the output class label for ROC curve plotting for TPR vs FPR\n",
    "Binary_SVM_untuned_pred_proba = binary_SVM_untuned.decision_function(xTest_transformed)\n",
    "Binary_SVM_Tuned_pred_proba = Binary_SVM_Tuned.decision_function(xTest_transformed)"
   ]
  },
  {
   "cell_type": "code",
   "execution_count": 21,
   "metadata": {},
   "outputs": [
    {
     "name": "stdout",
     "output_type": "stream",
     "text": [
      "roc_auc_score for Untuned SVM:  0.9637290051050232\n",
      "roc_auc_score for Tuned SVM:  0.9264350570905264\n"
     ]
    }
   ],
   "source": [
    "#Untuned SVM using decision function to get estimated class probabilities\n",
    "FPR_Base_SVM_prob, TPR_Base_SVM_prob, Base_SVM_thres_prob = roc_curve(yTest, Binary_SVM_untuned_pred_proba)\n",
    "print('roc_auc_score for Untuned SVM: ', roc_auc_score(yTest, Binary_SVM_untuned_pred_proba))\n",
    "\n",
    "#Tuned SVM using decision function to get estimated class probabilities\n",
    "FPR_Tuned_SVM_prob, TPR_Tuned_SVM_prob, Tuned_SVM_thres_prob = roc_curve(yTest, Binary_SVM_Tuned_pred_proba)\n",
    "print('roc_auc_score for Tuned SVM: ', roc_auc_score(yTest, Binary_SVM_Tuned_pred_proba))\n"
   ]
  },
  {
   "cell_type": "code",
   "execution_count": 22,
   "metadata": {},
   "outputs": [
    {
     "data": {
      "image/png": "[encoded data removed]",
      "text/plain": [
       "<Figure size 720x720 with 1 Axes>"
      ]
     },
     "metadata": {
      "needs_background": "light"
     },
     "output_type": "display_data"
    }
   ],
   "source": [
    "#We can visualise the ROC curve to see the two ROC curves for the untuned and tuned model.\n",
    "\n",
    "plt.subplots(1, figsize=(10,10))\n",
    "plt.grid()\n",
    "\n",
    "#This plot is the base SVM model\n",
    "plt.plot(FPR_Base_SVM_prob, TPR_Base_SVM_prob, linestyle='-', color='b', marker='o', label =\"Untuned SVM\")\n",
    "\n",
    "#This plot is our tuned SVM model\n",
    "plt.plot(FPR_Tuned_SVM_prob, TPR_Tuned_SVM_prob, linestyle='-', color='r', marker='x', label =\"Tuned SVM\")\n",
    "\n",
    "#Optimal Model line\n",
    "plt.plot([0, 1], ls=\"--\")\n",
    "\n",
    "#Diagonal Dotted Line\n",
    "plt.plot([0, 0], [1, 0] , c=\".7\"), plt.plot([1, 1] , c=\".7\")\n",
    "\n",
    "#Labels for title and axis\n",
    "plt.title('Receiver Operating Characteristic - Untuned and Tuned Binary SVM', fontsize=22)\n",
    "plt.ylabel('True Positive Rate', fontsize=18)\n",
    "plt.xlabel('False Positive Rate', fontsize=18)\n",
    "plt.yticks(fontsize=16)\n",
    "plt.xticks(fontsize=16)\n",
    "plt.legend(fontsize=20)\n",
    "\n",
    "#Saves plot to be used in the report\n",
    "plt.savefig('./Plots/ROC_Binary_SVM_probability.jpg', bbox_inches='tight')"
   ]
  },
  {
   "cell_type": "markdown",
   "metadata": {},
   "source": [
    "## 2.4 Saving Trained models\n",
    "### We save both trained SVM Models for easy reference and future use in an out of sample test dataset"
   ]
  },
  {
   "cell_type": "code",
   "execution_count": 23,
   "metadata": {},
   "outputs": [],
   "source": [
    "#Saving tuned and base SVM models\n",
    "save_path = \"./Models/Binary-Classification\"\n",
    "Tuned_SVM_filename = 'Tuned_SVM_model.sav'\n",
    "Base_SVM_filename = 'Untuned_SVM_model.sav'\n",
    "\n",
    "#Using Pickle to save them in the Models folder\n",
    "pkl.dump(binary_SVM_untuned , open(os.path.join(save_path, Base_SVM_filename), 'wb'))\n",
    "pkl.dump(Binary_SVM_Tuned, open(os.path.join(save_path, Tuned_SVM_filename), 'wb'))\n"
   ]
  },
  {
   "cell_type": "code",
   "execution_count": 15,
   "metadata": {},
   "outputs": [
    {
     "name": "stdout",
     "output_type": "stream",
     "text": [
      "{'C': 100, 'gamma': 0.01, 'kernel': 'rbf'}\n"
     ]
    }
   ],
   "source": [
    "#Code to test loading of trained tuned SVM model\n",
    "load_tuned_SVM = pkl.load(open('.\\Models\\Binary-Classification\\Tuned_SVM_model.sav', 'rb'))\n",
    "#Gets the best parameter values from loaded model\n",
    "best_param = load_tuned_SVM.best_params_\n",
    "#Prints out the parameter values\n",
    "#Output should match earlier .best_params_ output\n",
    "print(best_param)"
   ]
  },
  {
   "cell_type": "code",
   "execution_count": null,
   "metadata": {},
   "outputs": [],
   "source": []
  }
 ],
 "metadata": {
  "interpreter": {
   "hash": "290ec9070849e8daf2fe4bd922bd966932468e9fb905fb4b926b0f4d9e51cc32"
  },
  "kernelspec": {
   "display_name": "Python 3.7.11 64-bit ('gym': conda)",
   "language": "python",
   "name": "python3"
  },
  "language_info": {
   "codemirror_mode": {
    "name": "ipython",
    "version": 3
   },
   "file_extension": ".py",
   "mimetype": "text/x-python",
   "name": "python",
   "nbconvert_exporter": "python",
   "pygments_lexer": "ipython3",
   "version": "3.7.11"
  },
  "orig_nbformat": 4
 },
 "nbformat": 4,
 "nbformat_minor": 2
}
