{
 "cells": [
  {
   "cell_type": "markdown",
   "metadata": {},
   "source": [
    "# Binary Task SVM Notebook\n",
    "\n",
    "### Contains Code for Binary task SVM Model creation, training and validation(hyperparameter tuning)"
   ]
  },
  {
   "cell_type": "code",
   "execution_count": 1,
   "metadata": {},
   "outputs": [
    {
     "name": "stderr",
     "output_type": "stream",
     "text": [
      "Using TensorFlow backend.\n"
     ]
    }
   ],
   "source": [
    "# Import required libraries\n",
    "import numpy as np\n",
    "import pandas as pd\n",
    "import pickle as pkl\n",
    "import os\n",
    "import cv2\n",
    "import matplotlib.pyplot as plt\n",
    "import tensorflow as tf\n",
    "import keras\n",
    "from sklearn.decomposition import PCA\n",
    "\n",
    "#tqdm is for progress bar functionality in code, must be installed for code to function (TO DO: include exception if tqdm not imported )\n",
    "from tqdm import tqdm\n",
    "\n",
    "#Importing libraries used for SVM classification and model assessment\n",
    "from sklearn.model_selection import train_test_split\n",
    "from sklearn.metrics import classification_report, confusion_matrix\n",
    "from sklearn.svm import SVC\n",
    "from sklearn.model_selection import GridSearchCV\n",
    "from sklearn.metrics import roc_curve, roc_auc_score\n",
    "\n",
    "#Importing functions notebook containing functions created to streamline code\n",
    "from ipynb.fs.full.functions import load_dataset, dataset_PCA, Tuned_SVM_train, SVM_predictions\n"
   ]
  },
  {
   "cell_type": "markdown",
   "metadata": {},
   "source": [
    "# 1. Loading Dataset and doing final preprocessing\n",
    "### We Load the preprocessed data and carry out PCA on the image array here for the binary training and test data\n",
    "## 1.1 Loading Datasets"
   ]
  },
  {
   "cell_type": "code",
   "execution_count": 2,
   "metadata": {},
   "outputs": [
    {
     "name": "stdout",
     "output_type": "stream",
     "text": [
      "Datasets successfully loaded with shapes:\n",
      "Y Shape:\n",
      "(3000,)\n",
      "X Shape:\n",
      "(3000, 784)\n"
     ]
    }
   ],
   "source": [
    "#Calls load_dataset function from \"functions.ipynb\" which loads the X data and Y label datasets for binary task from the inputted file paths\n",
    "#It prints the loaded array shapes to verify it has completed properly\n",
    "X, Y = load_dataset('.\\dataset\\Image_DF_Flat.pkl', './dataset/Y_Binary_label.pkl')"
   ]
  },
  {
   "cell_type": "markdown",
   "metadata": {},
   "source": [
    "##### We can do PCA for the images but must be done separately for binary and multiclass task as the data must be split first<br/> This is because we must do PCA on the training data only (fit and transform it) and then only use the transform on the test data to prevent bias<br/> We select 400 components as it provides around 96% explained variance as shown previously."
   ]
  },
  {
   "cell_type": "markdown",
   "metadata": {},
   "source": [
    "## 1.2 Splitting data in to training and testing sets"
   ]
  },
  {
   "cell_type": "code",
   "execution_count": 3,
   "metadata": {},
   "outputs": [],
   "source": [
    "# Split the data into training and testing(70% training and 30% testing data)\n",
    "# In this case the testing data will be used as the validation dataset\n",
    "# Validation in terms of using it to assess and tune the hyperparameter values\n",
    "xTrain,xTest,yTrain,yTest=train_test_split(X, Y, train_size = 0.7)\n",
    "\n",
    "#Rescaling the dataframe as the pixel values range from 0 to 255\n",
    "#We want it to be between 0 to 1 for easier classification for SVM\n",
    "xTrain_Scaled = xTrain/255\n",
    "xTest_Scaled = xTest/255"
   ]
  },
  {
   "cell_type": "markdown",
   "metadata": {},
   "source": [
    "## 1.3 PCA"
   ]
  },
  {
   "cell_type": "code",
   "execution_count": 4,
   "metadata": {},
   "outputs": [
    {
     "name": "stdout",
     "output_type": "stream",
     "text": [
      "PCA conducted with 400 components.\n",
      "The percentage of Explained Variance of the dataset from PCA is: 96.46948362117037\n"
     ]
    }
   ],
   "source": [
    "#Initialising PCA with 400 components determined in preprocessing notebook\n",
    "#Calls the dataset_PCA function defined in \"functions.ipynb\" to carry out PCa\n",
    "#Input arguements are number of components, xTrain data and xTest data\n",
    "#We put in the scaled X train and test data\n",
    "xTrain_PCA, xTest_transformed = dataset_PCA(400, xTrain_Scaled, xTest_Scaled)\n",
    "\n",
    "#Function returns the resultant explained variance percentage when we use 400 components."
   ]
  },
  {
   "cell_type": "markdown",
   "metadata": {},
   "source": [
    "# 2. Model Building\n",
    "#### This section describes the training and testing of the Binary SVM models.\n",
    "## 2.1 SVM without tuning\n",
    "### 2.1.1 Training<br/> We first train SVM without hyperparameter tuning to assess the performance of the model with the training and test data"
   ]
  },
  {
   "cell_type": "code",
   "execution_count": 5,
   "metadata": {},
   "outputs": [
    {
     "data": {
      "text/plain": [
       "SVC()"
      ]
     },
     "execution_count": 5,
     "metadata": {},
     "output_type": "execute_result"
    }
   ],
   "source": [
    "#Training model using SVC without hyperparameter tuning\n",
    "binary_SVM_untuned = SVC()\n",
    "binary_SVM_untuned.fit(xTrain_PCA, yTrain.values.ravel())"
   ]
  },
  {
   "cell_type": "markdown",
   "metadata": {},
   "source": [
    "### 2.1.2 Binary Untuned SVM Obtaining the Prediction results and performance<br/> Showing the confusion matrix and general assessment metrics using the classification report"
   ]
  },
  {
   "cell_type": "code",
   "execution_count": 6,
   "metadata": {},
   "outputs": [
    {
     "name": "stdout",
     "output_type": "stream",
     "text": [
      "The Results for SVM are:\n",
      "              precision    recall  f1-score   support\n",
      "\n",
      "         0.0       0.93      0.58      0.72       144\n",
      "         1.0       0.93      0.99      0.96       756\n",
      "\n",
      "    accuracy                           0.93       900\n",
      "   macro avg       0.93      0.79      0.84       900\n",
      "weighted avg       0.93      0.93      0.92       900\n",
      "\n",
      "The confusion matrix is:\n",
      "[[ 84  60]\n",
      " [  6 750]]\n"
     ]
    }
   ],
   "source": [
    "#Calls SVM_predictions function from \"functions.ipynb\" to carry out the predictions using the base SVM model we made.\n",
    "#It prints out the classification report of the predictions as well as the confusion matrix\n",
    "#Returns the predictions\n",
    "Binary_SVM_untuned_pred = SVM_predictions(binary_SVM_untuned, xTest_transformed, yTest)"
   ]
  },
  {
   "cell_type": "markdown",
   "metadata": {},
   "source": [
    "## 2.2 SVM with validation\n",
    "\n",
    "### 2.2.1 Training<br/> We now use SVM again but with validation, tuning of the hyperparameter values<br/> This is done using an exhaustive Gridsearch of the parameter values given. <br/> After model is trained, we obtain the best parameters found by the gridsearch"
   ]
  },
  {
   "cell_type": "code",
   "execution_count": 7,
   "metadata": {},
   "outputs": [],
   "source": [
    "#Using SVM but this time with gridsearch to tune hyperparameter\n",
    "\n",
    "#Define the parameter ranges\n",
    "#We test various values of:\n",
    "# C\n",
    "# gamma\n",
    "# Type of Kernel to use\n",
    "param_grid = {\n",
    "    'C': [0.1, 1, 10, 100, 1000],\n",
    "    'gamma': [1, 0.1, 0.01, 0.001, 0.0001],\n",
    "    'kernel': ['rbf','sigmoid','linear']\n",
    "}"
   ]
  },
  {
   "cell_type": "code",
   "execution_count": 8,
   "metadata": {},
   "outputs": [
    {
     "name": "stdout",
     "output_type": "stream",
     "text": [
      "Fitting 10 folds for each of 75 candidates, totalling 750 fits\n",
      "Tuned SVM Model successfully trained and tuned\n",
      "The best hyperparameters found by gridsearch are:\n",
      "{'C': 100, 'gamma': 0.01, 'kernel': 'rbf'}\n",
      "The new model created after hyperparameter tuning is:\n",
      "SVC(C=100, gamma=0.01)\n"
     ]
    }
   ],
   "source": [
    "#Calls Tuned_SVM_train from \"functions.ipynb\" to conduct training and tuning of SVM model using gridsearch\n",
    "#Full details on the input arguements listed in the functions notebook\n",
    "\n",
    "#Function prints the resultant best hyperparameters found and new details of the model\n",
    "#Returns the tuned model\n",
    "Binary_SVM_Tuned = Tuned_SVM_train(param_grid, 10, xTrain_PCA, yTrain, False)\n",
    "\n",
    "#est time = 5mins"
   ]
  },
  {
   "cell_type": "markdown",
   "metadata": {},
   "source": [
    "### 2.2.2 Binary Tuned SVM Obtaining the Prediction results and performance<br/> Showing the confusion matrix and general assessment metrics using the classification report"
   ]
  },
  {
   "cell_type": "code",
   "execution_count": 9,
   "metadata": {},
   "outputs": [
    {
     "name": "stdout",
     "output_type": "stream",
     "text": [
      "The Results for SVM are:\n",
      "              precision    recall  f1-score   support\n",
      "\n",
      "         0.0       0.89      0.76      0.82       144\n",
      "         1.0       0.96      0.98      0.97       756\n",
      "\n",
      "    accuracy                           0.95       900\n",
      "   macro avg       0.93      0.87      0.90       900\n",
      "weighted avg       0.95      0.95      0.95       900\n",
      "\n",
      "The confusion matrix is:\n",
      "[[110  34]\n",
      " [ 13 743]]\n"
     ]
    }
   ],
   "source": [
    "#Calls SVM_predictions function from \"functions.ipynb\"\n",
    "#This time we are doing predictions with the tuned SVM model\n",
    "Binary_SVM_Tuned_pred = SVM_predictions(Binary_SVM_Tuned, xTest_transformed, yTest)\n",
    "\n",
    "#It prints out the classification report of the predictions as well as the confusion matrix\n",
    "#Returns the predictions"
   ]
  },
  {
   "cell_type": "markdown",
   "metadata": {},
   "source": [
    "## 2.3 Comparing untuned and tuned SVM performance\n",
    "### We utilise the ROC and AUC metrics to assess and compare the difference in performance of untuned and tuned SVM<br/> We show the ROC curve as well to visualise the difference in model performance."
   ]
  },
  {
   "cell_type": "code",
   "execution_count": 10,
   "metadata": {},
   "outputs": [
    {
     "name": "stdout",
     "output_type": "stream",
     "text": [
      "ERROR! Session/line number was not unique in database. History logging moved to new session 276\n",
      "roc_auc_score for Untuned SVM:  0.7876984126984127\n",
      "roc_auc_score for Tuned SVM:  0.8733465608465608\n"
     ]
    }
   ],
   "source": [
    "#Using roc_curve method we obtain the various values pertinent to assessing accuracy for models, we take for both the Untuned and Tuned SVM model predictions\n",
    "#Following which we also print the area under the ROC curve metric AUC. The higher the value the better the model\n",
    "\n",
    "#Untuned SVM\n",
    "FPR_Base_SVM, TPR_Base_SVM, Base_SVM_thres = roc_curve(yTest, Binary_SVM_untuned_pred)\n",
    "print('roc_auc_score for Untuned SVM: ', roc_auc_score(yTest, Binary_SVM_untuned_pred))\n",
    "\n",
    "\n",
    "#Tuned SVM\n",
    "FPR_Tuned_SVM, TPR_Tuned_SVM_SVM, Tuned_SVM_SVM_thres = roc_curve(yTest, Binary_SVM_Tuned_pred)\n",
    "print('roc_auc_score for Tuned SVM: ', roc_auc_score(yTest, Binary_SVM_Tuned_pred))"
   ]
  },
  {
   "cell_type": "code",
   "execution_count": 11,
   "metadata": {},
   "outputs": [
    {
     "data": {
      "image/png": "[encoded data removed]",
      "text/plain": [
       "<Figure size 720x720 with 1 Axes>"
      ]
     },
     "metadata": {
      "needs_background": "light"
     },
     "output_type": "display_data"
    }
   ],
   "source": [
    "#We can visualise the ROC curve to see the two ROC curves for the untuned and tuned model.\n",
    "\n",
    "plt.subplots(1, figsize=(10,10))\n",
    "plt.grid()\n",
    "\n",
    "#This plot is the base SVM model\n",
    "plt.plot(FPR_Base_SVM, TPR_Base_SVM, linestyle='-', color='b', marker='o', label =\"Untuned SVM\")\n",
    "\n",
    "#This plot is our tuned SVM model\n",
    "plt.plot(FPR_Tuned_SVM, TPR_Tuned_SVM_SVM, linestyle='-', color='r', marker='x', label =\"Tuned SVM\")\n",
    "\n",
    "#Optimal Model line\n",
    "plt.plot([0, 1], ls=\"--\")\n",
    "\n",
    "#Diagonal Dotted Line\n",
    "plt.plot([0, 0], [1, 0] , c=\".7\"), plt.plot([1, 1] , c=\".7\")\n",
    "\n",
    "#Labels for title and axis\n",
    "plt.title('Receiver Operating Characteristic - Untuned and Tuned Binary SVM', fontsize=22)\n",
    "plt.ylabel('True Positive Rate', fontsize=18)\n",
    "plt.xlabel('False Positive Rate', fontsize=18)\n",
    "plt.yticks(fontsize=16)\n",
    "plt.xticks(fontsize=16)\n",
    "plt.legend(fontsize=20)\n",
    "\n",
    "#Saves plot to be used in the report\n",
    "plt.savefig('./Plots/ROC_Binary_SVM.jpg', bbox_inches='tight')"
   ]
  },
  {
   "cell_type": "markdown",
   "metadata": {},
   "source": [
    "## 2.4 Saving Trained models\n",
    "### We save both trained SVM Models for easy reference and future use in an out of sample test dataset"
   ]
  },
  {
   "cell_type": "code",
   "execution_count": 12,
   "metadata": {},
   "outputs": [],
   "source": [
    "#Saving tuned and base SVM models\n",
    "save_path = \"./Models/Binary-Classification\"\n",
    "Tuned_SVM_filename = 'Tuned_SVM_model.sav'\n",
    "Base_SVM_filename = 'Untuned_SVM_model.sav'\n",
    "\n",
    "#Using Pickle to save them in the Models folder\n",
    "pkl.dump(binary_SVM_untuned , open(os.path.join(save_path, Base_SVM_filename), 'wb'))\n",
    "pkl.dump(Binary_SVM_Tuned, open(os.path.join(save_path, Tuned_SVM_filename), 'wb'))\n"
   ]
  },
  {
   "cell_type": "code",
   "execution_count": 16,
   "metadata": {},
   "outputs": [
    {
     "name": "stdout",
     "output_type": "stream",
     "text": [
      "{'C': 100, 'gamma': 0.01, 'kernel': 'rbf'}\n"
     ]
    }
   ],
   "source": [
    "#Code to test loading of trained tuned SVM model\n",
    "load_tuned_SVM = pkl.load(open('.\\Models\\Binary-Classification\\Tuned_SVM_model.sav', 'rb'))\n",
    "#Gets the best parameter values from loaded model\n",
    "best_param = load_tuned_SVM.best_params_\n",
    "#Prints out the parameter values\n",
    "#Output should match earlier .best_params_ output\n",
    "print(best_param)"
   ]
  }
 ],
 "metadata": {
  "interpreter": {
   "hash": "290ec9070849e8daf2fe4bd922bd966932468e9fb905fb4b926b0f4d9e51cc32"
  },
  "kernelspec": {
   "display_name": "Python 3.7.11 64-bit ('gym': conda)",
   "language": "python",
   "name": "python3"
  },
  "language_info": {
   "codemirror_mode": {
    "name": "ipython",
    "version": 3
   },
   "file_extension": ".py",
   "mimetype": "text/x-python",
   "name": "python",
   "nbconvert_exporter": "python",
   "pygments_lexer": "ipython3",
   "version": "3.7.11"
  },
  "orig_nbformat": 4
 },
 "nbformat": 4,
 "nbformat_minor": 2
}
