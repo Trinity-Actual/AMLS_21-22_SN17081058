{
 "cells": [
  {
   "cell_type": "markdown",
   "metadata": {},
   "source": [
    "# Binary Task CNN Notebook\n",
    "\n",
    "### Contains Code for Binary task CNN Model creation, training and testing<br/> CNN will be an implementation of AlexNet equivalent structure 5 convolutional layers and 3 fully connected layers\n",
    "##### Produces 3 plots for report, train validation accuracy, confusion matrix and ROC curve"
   ]
  },
  {
   "cell_type": "code",
   "execution_count": 1,
   "metadata": {},
   "outputs": [
    {
     "name": "stderr",
     "output_type": "stream",
     "text": [
      "Using TensorFlow backend.\n"
     ]
    }
   ],
   "source": [
    "# Import required libraries\n",
    "import numpy as np\n",
    "from numpy import expand_dims\n",
    "import pandas as pd\n",
    "import os\n",
    "import matplotlib.pyplot as plt\n",
    "import tensorflow as tf\n",
    "import keras\n",
    "from sklearn.model_selection import train_test_split\n",
    "from sklearn.decomposition import PCA\n",
    "\n",
    "#tqdm is for progress bar functionality in code, must be installed for code to function (TO DO: include exception if tqdm not imported )\n",
    "from tqdm import tqdm\n",
    "\n",
    "import pickle as pkl\n",
    "import cv2\n",
    "\n",
    "#Libraries for CNN model\n",
    "from keras import metrics\n",
    "from keras.models import Sequential\n",
    "from keras.layers import Dense, Activation, Dropout, Flatten, Conv2D, MaxPooling2D\n",
    "from keras.layers.normalization import BatchNormalization\n",
    "from sklearn.metrics import roc_curve, roc_auc_score\n",
    "from sklearn.metrics import classification_report, confusion_matrix, ConfusionMatrixDisplay\n",
    "from keras.models import model_from_json\n",
    "from keras.callbacks import ReduceLROnPlateau\n",
    "\n",
    "#Importing functions notebook containing functions created to streamline code\n",
    "from ipynb.fs.full.functions import load_dataset_CNN"
   ]
  },
  {
   "cell_type": "markdown",
   "metadata": {},
   "source": [
    "# 1. Loading Labels and Resized Image Dataset\n",
    "### 1.1 Loading Dataset via load_dataset_CNN function in \"function.ipynb\""
   ]
  },
  {
   "cell_type": "code",
   "execution_count": 2,
   "metadata": {},
   "outputs": [
    {
     "name": "stdout",
     "output_type": "stream",
     "text": [
      "Datasets successfully loaded with shapes:\n",
      "X Shape:\n",
      "(3000, 50, 50, 1)\n",
      "Y Shape:\n",
      "(3000,)\n"
     ]
    }
   ],
   "source": [
    "#Calls load_dataset_CNN function from function.ipynb to obtain the MRI images dataset and the binary label pickle file and loads it respectively \n",
    "#into our X and Y value. Function also conducts rescaling of image pixel data from 0 to 255 to 0 to 1 range.\n",
    "X, Y = load_dataset_CNN('./dataset/CNN_Images_2D_DF.pkl', './dataset/Y_Binary_label.pkl')"
   ]
  },
  {
   "cell_type": "markdown",
   "metadata": {},
   "source": [
    "### 1.2 Splitting dataset"
   ]
  },
  {
   "cell_type": "code",
   "execution_count": 3,
   "metadata": {},
   "outputs": [],
   "source": [
    "# Split the data into training and testing(70% training and 30% testing data)\n",
    "# Setting random_state to 42 keeps the same random generator seed to be used.\n",
    "# This maintains the split used across code executions so results obtained will be the same for other users\n",
    "xTrain,xTest,yTrain,yTest=train_test_split(X, Y, train_size = 0.7 , random_state = 42)\n",
    "\n",
    "#To verify split data is the same \n",
    "#print(xTrain)"
   ]
  },
  {
   "cell_type": "markdown",
   "metadata": {},
   "source": [
    "#### 1.2.1 Displaying label distribution<br/> We show the the number of samples in each class label "
   ]
  },
  {
   "cell_type": "code",
   "execution_count": 4,
   "metadata": {},
   "outputs": [
    {
     "name": "stdout",
     "output_type": "stream",
     "text": [
      "Training dataset number of samples per class:\n",
      "1.0    1780\n",
      "0.0     320\n",
      "Name: MRI_Binary_Label, dtype: int64\n",
      "Test dataset number of samples per class:\n",
      "1.0    766\n",
      "0.0    134\n",
      "Name: MRI_Binary_Label, dtype: int64\n"
     ]
    }
   ],
   "source": [
    "#Number of Samples per class in training data\n",
    "print(\"Training dataset number of samples per class:\")\n",
    "print(yTrain.value_counts())\n",
    "\n",
    "#Number of Samples per class in test data\n",
    "print(\"Test dataset number of samples per class:\")\n",
    "print(yTest.value_counts())\n",
    "\n",
    "#These values should match the number of samples in the binary SVM train test splits"
   ]
  },
  {
   "cell_type": "markdown",
   "metadata": {},
   "source": [
    "# 2. CNN Model Building"
   ]
  },
  {
   "cell_type": "markdown",
   "metadata": {},
   "source": [
    "### 2.1 Defining model structure"
   ]
  },
  {
   "cell_type": "code",
   "execution_count": 5,
   "metadata": {},
   "outputs": [
    {
     "name": "stdout",
     "output_type": "stream",
     "text": [
      "Model: \"Binary_CNN\"\n",
      "_________________________________________________________________\n",
      "Layer (type)                 Output Shape              Param #   \n",
      "=================================================================\n",
      "conv0 (Conv2D)               (None, 13, 13, 96)        11712     \n",
      "_________________________________________________________________\n",
      "bn0 (BatchNormalization)     (None, 13, 13, 96)        384       \n",
      "_________________________________________________________________\n",
      "activation_1 (Activation)    (None, 13, 13, 96)        0         \n",
      "_________________________________________________________________\n",
      "max_pooling2d_1 (MaxPooling2 (None, 7, 7, 96)          0         \n",
      "_________________________________________________________________\n",
      "conv1 (Conv2D)               (None, 7, 7, 256)         614656    \n",
      "_________________________________________________________________\n",
      "bn1 (BatchNormalization)     (None, 7, 7, 256)         1024      \n",
      "_________________________________________________________________\n",
      "activation_2 (Activation)    (None, 7, 7, 256)         0         \n",
      "_________________________________________________________________\n",
      "max_pooling2d_2 (MaxPooling2 (None, 4, 4, 256)         0         \n",
      "_________________________________________________________________\n",
      "conv2 (Conv2D)               (None, 4, 4, 384)         885120    \n",
      "_________________________________________________________________\n",
      "bn2 (BatchNormalization)     (None, 4, 4, 384)         1536      \n",
      "_________________________________________________________________\n",
      "activation_3 (Activation)    (None, 4, 4, 384)         0         \n",
      "_________________________________________________________________\n",
      "conv3 (Conv2D)               (None, 4, 4, 384)         1327488   \n",
      "_________________________________________________________________\n",
      "bn3 (BatchNormalization)     (None, 4, 4, 384)         1536      \n",
      "_________________________________________________________________\n",
      "activation_4 (Activation)    (None, 4, 4, 384)         0         \n",
      "_________________________________________________________________\n",
      "conv4 (Conv2D)               (None, 4, 4, 256)         884992    \n",
      "_________________________________________________________________\n",
      "bn4 (BatchNormalization)     (None, 4, 4, 256)         1024      \n",
      "_________________________________________________________________\n",
      "activation_5 (Activation)    (None, 4, 4, 256)         0         \n",
      "_________________________________________________________________\n",
      "max_pooling2d_3 (MaxPooling2 (None, 2, 2, 256)         0         \n",
      "_________________________________________________________________\n",
      "flatten_1 (Flatten)          (None, 1024)              0         \n",
      "_________________________________________________________________\n",
      "fc0 (Dense)                  (None, 2500)              2562500   \n",
      "_________________________________________________________________\n",
      "bnfc0 (BatchNormalization)   (None, 2500)              10000     \n",
      "_________________________________________________________________\n",
      "activation_6 (Activation)    (None, 2500)              0         \n",
      "_________________________________________________________________\n",
      "dropout_1 (Dropout)          (None, 2500)              0         \n",
      "_________________________________________________________________\n",
      "fc1 (Dense)                  (None, 2500)              6252500   \n",
      "_________________________________________________________________\n",
      "bnfc1 (BatchNormalization)   (None, 2500)              10000     \n",
      "_________________________________________________________________\n",
      "activation_7 (Activation)    (None, 2500)              0         \n",
      "_________________________________________________________________\n",
      "dropout_2 (Dropout)          (None, 2500)              0         \n",
      "_________________________________________________________________\n",
      "fc2 (Dense)                  (None, 500)               1250500   \n",
      "_________________________________________________________________\n",
      "bnfc2 (BatchNormalization)   (None, 500)               2000      \n",
      "_________________________________________________________________\n",
      "activation_8 (Activation)    (None, 500)               0         \n",
      "_________________________________________________________________\n",
      "dropout_3 (Dropout)          (None, 500)               0         \n",
      "_________________________________________________________________\n",
      "fcOut (Dense)                (None, 1)                 501       \n",
      "_________________________________________________________________\n",
      "batch_normalization_1 (Batch (None, 1)                 4         \n",
      "_________________________________________________________________\n",
      "activation_9 (Activation)    (None, 1)                 0         \n",
      "=================================================================\n",
      "Total params: 13,817,477\n",
      "Trainable params: 13,803,723\n",
      "Non-trainable params: 13,754\n",
      "_________________________________________________________________\n"
     ]
    }
   ],
   "source": [
    "#Initialising the Model\n",
    "Binary_CNN = Sequential(name = 'Binary_CNN')\n",
    "\n",
    "#We use the same number of filters in all convolutional layers of the AlexNet Model\n",
    "#Number of filters in the fully connected layers will be reduced to 2500 2500 and 500\n",
    "#This is to reduce size of CNN so it can be fit into Github without LFS\n",
    "# Final output layer will have 1 node as it is binary classification\n",
    "\n",
    "#1st Convolutional Layer\n",
    "#Input arguements\n",
    "#Filters: Number of output filters in convolution\n",
    "Binary_CNN.add(Conv2D(filters = 96, input_shape = (X.shape[1], X.shape[2], 1), kernel_size = (11, 11), strides = (4, 4), padding = 'same', name=\"conv0\"))\n",
    "Binary_CNN.add(BatchNormalization(name = 'bn0'))\n",
    "Binary_CNN.add(Activation('relu'))\n",
    "Binary_CNN.add(MaxPooling2D(pool_size=(2,2), strides=(2,2), padding='same'))\n",
    "\n",
    "\n",
    "#2nd Convolutional Layer\n",
    "Binary_CNN.add(Conv2D(filters = 256, kernel_size = (5, 5), strides = (1, 1), padding = 'same', name=\"conv1\"))\n",
    "Binary_CNN.add(BatchNormalization(name = 'bn1'))\n",
    "Binary_CNN.add(Activation('relu'))\n",
    "Binary_CNN.add(MaxPooling2D(pool_size=(2,2), strides=(2,2), padding='same'))\n",
    "\n",
    "\n",
    "#3rd Convolutional Layer\n",
    "Binary_CNN.add(Conv2D(filters = 384, kernel_size = (3, 3), strides = (1, 1), padding = 'same', name=\"conv2\"))\n",
    "Binary_CNN.add(BatchNormalization(name = 'bn2'))\n",
    "Binary_CNN.add(Activation('relu'))\n",
    "\n",
    "\n",
    "#4th Convolutional Layer\n",
    "Binary_CNN.add(Conv2D(filters = 384, kernel_size = (3, 3), strides = (1, 1), padding = 'same', name=\"conv3\"))\n",
    "Binary_CNN.add(BatchNormalization(name = 'bn3'))\n",
    "Binary_CNN.add(Activation('relu'))\n",
    "\n",
    "\n",
    "#5th Convolutional Layer\n",
    "Binary_CNN.add(Conv2D(filters = 256, kernel_size = (3, 3), strides = (1, 1), padding = 'same', name=\"conv4\"))\n",
    "Binary_CNN.add(BatchNormalization(name = 'bn4'))\n",
    "Binary_CNN.add(Activation('relu'))\n",
    "Binary_CNN.add(MaxPooling2D(pool_size=(2,2), strides=(2,2), padding='same'))\n",
    "\n",
    "\n",
    "#Passing through the Fully connected layers\n",
    "#We set the number of neurons per layer as 2500 for now\n",
    "#Less than orignal 4096\n",
    "Binary_CNN.add(Flatten())\n",
    "\n",
    "#1st Fully Connected Layer\n",
    "Binary_CNN.add(Dense(2500, name = 'fc0'))\n",
    "Binary_CNN.add(BatchNormalization(name = 'bnfc0'))\n",
    "Binary_CNN.add(Activation('relu'))\n",
    "Binary_CNN.add(Dropout(0.4))\n",
    "\n",
    "#2nd Fully Connected Layer\n",
    "Binary_CNN.add(Dense(2500, name = 'fc1'))\n",
    "Binary_CNN.add(BatchNormalization(name = 'bnfc1'))\n",
    "Binary_CNN.add(Activation('relu'))\n",
    "Binary_CNN.add(Dropout(0.4))\n",
    "\n",
    "#3rd Fully Connected Layer\n",
    "Binary_CNN.add(Dense(500, name = 'fc2'))\n",
    "Binary_CNN.add(BatchNormalization(name = 'bnfc2'))\n",
    "Binary_CNN.add(Activation('relu'))\n",
    "Binary_CNN.add(Dropout(0.4))\n",
    "\n",
    "\n",
    "#Output Layer\n",
    "Binary_CNN.add(Dense(1, name = 'fcOut'))\n",
    "Binary_CNN.add(BatchNormalization())\n",
    "Binary_CNN.add(Activation('sigmoid'))\n",
    "\n",
    "\n",
    "\n",
    "Binary_CNN.summary()"
   ]
  },
  {
   "cell_type": "markdown",
   "metadata": {},
   "source": [
    "### 2.2 Compiling Binary CNN Model"
   ]
  },
  {
   "cell_type": "code",
   "execution_count": 6,
   "metadata": {},
   "outputs": [],
   "source": [
    "#Compiling the model\n",
    "#Loss function is binary_crossentropy\n",
    "#Optimizer is Adam \n",
    "#Metrics to be observed are\n",
    "# Accuracy (both training and validation)\n",
    "# Binary Accuracy\n",
    "# AUC metric\n",
    "Binary_CNN.compile(loss='binary_crossentropy', optimizer= 'adam', metrics=['accuracy', metrics.BinaryAccuracy(), metrics.AUC()])"
   ]
  },
  {
   "cell_type": "markdown",
   "metadata": {},
   "source": [
    "### 2.3 Model Training\n",
    "#### 2.3.1 Defining model training callbacks and parameters"
   ]
  },
  {
   "cell_type": "code",
   "execution_count": 7,
   "metadata": {},
   "outputs": [],
   "source": [
    "#Learning Rate callback\n",
    "lrr = ReduceLROnPlateau(monitor = 'val_accuracy', factor = 0.01, patience = 3, min_lr = 1e-5) \n",
    "\n",
    "#Defining model training parameters\n",
    "batch_size = 32\n",
    "epochs = 30\n",
    "learn_rate = 0.001"
   ]
  },
  {
   "cell_type": "markdown",
   "metadata": {},
   "source": [
    "#### 2.3.2 Training Model with validation set derived from training dataset"
   ]
  },
  {
   "cell_type": "code",
   "execution_count": 8,
   "metadata": {},
   "outputs": [
    {
     "name": "stdout",
     "output_type": "stream",
     "text": [
      "Train on 1470 samples, validate on 630 samples\n",
      "Epoch 1/30\n",
      "1470/1470 [==============================] - 7s 5ms/step - loss: 0.6699 - accuracy: 0.7143 - binary_accuracy: 0.7143 - auc_1: 0.7313 - val_loss: 0.7194 - val_accuracy: 0.3222 - val_binary_accuracy: 0.3222 - val_auc_1: 0.4672\n",
      "Epoch 2/30\n",
      "1470/1470 [==============================] - 3s 2ms/step - loss: 0.5923 - accuracy: 0.8122 - binary_accuracy: 0.8122 - auc_1: 0.8513 - val_loss: 0.8573 - val_accuracy: 0.1603 - val_binary_accuracy: 0.1603 - val_auc_1: 0.3590\n",
      "Epoch 3/30\n",
      "1470/1470 [==============================] - 3s 2ms/step - loss: 0.5266 - accuracy: 0.8558 - binary_accuracy: 0.8558 - auc_1: 0.9148 - val_loss: 0.5479 - val_accuracy: 0.8540 - val_binary_accuracy: 0.8540 - val_auc_1: 0.6860\n",
      "Epoch 4/30\n",
      "1470/1470 [==============================] - 3s 2ms/step - loss: 0.4765 - accuracy: 0.9020 - binary_accuracy: 0.9020 - auc_1: 0.9568 - val_loss: 1.2866 - val_accuracy: 0.1444 - val_binary_accuracy: 0.1444 - val_auc_1: 0.7718\n",
      "Epoch 5/30\n",
      "1470/1470 [==============================] - 3s 2ms/step - loss: 0.4413 - accuracy: 0.9286 - binary_accuracy: 0.9286 - auc_1: 0.9546 - val_loss: 1.3128 - val_accuracy: 0.1587 - val_binary_accuracy: 0.1587 - val_auc_1: 0.8501\n",
      "Epoch 6/30\n",
      "1470/1470 [==============================] - 3s 2ms/step - loss: 0.4139 - accuracy: 0.9395 - binary_accuracy: 0.9395 - auc_1: 0.9735 - val_loss: 1.9985 - val_accuracy: 0.1524 - val_binary_accuracy: 0.1524 - val_auc_1: 0.8846\n",
      "Epoch 7/30\n",
      "1470/1470 [==============================] - 3s 2ms/step - loss: 0.3801 - accuracy: 0.9599 - binary_accuracy: 0.9599 - auc_1: 0.9851 - val_loss: 0.9311 - val_accuracy: 0.3238 - val_binary_accuracy: 0.3238 - val_auc_1: 0.8958\n",
      "Epoch 8/30\n",
      "1470/1470 [==============================] - 3s 2ms/step - loss: 0.3746 - accuracy: 0.9735 - binary_accuracy: 0.9735 - auc_1: 0.9946 - val_loss: 0.5933 - val_accuracy: 0.7444 - val_binary_accuracy: 0.7444 - val_auc_1: 0.9016\n",
      "Epoch 9/30\n",
      "1470/1470 [==============================] - 3s 2ms/step - loss: 0.3709 - accuracy: 0.9741 - binary_accuracy: 0.9741 - auc_1: 0.9948 - val_loss: 0.4934 - val_accuracy: 0.8889 - val_binary_accuracy: 0.8889 - val_auc_1: 0.9173\n",
      "Epoch 10/30\n",
      "1470/1470 [==============================] - 3s 2ms/step - loss: 0.3867 - accuracy: 0.9599 - binary_accuracy: 0.9599 - auc_1: 0.9876 - val_loss: 0.4457 - val_accuracy: 0.9222 - val_binary_accuracy: 0.9222 - val_auc_1: 0.9522\n",
      "Epoch 11/30\n",
      "1470/1470 [==============================] - 3s 2ms/step - loss: 0.3700 - accuracy: 0.9782 - binary_accuracy: 0.9782 - auc_1: 0.9922 - val_loss: 0.4259 - val_accuracy: 0.9349 - val_binary_accuracy: 0.9349 - val_auc_1: 0.9639\n",
      "Epoch 12/30\n",
      "1470/1470 [==============================] - 3s 2ms/step - loss: 0.3739 - accuracy: 0.9741 - binary_accuracy: 0.9741 - auc_1: 0.9926 - val_loss: 0.4167 - val_accuracy: 0.9429 - val_binary_accuracy: 0.9429 - val_auc_1: 0.9679\n",
      "Epoch 13/30\n",
      "1470/1470 [==============================] - 3s 2ms/step - loss: 0.3704 - accuracy: 0.9810 - binary_accuracy: 0.9810 - auc_1: 0.9952 - val_loss: 0.4128 - val_accuracy: 0.9413 - val_binary_accuracy: 0.9413 - val_auc_1: 0.9737\n",
      "Epoch 14/30\n",
      "1470/1470 [==============================] - 3s 2ms/step - loss: 0.3701 - accuracy: 0.9837 - binary_accuracy: 0.9837 - auc_1: 0.9967 - val_loss: 0.4108 - val_accuracy: 0.9429 - val_binary_accuracy: 0.9429 - val_auc_1: 0.9793\n",
      "Epoch 15/30\n",
      "1470/1470 [==============================] - 3s 2ms/step - loss: 0.3676 - accuracy: 0.9816 - binary_accuracy: 0.9816 - auc_1: 0.9944 - val_loss: 0.4097 - val_accuracy: 0.9429 - val_binary_accuracy: 0.9429 - val_auc_1: 0.9806\n",
      "Epoch 16/30\n",
      "1470/1470 [==============================] - 4s 2ms/step - loss: 0.3686 - accuracy: 0.9803 - binary_accuracy: 0.9803 - auc_1: 0.9969 - val_loss: 0.4089 - val_accuracy: 0.9444 - val_binary_accuracy: 0.9444 - val_auc_1: 0.9776\n",
      "Epoch 17/30\n",
      "1470/1470 [==============================] - 3s 2ms/step - loss: 0.3668 - accuracy: 0.9837 - binary_accuracy: 0.9837 - auc_1: 0.9948 - val_loss: 0.4091 - val_accuracy: 0.9429 - val_binary_accuracy: 0.9429 - val_auc_1: 0.9818\n",
      "Epoch 18/30\n",
      "1470/1470 [==============================] - 3s 2ms/step - loss: 0.3640 - accuracy: 0.9898 - binary_accuracy: 0.9898 - auc_1: 0.9995 - val_loss: 0.4103 - val_accuracy: 0.9476 - val_binary_accuracy: 0.9476 - val_auc_1: 0.9843\n",
      "Epoch 19/30\n",
      "1470/1470 [==============================] - 3s 2ms/step - loss: 0.3655 - accuracy: 0.9878 - binary_accuracy: 0.9878 - auc_1: 0.9962 - val_loss: 0.4103 - val_accuracy: 0.9524 - val_binary_accuracy: 0.9524 - val_auc_1: 0.9853\n",
      "Epoch 20/30\n",
      "1470/1470 [==============================] - 3s 2ms/step - loss: 0.3691 - accuracy: 0.9810 - binary_accuracy: 0.9810 - auc_1: 0.9978 - val_loss: 0.4085 - val_accuracy: 0.9508 - val_binary_accuracy: 0.9508 - val_auc_1: 0.9853\n",
      "Epoch 21/30\n",
      "1470/1470 [==============================] - 3s 2ms/step - loss: 0.3650 - accuracy: 0.9844 - binary_accuracy: 0.9844 - auc_1: 0.9974 - val_loss: 0.4079 - val_accuracy: 0.9492 - val_binary_accuracy: 0.9492 - val_auc_1: 0.9853\n",
      "Epoch 22/30\n",
      "1470/1470 [==============================] - 3s 2ms/step - loss: 0.3628 - accuracy: 0.9884 - binary_accuracy: 0.9884 - auc_1: 0.9905 - val_loss: 0.4078 - val_accuracy: 0.9524 - val_binary_accuracy: 0.9524 - val_auc_1: 0.9854oss: 0.3663 - accuracy: 0.98\n",
      "Epoch 23/30\n",
      "1470/1470 [==============================] - 3s 2ms/step - loss: 0.3716 - accuracy: 0.9837 - binary_accuracy: 0.9837 - auc_1: 0.9925 - val_loss: 0.4064 - val_accuracy: 0.9524 - val_binary_accuracy: 0.9524 - val_auc_1: 0.9830 binary_accuracy: 0.9807 - auc - ETA: 0s - loss: 0.3725 - accuracy: 0.9824 - binary_accuracy: 0.9824 -\n",
      "Epoch 24/30\n",
      "1470/1470 [==============================] - 3s 2ms/step - loss: 0.3683 - accuracy: 0.9871 - binary_accuracy: 0.9871 - auc_1: 0.9928 - val_loss: 0.4089 - val_accuracy: 0.9587 - val_binary_accuracy: 0.9587 - val_auc_1: 0.98609874 - binary_accuracy: 0.9874 - auc_1\n",
      "Epoch 25/30\n",
      "1470/1470 [==============================] - 3s 2ms/step - loss: 0.3638 - accuracy: 0.9837 - binary_accuracy: 0.9837 - auc_1: 0.9979 - val_loss: 0.4038 - val_accuracy: 0.9571 - val_binary_accuracy: 0.9571 - val_auc_1: 0.9823\n",
      "Epoch 26/30\n",
      "1470/1470 [==============================] - 3s 2ms/step - loss: 0.3592 - accuracy: 0.9898 - binary_accuracy: 0.9898 - auc_1: 0.9984 - val_loss: 0.4039 - val_accuracy: 0.9508 - val_binary_accuracy: 0.9508 - val_auc_1: 0.9770\n",
      "Epoch 27/30\n",
      "1470/1470 [==============================] - 3s 2ms/step - loss: 0.3587 - accuracy: 0.9918 - binary_accuracy: 0.9918 - auc_1: 0.9996 - val_loss: 0.4068 - val_accuracy: 0.9571 - val_binary_accuracy: 0.9571 - val_auc_1: 0.9857\n",
      "Epoch 28/30\n",
      "1470/1470 [==============================] - 3s 2ms/step - loss: 0.3623 - accuracy: 0.9884 - binary_accuracy: 0.9884 - auc_1: 0.9954 - val_loss: 0.4054 - val_accuracy: 0.9556 - val_binary_accuracy: 0.9556 - val_auc_1: 0.9834\n",
      "Epoch 29/30\n",
      "1470/1470 [==============================] - 3s 2ms/step - loss: 0.3652 - accuracy: 0.9810 - binary_accuracy: 0.9810 - auc_1: 0.9981 - val_loss: 0.4037 - val_accuracy: 0.9587 - val_binary_accuracy: 0.9587 - val_auc_1: 0.9822\n",
      "Epoch 30/30\n",
      "1470/1470 [==============================] - 3s 2ms/step - loss: 0.3610 - accuracy: 0.9878 - binary_accuracy: 0.9878 - auc_1: 0.9994 - val_loss: 0.4031 - val_accuracy: 0.9556 - val_binary_accuracy: 0.9556 - val_auc_1: 0.9765\n"
     ]
    },
    {
     "data": {
      "text/plain": [
       "<keras.callbacks.callbacks.History at 0x23a014afe08>"
      ]
     },
     "execution_count": 8,
     "metadata": {},
     "output_type": "execute_result"
    }
   ],
   "source": [
    "#Training the Model\n",
    "#Explanation of the fit arguements\n",
    "#Validation_split splits the training data and uses that split set aside for model validation\n",
    "#in this case we set aside 30% of our training data to be used as validation data and the remaining 70% is used for training\n",
    "#This leaves the original 30% test set as our sample test data. Which will be use on top of the out of sample test data which will be released at a later date\n",
    "#Batch size and epochs are based on parameters set previously\n",
    "#verbose gives us a progress bar per epoch\n",
    "#callbacks includes the learning rate reduction on plateau funtion\n",
    "\n",
    "Binary_CNN.fit(xTrain, yTrain, batch_size= batch_size, epochs= epochs, validation_split= 0.3, verbose = 1, callbacks = [lrr])\n",
    "#History.history attribute is a record of training loss values and metrics values at successive epochs\n",
    "#as well as validation loss values and validation metrics values (if applicable)."
   ]
  },
  {
   "cell_type": "markdown",
   "metadata": {},
   "source": [
    "### 2.4 Assessing Model Training Performance"
   ]
  },
  {
   "cell_type": "code",
   "execution_count": 9,
   "metadata": {},
   "outputs": [
    {
     "name": "stdout",
     "output_type": "stream",
     "text": [
      "dict_keys(['val_loss', 'val_accuracy', 'val_binary_accuracy', 'val_auc_1', 'loss', 'accuracy', 'binary_accuracy', 'auc_1', 'lr'])\n",
      "Training accuracy:  0.9877551\n",
      "Training loss:  0.3610263420611012\n"
     ]
    }
   ],
   "source": [
    "#Testing addressing of trained model history metrics\n",
    "#Allows us to access the model training history stats such as accuracy in trianing and validation\n",
    "#Shows us the available metrics to check\n",
    "#Can change metrics available by changing metrics to be observed when compiling the model\n",
    "print(Binary_CNN.history.history.keys())\n",
    "\n",
    "#Obtains training accuracy and loss of the most recent epoch to be finished\n",
    "acc = Binary_CNN.history.history['accuracy'][-1]\n",
    "loss = Binary_CNN.history.history['loss'][-1]\n",
    "\n",
    "print(\"Training accuracy: \", acc)\n",
    "print(\"Training loss: \", loss)\n"
   ]
  },
  {
   "cell_type": "markdown",
   "metadata": {},
   "source": [
    "#### 2.4.1 Visualising Model parameters during training"
   ]
  },
  {
   "cell_type": "code",
   "execution_count": 10,
   "metadata": {},
   "outputs": [
    {
     "data": {
      "image/png": "[encoded data removed]",
      "text/plain": [
       "<Figure size 432x288 with 2 Axes>"
      ]
     },
     "metadata": {
      "needs_background": "light"
     },
     "output_type": "display_data"
    }
   ],
   "source": [
    "#Plotting the Training and validation loss\n",
    "\n",
    "#Creating 2 subsplots under 1 figure\n",
    "f, acc_plot = plt.subplots(2,1)\n",
    "\n",
    "#First subplot graphs training loss and validation loss\n",
    "acc_plot[0].plot(Binary_CNN.history.history['loss'], color = 'b', label = 'Training Loss')\n",
    "acc_plot[0].plot(Binary_CNN.history.history['val_loss'], color = 'r', label = 'Validation Loss')\n",
    "acc_plot[0].set_ylabel('Loss')\n",
    "acc_plot[0].set_title('Training and Validation Accuracy and loss over number of epochs')\n",
    "acc_plot[0].grid()\n",
    "acc_plot[0].legend()\n",
    "\n",
    "#Second subplot graphs training accuracy and validation accuracy\n",
    "acc_plot[1].plot(Binary_CNN.history.history['accuracy'], color = 'b', label = 'Training Accuracy')\n",
    "acc_plot[1].plot(Binary_CNN.history.history['val_accuracy'], color = 'r', label = 'Validation Accuracy')\n",
    "acc_plot[1].set_ylabel('Accuracy')\n",
    "acc_plot[1].set_xlabel('Number of Epochs')\n",
    "acc_plot[1].grid()\n",
    "acc_plot[1].legend()\n",
    "\n",
    "#Saves plot to be used in the report COMMENTED OUT SO IT WONT OVERWRITE PLOTS FOR NOW\n",
    "#plt.savefig('./Plots/Train_Val_Acc_Loss_Binary_CNN.jpg', bbox_inches='tight')"
   ]
  },
  {
   "cell_type": "markdown",
   "metadata": {},
   "source": [
    "# 3. Making Predictions with Trained Model"
   ]
  },
  {
   "cell_type": "markdown",
   "metadata": {},
   "source": [
    "### 3.1 Obtaining Classification report and confusion matrix"
   ]
  },
  {
   "cell_type": "code",
   "execution_count": 12,
   "metadata": {},
   "outputs": [
    {
     "name": "stdout",
     "output_type": "stream",
     "text": [
      "900/900 [==============================] - 1s 583us/step\n",
      "The Results for Binary CNN are:\n",
      "              precision    recall  f1-score   support\n",
      "\n",
      "         0.0       0.82      0.81      0.81       134\n",
      "         1.0       0.97      0.97      0.97       766\n",
      "\n",
      "    accuracy                           0.94       900\n",
      "   macro avg       0.89      0.89      0.89       900\n",
      "weighted avg       0.94      0.94      0.94       900\n",
      "\n",
      "The confusion matrix is:\n",
      "[[108  26]\n",
      " [ 24 742]]\n"
     ]
    }
   ],
   "source": [
    "#Making Predictions with the model\n",
    "#We make 2 sets of predictions using the trained model. One which predicts the absolute class of the test image \n",
    "#and another subsequently which provides probability of the labels (0 or 1) using predict_proba. The latter is used for ROC curve plotting\n",
    "Binary_CNN_pred = Binary_CNN.predict_classes(xTest, verbose = 1)\n",
    "\n",
    "#Printing the classification report and metrics\n",
    "print(\"The Results for Binary CNN are:\")\n",
    "print(classification_report(yTest, Binary_CNN_pred))\n",
    "\n",
    "#Printing the confusion matrix for Binary CNN\n",
    "print(\"The confusion matrix is:\")\n",
    "print(confusion_matrix(yTest, Binary_CNN_pred))\n",
    "\n",
    "#To obtain TNR, TPR and FPR metrics for Binary CNN in discrete form\n",
    "FPR_Binary_CNN, TPR_Binary_CNN, Binary_CNN_thres = roc_curve(yTest, Binary_CNN_pred)\n",
    "TNR_Binary_CNN = 742 / (742 + 26)"
   ]
  },
  {
   "cell_type": "code",
   "execution_count": 17,
   "metadata": {},
   "outputs": [
    {
     "data": {
      "image/png": "[encoded data removed]",
      "text/plain": [
       "<Figure size 432x288 with 2 Axes>"
      ]
     },
     "metadata": {
      "needs_background": "light"
     },
     "output_type": "display_data"
    }
   ],
   "source": [
    "cm_plot = ConfusionMatrixDisplay(confusion_matrix = confusion_matrix(yTest,Binary_CNN_pred))\n",
    "\n",
    "cm_plot.plot()\n",
    "#Labels for title and axis\n",
    "plt.title('Confusion Matrix Binary CNN', fontsize=22)\n",
    "plt.yticks(fontsize=16)\n",
    "plt.xticks(fontsize=16)\n",
    "\n",
    "#Saves plot to be used in the report COMMENTED OUT SO IT WONT OVERWRITE PLOTS FOR NOW\n",
    "#plt.savefig('./Plots/CM_Binary_CNN.jpg', bbox_inches='tight')"
   ]
  },
  {
   "cell_type": "markdown",
   "metadata": {},
   "source": [
    "### 3.2 Obtaining ROC curve and other metrics of Binary CNN model"
   ]
  },
  {
   "cell_type": "code",
   "execution_count": 14,
   "metadata": {},
   "outputs": [
    {
     "name": "stdout",
     "output_type": "stream",
     "text": [
      "900/900 [==============================] - 0s 434us/step\n",
      "The metrics for Binary CNN model are as follows\n",
      "True Positive Rate:  [0.         0.96866841 1.        ]\n",
      "True Negative Rate:  0.9661458333333334\n",
      "roc_auc_score for Binary CNN:  0.9626378551108686\n"
     ]
    }
   ],
   "source": [
    "#And the 2nd one being the probability of label for ROC curve assessment\n",
    "Binary_CNN_pred_probability = Binary_CNN.predict_proba(xTest, verbose = 1)\n",
    "FPR_Binary_CNN_proba, TPR_Binary_CNN_proba, Binary_CNN_thres_proba = roc_curve(yTest, Binary_CNN_pred_probability)\n",
    "\n",
    "#Printing the main metrics to assess performance of the Binary CNN model\n",
    "print(\"The metrics for Binary CNN model are as follows\")\n",
    "print(\"True Positive Rate: \", TPR_Binary_CNN)\n",
    "print(\"True Negative Rate: \", TNR_Binary_CNN)\n",
    "print('roc_auc_score for Binary CNN: ', roc_auc_score(yTest, Binary_CNN_pred_probability))"
   ]
  },
  {
   "cell_type": "code",
   "execution_count": 15,
   "metadata": {},
   "outputs": [
    {
     "data": {
      "image/png": "[encoded data removed]",
      "text/plain": [
       "<Figure size 720x720 with 1 Axes>"
      ]
     },
     "metadata": {
      "needs_background": "light"
     },
     "output_type": "display_data"
    }
   ],
   "source": [
    "#We can visualise the ROC curve for Binary CNN using the probability of class predictions given by Binary_CNN_pred_probability\n",
    "\n",
    "plt.subplots(1, figsize=(10,10))\n",
    "plt.grid()\n",
    "\n",
    "#This plot is the CNN model\n",
    "plt.plot(FPR_Binary_CNN_proba, TPR_Binary_CNN_proba, linestyle='-', color='b', marker='o', label =\"Binary CNN\")\n",
    "\n",
    "#Optimal Model line\n",
    "plt.plot([0, 1], ls=\"--\")\n",
    "\n",
    "#Diagonal Dotted Line\n",
    "plt.plot([0, 0], [1, 0] , c=\".7\"), plt.plot([1, 1] , c=\".7\")\n",
    "\n",
    "#Labels for title and axis\n",
    "plt.title('Receiver Operating Characteristic - Binary CNN', fontsize=22)\n",
    "plt.ylabel('True Positive Rate', fontsize=18)\n",
    "plt.xlabel('False Positive Rate', fontsize=18)\n",
    "plt.yticks(fontsize=16)\n",
    "plt.xticks(fontsize=16)\n",
    "plt.legend(fontsize=20)\n",
    "\n",
    "#Saves plot to be used in the report COMMENTED OUT SO IT WONT OVERWRITE PLOTS FOR NOW\n",
    "#plt.savefig('./Plots/ROC_Binary_CNN.jpg', bbox_inches='tight')"
   ]
  },
  {
   "cell_type": "markdown",
   "metadata": {},
   "source": [
    "# 4. Saving Model\n",
    "### THIS SECTION HAS BEEN COMMENTED OUT CURRENTLY TO PREVENT OVERWRITING ORIGINAL MODEL, can uncomment to check if the saving process works however will overwrite the model weights used to obtain prediction results shown in report."
   ]
  },
  {
   "cell_type": "code",
   "execution_count": 16,
   "metadata": {},
   "outputs": [
    {
     "name": "stdout",
     "output_type": "stream",
     "text": [
      "Saved model to disk\n"
     ]
    }
   ],
   "source": [
    "#Saving Binary CNN model to json\n",
    "#We split the model architecture and weights to reduce the overall size of the individual files to allow committing to Github\n",
    "#This saves the model architecture to save space\n",
    "\n",
    "#Binary_CNN_json = Binary_CNN.to_json()\n",
    "#with open(\".\\Models\\Binary-Classification\\CNN\\Binary_CNN.json\", \"w\") as json_file:\n",
    "#    json_file.write(Binary_CNN_json)\n",
    "\n",
    "\n",
    "#Saving the Binary_CNN Model weights \n",
    "\n",
    "#Binary_CNN.save_weights(\".\\Models\\Binary-Classification\\CNN\\Binary_CNN_Model_Weights\")\n",
    "#print(\"Saved model to disk\")"
   ]
  },
  {
   "cell_type": "code",
   "execution_count": null,
   "metadata": {},
   "outputs": [],
   "source": [
    "#Test to load CNN Model\n",
    "# load Binary CNN json and create model\n",
    "json_file = open(\".\\Models\\Binary-Classification\\CNN\\Binary_CNN.json\", 'r')\n",
    "loaded_model_json = json_file.read()\n",
    "json_file.close()\n",
    "loaded_model = model_from_json(loaded_model_json)\n",
    "# load weights into new model\n",
    "loaded_model.load_weights(\".\\Models\\Binary-Classification\\CNN\\Binary_CNN_Model_Weights\")\n",
    "print(\"Loaded model from disk\")"
   ]
  },
  {
   "cell_type": "code",
   "execution_count": null,
   "metadata": {},
   "outputs": [],
   "source": []
  }
 ],
 "metadata": {
  "interpreter": {
   "hash": "290ec9070849e8daf2fe4bd922bd966932468e9fb905fb4b926b0f4d9e51cc32"
  },
  "kernelspec": {
   "display_name": "Python 3.7.11 64-bit ('gym': conda)",
   "language": "python",
   "name": "python3"
  },
  "language_info": {
   "codemirror_mode": {
    "name": "ipython",
    "version": 3
   },
   "file_extension": ".py",
   "mimetype": "text/x-python",
   "name": "python",
   "nbconvert_exporter": "python",
   "pygments_lexer": "ipython3",
   "version": "3.7.11"
  },
  "orig_nbformat": 4
 },
 "nbformat": 4,
 "nbformat_minor": 2
}
