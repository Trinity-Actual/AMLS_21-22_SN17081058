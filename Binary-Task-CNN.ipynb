{
 "cells": [
  {
   "cell_type": "markdown",
   "metadata": {},
   "source": [
    "# Binary Task CNN Notebook\n",
    "\n",
    "### Contains Code for Binary task CNN Model creation, training and testing<br/> CNN will be an implementation of AlexNet equivalent structure 5 convolutional layers and 3 fully connected layers"
   ]
  },
  {
   "cell_type": "code",
   "execution_count": 1,
   "metadata": {},
   "outputs": [
    {
     "name": "stderr",
     "output_type": "stream",
     "text": [
      "Using TensorFlow backend.\n"
     ]
    }
   ],
   "source": [
    "# Import required libraries\n",
    "import numpy as np\n",
    "from numpy import expand_dims\n",
    "import pandas as pd\n",
    "import os\n",
    "import matplotlib.pyplot as plt\n",
    "import tensorflow as tf\n",
    "import keras\n",
    "from sklearn.model_selection import train_test_split\n",
    "from sklearn.decomposition import PCA\n",
    "\n",
    "#tqdm is for progress bar functionality in code, must be installed for code to function (TO DO: include exception if tqdm not imported )\n",
    "from tqdm import tqdm\n",
    "\n",
    "import pickle as pkl\n",
    "import cv2\n",
    "\n",
    "#Libraries for CNN model\n",
    "from keras import metrics\n",
    "from keras.models import Sequential\n",
    "from keras.layers import Dense, Activation, Dropout, Flatten, Conv2D, MaxPooling2D\n",
    "from keras.layers.normalization import BatchNormalization\n",
    "from sklearn.metrics import roc_curve, roc_auc_score\n",
    "from sklearn.metrics import classification_report, confusion_matrix\n",
    "from keras.models import model_from_json\n",
    "\n",
    "#Importing functions notebook containing functions created to streamline code\n",
    "from ipynb.fs.full.functions import load_dataset_CNN"
   ]
  },
  {
   "cell_type": "markdown",
   "metadata": {},
   "source": [
    "# 1. Loading Labels and Resized Image Dataset\n",
    "### 1.1 Loading Dataset via load_dataset_CNN function in \"function.ipynb\""
   ]
  },
  {
   "cell_type": "code",
   "execution_count": 2,
   "metadata": {},
   "outputs": [
    {
     "name": "stdout",
     "output_type": "stream",
     "text": [
      "Datasets successfully loaded with shapes:\n",
      "X Shape:\n",
      "(3000, 50, 50, 1)\n",
      "Y Shape:\n",
      "(3000,)\n"
     ]
    }
   ],
   "source": [
    "#Calls load_dataset_CNN function from function.ipynb to obtain the MRI images dataset and the binary label pickle file and loads it respectively \n",
    "#into our X and Y value. Function also conducts rescaling of image pixel data from 0 to 255 to 0 to 1 range.\n",
    "X, Y = load_dataset_CNN('./dataset/CNN_Images_2D_DF.pkl', './dataset/Y_Binary_label.pkl')"
   ]
  },
  {
   "cell_type": "markdown",
   "metadata": {},
   "source": [
    "### 1.2 Splitting dataset"
   ]
  },
  {
   "cell_type": "code",
   "execution_count": 3,
   "metadata": {},
   "outputs": [],
   "source": [
    "# Split the data into training and testing(70% training and 30% testing data)\n",
    "xTrain,xTest,yTrain,yTest=train_test_split(X, Y, train_size = 0.7 , random_state = 42)"
   ]
  },
  {
   "cell_type": "markdown",
   "metadata": {},
   "source": [
    "# 2. CNN Model Building"
   ]
  },
  {
   "cell_type": "markdown",
   "metadata": {},
   "source": [
    "### 2.1 Defining model structure"
   ]
  },
  {
   "cell_type": "code",
   "execution_count": 4,
   "metadata": {},
   "outputs": [
    {
     "name": "stdout",
     "output_type": "stream",
     "text": [
      "Model: \"Binary_CNN\"\n",
      "_________________________________________________________________\n",
      "Layer (type)                 Output Shape              Param #   \n",
      "=================================================================\n",
      "conv0 (Conv2D)               (None, 13, 13, 96)        11712     \n",
      "_________________________________________________________________\n",
      "bn0 (BatchNormalization)     (None, 13, 13, 96)        384       \n",
      "_________________________________________________________________\n",
      "activation_1 (Activation)    (None, 13, 13, 96)        0         \n",
      "_________________________________________________________________\n",
      "max_pooling2d_1 (MaxPooling2 (None, 7, 7, 96)          0         \n",
      "_________________________________________________________________\n",
      "conv1 (Conv2D)               (None, 7, 7, 256)         614656    \n",
      "_________________________________________________________________\n",
      "bn1 (BatchNormalization)     (None, 7, 7, 256)         1024      \n",
      "_________________________________________________________________\n",
      "activation_2 (Activation)    (None, 7, 7, 256)         0         \n",
      "_________________________________________________________________\n",
      "max_pooling2d_2 (MaxPooling2 (None, 4, 4, 256)         0         \n",
      "_________________________________________________________________\n",
      "conv2 (Conv2D)               (None, 4, 4, 384)         885120    \n",
      "_________________________________________________________________\n",
      "bn2 (BatchNormalization)     (None, 4, 4, 384)         1536      \n",
      "_________________________________________________________________\n",
      "activation_3 (Activation)    (None, 4, 4, 384)         0         \n",
      "_________________________________________________________________\n",
      "conv3 (Conv2D)               (None, 4, 4, 384)         1327488   \n",
      "_________________________________________________________________\n",
      "bn3 (BatchNormalization)     (None, 4, 4, 384)         1536      \n",
      "_________________________________________________________________\n",
      "activation_4 (Activation)    (None, 4, 4, 384)         0         \n",
      "_________________________________________________________________\n",
      "conv4 (Conv2D)               (None, 4, 4, 256)         884992    \n",
      "_________________________________________________________________\n",
      "bn4 (BatchNormalization)     (None, 4, 4, 256)         1024      \n",
      "_________________________________________________________________\n",
      "activation_5 (Activation)    (None, 4, 4, 256)         0         \n",
      "_________________________________________________________________\n",
      "max_pooling2d_3 (MaxPooling2 (None, 2, 2, 256)         0         \n",
      "_________________________________________________________________\n",
      "flatten_1 (Flatten)          (None, 1024)              0         \n",
      "_________________________________________________________________\n",
      "fc0 (Dense)                  (None, 2500)              2562500   \n",
      "_________________________________________________________________\n",
      "bnfc0 (BatchNormalization)   (None, 2500)              10000     \n",
      "_________________________________________________________________\n",
      "activation_6 (Activation)    (None, 2500)              0         \n",
      "_________________________________________________________________\n",
      "dropout_1 (Dropout)          (None, 2500)              0         \n",
      "_________________________________________________________________\n",
      "fc1 (Dense)                  (None, 2500)              6252500   \n",
      "_________________________________________________________________\n",
      "bnfc1 (BatchNormalization)   (None, 2500)              10000     \n",
      "_________________________________________________________________\n",
      "activation_7 (Activation)    (None, 2500)              0         \n",
      "_________________________________________________________________\n",
      "dropout_2 (Dropout)          (None, 2500)              0         \n",
      "_________________________________________________________________\n",
      "fc2 (Dense)                  (None, 500)               1250500   \n",
      "_________________________________________________________________\n",
      "bnfc2 (BatchNormalization)   (None, 500)               2000      \n",
      "_________________________________________________________________\n",
      "activation_8 (Activation)    (None, 500)               0         \n",
      "_________________________________________________________________\n",
      "dropout_3 (Dropout)          (None, 500)               0         \n",
      "_________________________________________________________________\n",
      "fcOut (Dense)                (None, 1)                 501       \n",
      "_________________________________________________________________\n",
      "batch_normalization_1 (Batch (None, 1)                 4         \n",
      "_________________________________________________________________\n",
      "activation_9 (Activation)    (None, 1)                 0         \n",
      "=================================================================\n",
      "Total params: 13,817,477\n",
      "Trainable params: 13,803,723\n",
      "Non-trainable params: 13,754\n",
      "_________________________________________________________________\n"
     ]
    }
   ],
   "source": [
    "#Initialising the Model\n",
    "Binary_CNN = Sequential(name = 'Binary_CNN')\n",
    "\n",
    "#We use the same number of filters in all convolutional layers of the AlexNet Model\n",
    "#Number of filters in the fully connected layers will be reduced to 2500 2500 and 500\n",
    "#This is to reduce size of CNN so it can be fit into Github without LFS\n",
    "# Final output layer will have 1 node as it is binary classification\n",
    "\n",
    "#1st Convolutional Layer\n",
    "#Input arguements\n",
    "#Filters: Number of output filters in convolution\n",
    "Binary_CNN.add(Conv2D(filters = 96, input_shape = (X.shape[1], X.shape[2], 1), kernel_size = (11, 11), strides = (4, 4), padding = 'same', name=\"conv0\"))\n",
    "Binary_CNN.add(BatchNormalization(name = 'bn0'))\n",
    "Binary_CNN.add(Activation('relu'))\n",
    "Binary_CNN.add(MaxPooling2D(pool_size=(2,2), strides=(2,2), padding='same'))\n",
    "\n",
    "\n",
    "#2nd Convolutional Layer\n",
    "Binary_CNN.add(Conv2D(filters = 256, kernel_size = (5, 5), strides = (1, 1), padding = 'same', name=\"conv1\"))\n",
    "Binary_CNN.add(BatchNormalization(name = 'bn1'))\n",
    "Binary_CNN.add(Activation('relu'))\n",
    "Binary_CNN.add(MaxPooling2D(pool_size=(2,2), strides=(2,2), padding='same'))\n",
    "\n",
    "\n",
    "#3rd Convolutional Layer\n",
    "Binary_CNN.add(Conv2D(filters = 384, kernel_size = (3, 3), strides = (1, 1), padding = 'same', name=\"conv2\"))\n",
    "Binary_CNN.add(BatchNormalization(name = 'bn2'))\n",
    "Binary_CNN.add(Activation('relu'))\n",
    "\n",
    "\n",
    "#4th Convolutional Layer\n",
    "Binary_CNN.add(Conv2D(filters = 384, kernel_size = (3, 3), strides = (1, 1), padding = 'same', name=\"conv3\"))\n",
    "Binary_CNN.add(BatchNormalization(name = 'bn3'))\n",
    "Binary_CNN.add(Activation('relu'))\n",
    "\n",
    "\n",
    "#5th Convolutional Layer\n",
    "Binary_CNN.add(Conv2D(filters = 256, kernel_size = (3, 3), strides = (1, 1), padding = 'same', name=\"conv4\"))\n",
    "Binary_CNN.add(BatchNormalization(name = 'bn4'))\n",
    "Binary_CNN.add(Activation('relu'))\n",
    "Binary_CNN.add(MaxPooling2D(pool_size=(2,2), strides=(2,2), padding='same'))\n",
    "\n",
    "\n",
    "#Passing through the Fully connected layers\n",
    "#We set the number of neurons per layer as 2500 for now\n",
    "#Less than orignal 4096\n",
    "Binary_CNN.add(Flatten())\n",
    "\n",
    "#1st Fully Connected Layer\n",
    "Binary_CNN.add(Dense(2500, name = 'fc0'))\n",
    "Binary_CNN.add(BatchNormalization(name = 'bnfc0'))\n",
    "Binary_CNN.add(Activation('relu'))\n",
    "Binary_CNN.add(Dropout(0.4))\n",
    "\n",
    "#2nd Fully Connected Layer\n",
    "Binary_CNN.add(Dense(2500, name = 'fc1'))\n",
    "Binary_CNN.add(BatchNormalization(name = 'bnfc1'))\n",
    "Binary_CNN.add(Activation('relu'))\n",
    "Binary_CNN.add(Dropout(0.4))\n",
    "\n",
    "#3rd Fully Connected Layer\n",
    "Binary_CNN.add(Dense(500, name = 'fc2'))\n",
    "Binary_CNN.add(BatchNormalization(name = 'bnfc2'))\n",
    "Binary_CNN.add(Activation('relu'))\n",
    "Binary_CNN.add(Dropout(0.4))\n",
    "\n",
    "\n",
    "#Output Layer\n",
    "Binary_CNN.add(Dense(1, name = 'fcOut'))\n",
    "Binary_CNN.add(BatchNormalization())\n",
    "Binary_CNN.add(Activation('sigmoid'))\n",
    "\n",
    "\n",
    "\n",
    "Binary_CNN.summary()"
   ]
  },
  {
   "cell_type": "markdown",
   "metadata": {},
   "source": [
    "### 2.2 Compiling Binary CNN Model"
   ]
  },
  {
   "cell_type": "code",
   "execution_count": 5,
   "metadata": {},
   "outputs": [],
   "source": [
    "#Compiling the model\n",
    "Binary_CNN.compile(loss='binary_crossentropy', optimizer= 'adam', metrics=['accuracy', metrics.BinaryAccuracy(), metrics.AUC()])"
   ]
  },
  {
   "cell_type": "markdown",
   "metadata": {},
   "source": [
    "### 2.3 Model Training\n",
    "#### 2.3.1 Defining model training callbacks and parameters"
   ]
  },
  {
   "cell_type": "code",
   "execution_count": 6,
   "metadata": {},
   "outputs": [],
   "source": [
    "#Learning Rate callback\n",
    "from keras.callbacks import ReduceLROnPlateau\n",
    "lrr= ReduceLROnPlateau(monitor = 'val_accuracy', factor = 0.01, patience = 3, min_lr = 1e-5) \n",
    "\n",
    "#Defining model training parameters\n",
    "batch_size = 32\n",
    "epochs = 30\n",
    "learn_rate = 0.001"
   ]
  },
  {
   "cell_type": "markdown",
   "metadata": {},
   "source": [
    "#### 2.3.2 Training Model with validation set derived from training dataset"
   ]
  },
  {
   "cell_type": "code",
   "execution_count": 7,
   "metadata": {},
   "outputs": [
    {
     "name": "stdout",
     "output_type": "stream",
     "text": [
      "Train on 1470 samples, validate on 630 samples\n",
      "Epoch 1/20\n",
      "1470/1470 [==============================] - 20s 13ms/step - loss: 0.6506 - accuracy: 0.7714 - binary_accuracy: 0.7714 - auc_1: 0.7643 - val_loss: 1.5632 - val_accuracy: 0.1524 - val_binary_accuracy: 0.1524 - val_auc_1: 0.5476\n",
      "Epoch 2/20\n",
      "1470/1470 [==============================] - 2s 2ms/step - loss: 0.5630 - accuracy: 0.8272 - binary_accuracy: 0.8272 - auc_1: 0.8919 - val_loss: 1.4470 - val_accuracy: 0.1524 - val_binary_accuracy: 0.1524 - val_auc_1: 0.8258\n",
      "Epoch 3/20\n",
      "1470/1470 [==============================] - 2s 2ms/step - loss: 0.5021 - accuracy: 0.9000 - binary_accuracy: 0.9000 - auc_1: 0.9365 - val_loss: 1.2851 - val_accuracy: 0.1524 - val_binary_accuracy: 0.1524 - val_auc_1: 0.9068\n",
      "Epoch 4/20\n",
      "1470/1470 [==============================] - 2s 2ms/step - loss: 0.4628 - accuracy: 0.9286 - binary_accuracy: 0.9286 - auc_1: 0.9650 - val_loss: 2.0806 - val_accuracy: 0.1524 - val_binary_accuracy: 0.1524 - val_auc_1: 0.6807\n",
      "Epoch 5/20\n",
      "1470/1470 [==============================] - 2s 2ms/step - loss: 0.4448 - accuracy: 0.9605 - binary_accuracy: 0.9605 - auc_1: 0.9836 - val_loss: 1.3070 - val_accuracy: 0.1524 - val_binary_accuracy: 0.1524 - val_auc_1: 0.7801\n",
      "Epoch 6/20\n",
      "1470/1470 [==============================] - 2s 2ms/step - loss: 0.4308 - accuracy: 0.9694 - binary_accuracy: 0.9694 - auc_1: 0.9888 - val_loss: 1.0172 - val_accuracy: 0.1524 - val_binary_accuracy: 0.1524 - val_auc_1: 0.8180\n",
      "Epoch 7/20\n",
      "1470/1470 [==============================] - 2s 2ms/step - loss: 0.4250 - accuracy: 0.9789 - binary_accuracy: 0.9789 - auc_1: 0.9927 - val_loss: 0.8900 - val_accuracy: 0.1556 - val_binary_accuracy: 0.1556 - val_auc_1: 0.8311\n",
      "Epoch 8/20\n",
      "1470/1470 [==============================] - 2s 2ms/step - loss: 0.4256 - accuracy: 0.9728 - binary_accuracy: 0.9728 - auc_1: 0.9901 - val_loss: 0.7933 - val_accuracy: 0.1730 - val_binary_accuracy: 0.1730 - val_auc_1: 0.8413\n",
      "Epoch 9/20\n",
      "1470/1470 [==============================] - 2s 2ms/step - loss: 0.4226 - accuracy: 0.9728 - binary_accuracy: 0.9728 - auc_1: 0.9839 - val_loss: 0.7388 - val_accuracy: 0.2730 - val_binary_accuracy: 0.2730 - val_auc_1: 0.8313\n",
      "Epoch 10/20\n",
      "1470/1470 [==============================] - 2s 2ms/step - loss: 0.4214 - accuracy: 0.9782 - binary_accuracy: 0.9782 - auc_1: 0.9908 - val_loss: 0.7044 - val_accuracy: 0.3968 - val_binary_accuracy: 0.3968 - val_auc_1: 0.8239\n",
      "Epoch 11/20\n",
      "1470/1470 [==============================] - 2s 2ms/step - loss: 0.4178 - accuracy: 0.9810 - binary_accuracy: 0.9810 - auc_1: 0.9938 - val_loss: 0.6757 - val_accuracy: 0.5333 - val_binary_accuracy: 0.5333 - val_auc_1: 0.8234\n",
      "Epoch 12/20\n",
      "1470/1470 [==============================] - 2s 2ms/step - loss: 0.4211 - accuracy: 0.9735 - binary_accuracy: 0.9735 - auc_1: 0.9856 - val_loss: 0.6267 - val_accuracy: 0.7238 - val_binary_accuracy: 0.7238 - val_auc_1: 0.8255\n",
      "Epoch 13/20\n",
      "1470/1470 [==============================] - 2s 2ms/step - loss: 0.4204 - accuracy: 0.9735 - binary_accuracy: 0.9735 - auc_1: 0.9908 - val_loss: 0.5941 - val_accuracy: 0.8143 - val_binary_accuracy: 0.8143 - val_auc_1: 0.8181\n",
      "Epoch 14/20\n",
      "1470/1470 [==============================] - 2s 2ms/step - loss: 0.4219 - accuracy: 0.9728 - binary_accuracy: 0.9728 - auc_1: 0.9879 - val_loss: 0.5671 - val_accuracy: 0.8492 - val_binary_accuracy: 0.8492 - val_auc_1: 0.8319\n",
      "Epoch 15/20\n",
      "1470/1470 [==============================] - 2s 2ms/step - loss: 0.4197 - accuracy: 0.9762 - binary_accuracy: 0.9762 - auc_1: 0.9853 - val_loss: 0.5380 - val_accuracy: 0.8937 - val_binary_accuracy: 0.8937 - val_auc_1: 0.8374\n",
      "Epoch 16/20\n",
      "1470/1470 [==============================] - 2s 2ms/step - loss: 0.4148 - accuracy: 0.9782 - binary_accuracy: 0.9782 - auc_1: 0.9943 - val_loss: 0.5165 - val_accuracy: 0.9063 - val_binary_accuracy: 0.9063 - val_auc_1: 0.8404\n",
      "Epoch 17/20\n",
      "1470/1470 [==============================] - 2s 2ms/step - loss: 0.4165 - accuracy: 0.9789 - binary_accuracy: 0.9789 - auc_1: 0.9921 - val_loss: 0.4997 - val_accuracy: 0.9175 - val_binary_accuracy: 0.9175 - val_auc_1: 0.8686\n",
      "Epoch 18/20\n",
      "1470/1470 [==============================] - 2s 2ms/step - loss: 0.4189 - accuracy: 0.9782 - binary_accuracy: 0.9782 - auc_1: 0.9931 - val_loss: 0.4874 - val_accuracy: 0.9206 - val_binary_accuracy: 0.9206 - val_auc_1: 0.8997\n",
      "Epoch 19/20\n",
      "1470/1470 [==============================] - 2s 2ms/step - loss: 0.4151 - accuracy: 0.9810 - binary_accuracy: 0.9810 - auc_1: 0.9948 - val_loss: 0.4785 - val_accuracy: 0.9254 - val_binary_accuracy: 0.9254 - val_auc_1: 0.9305\n",
      "Epoch 20/20\n",
      "1470/1470 [==============================] - 2s 2ms/step - loss: 0.4116 - accuracy: 0.9878 - binary_accuracy: 0.9878 - auc_1: 0.9938 - val_loss: 0.4739 - val_accuracy: 0.9238 - val_binary_accuracy: 0.9238 - val_auc_1: 0.9343\n"
     ]
    },
    {
     "data": {
      "text/plain": [
       "<keras.callbacks.callbacks.History at 0x1b781f92fc8>"
      ]
     },
     "execution_count": 7,
     "metadata": {},
     "output_type": "execute_result"
    }
   ],
   "source": [
    "#Training the Model\n",
    "#Explanation of the fit arguements\n",
    "#Validation_split splits the training data and uses that split set aside for model validation\n",
    "\n",
    "Binary_CNN.fit(xTrain, yTrain, batch_size= batch_size, epochs= epochs, validation_split= 0.3,  verbose = 1, callbacks = [lrr])\n",
    "#History.history attribute is a record of training loss values and metrics values at successive epochs\n",
    "#as well as validation loss values and validation metrics values (if applicable)."
   ]
  },
  {
   "cell_type": "markdown",
   "metadata": {},
   "source": [
    "### 2.4 Assessing Model Training Performance"
   ]
  },
  {
   "cell_type": "code",
   "execution_count": 8,
   "metadata": {},
   "outputs": [
    {
     "name": "stdout",
     "output_type": "stream",
     "text": [
      "dict_keys(['val_loss', 'val_accuracy', 'val_binary_accuracy', 'val_auc_1', 'loss', 'accuracy', 'binary_accuracy', 'auc_1', 'lr'])\n",
      "Training accuracy:  0.9877551\n",
      "Training loss:  0.4116493893318436\n"
     ]
    }
   ],
   "source": [
    "#Testing addressing of trained model history metrics\n",
    "#Allows us to access the model training history stats such as accuracy in trianing and validation\n",
    "print(Binary_CNN.history.history.keys())\n",
    "\n",
    "#Obtains training accuracy and loss of the most recent epoch to be finished\n",
    "acc = Binary_CNN.history.history['accuracy'][-1]\n",
    "loss = Binary_CNN.history.history['loss'][-1]\n",
    "\n",
    "print(\"Training accuracy: \", acc)\n",
    "print(\"Training loss: \", loss)\n"
   ]
  },
  {
   "cell_type": "markdown",
   "metadata": {},
   "source": [
    "#### 2.4.1 Visualising Model parameters during training"
   ]
  },
  {
   "cell_type": "code",
   "execution_count": 9,
   "metadata": {},
   "outputs": [
    {
     "data": {
      "text/plain": [
       "<matplotlib.legend.Legend at 0x1b6dea5e688>"
      ]
     },
     "execution_count": 9,
     "metadata": {},
     "output_type": "execute_result"
    },
    {
     "data": {
      "image/png": "[encoded data removed]",
      "text/plain": [
       "<Figure size 432x288 with 2 Axes>"
      ]
     },
     "metadata": {
      "needs_background": "light"
     },
     "output_type": "display_data"
    }
   ],
   "source": [
    "#Plotting the Training and validation loss\n",
    "\n",
    "#Creating 2 subsplots under 1 figure\n",
    "f, acc_plot = plt.subplots(2,1)\n",
    "\n",
    "#First subplot graphs training loss and validation loss\n",
    "acc_plot[0].plot(Binary_CNN.history.history['loss'], color = 'b', label = 'Training Loss')\n",
    "acc_plot[0].plot(Binary_CNN.history.history['val_loss'], color = 'r', label = 'Validation Loss')\n",
    "\n",
    "#Second subplot graphs training accuracy and validation accuracy\n",
    "acc_plot[1].plot(Binary_CNN.history.history['accuracy'], color = 'b', label = 'Training Accuracy')\n",
    "acc_plot[1].plot(Binary_CNN.history.history['val_accuracy'], color = 'r', label = 'Validation Accuracy')\n",
    "\n",
    "plt.legend()"
   ]
  },
  {
   "cell_type": "markdown",
   "metadata": {},
   "source": [
    "# 3. Making Predictions with Trained Model"
   ]
  },
  {
   "cell_type": "markdown",
   "metadata": {},
   "source": [
    "### 3.1 Obtaining Classification report and confusion matrix"
   ]
  },
  {
   "cell_type": "code",
   "execution_count": 10,
   "metadata": {},
   "outputs": [
    {
     "name": "stdout",
     "output_type": "stream",
     "text": [
      "900/900 [==============================] - 1s 1ms/step\n",
      "The Results for Binary CNN are:\n",
      "              precision    recall  f1-score   support\n",
      "\n",
      "         0.0       0.88      0.79      0.83       134\n",
      "         1.0       0.96      0.98      0.97       766\n",
      "\n",
      "    accuracy                           0.95       900\n",
      "   macro avg       0.92      0.89      0.90       900\n",
      "weighted avg       0.95      0.95      0.95       900\n",
      "\n",
      "The confusion matrix is:\n",
      "[[106  28]\n",
      " [ 15 751]]\n"
     ]
    }
   ],
   "source": [
    "#Making Predictions with the model\n",
    "#We make 2 sets of predictions using the trained model. One which predicts the absolute class of the test image \n",
    "#and another subsequently which provides probability of the labels (0 or 1). The latter is used for ROC curve plotting\n",
    "Binary_CNN_pred = Binary_CNN.predict_classes(xTest, verbose = 1)\n",
    "\n",
    "#Printing the classification report and metrics\n",
    "print(\"The Results for Binary CNN are:\")\n",
    "print(classification_report(yTest, Binary_CNN_pred))\n",
    "\n",
    "#Printing the confusion matrix for Binary CNN\n",
    "print(\"The confusion matrix is:\")\n",
    "print(confusion_matrix(yTest, Binary_CNN_pred))"
   ]
  },
  {
   "cell_type": "markdown",
   "metadata": {},
   "source": [
    "### 3.2 Obtaining ROC curve metrics of Binary CNN model"
   ]
  },
  {
   "cell_type": "code",
   "execution_count": 11,
   "metadata": {},
   "outputs": [
    {
     "name": "stdout",
     "output_type": "stream",
     "text": [
      "900/900 [==============================] - 0s 401us/step\n",
      "roc_auc_score for Binary CNN:  0.9491835859865165\n"
     ]
    }
   ],
   "source": [
    "#And the 2nd one being the probability of label for ROC curve assessment\n",
    "Binary_CNN_pred_probability = Binary_CNN.predict_proba(xTest, verbose = 1)\n",
    "FPR_Binary_CNN, TPR_Binary_CNN, Binary_CNN_thres = roc_curve(yTest, Binary_CNN_pred_probability)\n",
    "print('roc_auc_score for Binary CNN: ', roc_auc_score(yTest, Binary_CNN_pred_probability))"
   ]
  },
  {
   "cell_type": "code",
   "execution_count": 12,
   "metadata": {},
   "outputs": [
    {
     "data": {
      "image/png": "[encoded data removed]",
      "text/plain": [
       "<Figure size 720x720 with 1 Axes>"
      ]
     },
     "metadata": {
      "needs_background": "light"
     },
     "output_type": "display_data"
    }
   ],
   "source": [
    "#We can visualise the ROC curve for Binary CNN\n",
    "\n",
    "plt.subplots(1, figsize=(10,10))\n",
    "plt.grid()\n",
    "\n",
    "#This plot is the CNN model\n",
    "plt.plot(FPR_Binary_CNN, TPR_Binary_CNN, linestyle='-', color='b', marker='o', label =\"Binary CNN\")\n",
    "\n",
    "#Optimal Model line\n",
    "plt.plot([0, 1], ls=\"--\")\n",
    "\n",
    "#Diagonal Dotted Line\n",
    "plt.plot([0, 0], [1, 0] , c=\".7\"), plt.plot([1, 1] , c=\".7\")\n",
    "\n",
    "#Labels for title and axis\n",
    "plt.title('Receiver Operating Characteristic - Binary CNN', fontsize=22)\n",
    "plt.ylabel('True Positive Rate', fontsize=18)\n",
    "plt.xlabel('False Positive Rate', fontsize=18)\n",
    "plt.yticks(fontsize=16)\n",
    "plt.xticks(fontsize=16)\n",
    "plt.legend(fontsize=20)\n",
    "\n",
    "#Saves plot to be used in the report\n",
    "plt.savefig('./Plots/ROC_Binary_CNN.jpg', bbox_inches='tight')"
   ]
  },
  {
   "cell_type": "markdown",
   "metadata": {},
   "source": [
    "# 4. Saving Model"
   ]
  },
  {
   "cell_type": "code",
   "execution_count": 13,
   "metadata": {},
   "outputs": [
    {
     "name": "stdout",
     "output_type": "stream",
     "text": [
      "Saved model to disk\n"
     ]
    }
   ],
   "source": [
    "#Serialize Binary CNN model to json\n",
    "#This saves the model architecture to save space\n",
    "Binary_CNN_json = Binary_CNN.to_json()\n",
    "with open(\".\\Models\\Binary-Classification\\CNN\\Binary_CNN.json\", \"w\") as json_file:\n",
    "    json_file.write(Binary_CNN_json)\n",
    "\n",
    "#Saving the Binary_CNN Model weights \n",
    "Binary_CNN.save_weights(\".\\Models\\Binary-Classification\\CNN\\Binary_CNN_Model_Weights\")\n",
    "print(\"Saved model to disk\")"
   ]
  },
  {
   "cell_type": "code",
   "execution_count": 15,
   "metadata": {},
   "outputs": [
    {
     "name": "stdout",
     "output_type": "stream",
     "text": [
      "Loaded model from disk\n"
     ]
    }
   ],
   "source": [
    "#Test to load CNN Model\n",
    "# load Binary CNN json and create model\n",
    "json_file = open(\".\\Models\\Binary-Classification\\CNN\\Binary_CNN.json\", 'r')\n",
    "loaded_model_json = json_file.read()\n",
    "json_file.close()\n",
    "loaded_model = model_from_json(loaded_model_json)\n",
    "# load weights into new model\n",
    "loaded_model.load_weights(\".\\Models\\Binary-Classification\\CNN\\Binary_CNN_Model_Weights\")\n",
    "print(\"Loaded model from disk\")"
   ]
  },
  {
   "cell_type": "code",
   "execution_count": null,
   "metadata": {},
   "outputs": [],
   "source": []
  }
 ],
 "metadata": {
  "interpreter": {
   "hash": "290ec9070849e8daf2fe4bd922bd966932468e9fb905fb4b926b0f4d9e51cc32"
  },
  "kernelspec": {
   "display_name": "Python 3.7.11 64-bit ('gym': conda)",
   "language": "python",
   "name": "python3"
  },
  "language_info": {
   "codemirror_mode": {
    "name": "ipython",
    "version": 3
   },
   "file_extension": ".py",
   "mimetype": "text/x-python",
   "name": "python",
   "nbconvert_exporter": "python",
   "pygments_lexer": "ipython3",
   "version": "3.7.11"
  },
  "orig_nbformat": 4
 },
 "nbformat": 4,
 "nbformat_minor": 2
}
