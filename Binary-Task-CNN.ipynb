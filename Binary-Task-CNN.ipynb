{
 "cells": [
  {
   "cell_type": "markdown",
   "metadata": {},
   "source": [
    "# Binary Task CNN Notebook\n",
    "\n",
    "### Contains Code for Binary task CNN Model creation, training and testing<br/> CNN will be an implementation of AlexNet equivalent structure 5 convolutional layers and 3 fully connected layers"
   ]
  },
  {
   "cell_type": "code",
   "execution_count": 28,
   "metadata": {},
   "outputs": [],
   "source": [
    "# Import required libraries\n",
    "import numpy as np\n",
    "from numpy import expand_dims\n",
    "import pandas as pd\n",
    "import os\n",
    "import matplotlib.pyplot as plt\n",
    "import tensorflow as tf\n",
    "import keras\n",
    "from sklearn.model_selection import train_test_split\n",
    "from sklearn.decomposition import PCA\n",
    "\n",
    "#tqdm is for progress bar functionality in code, must be installed for code to function (TO DO: include exception if tqdm not imported )\n",
    "from tqdm import tqdm\n",
    "\n",
    "import pickle as pkl\n",
    "import cv2\n",
    "\n",
    "#Libraries for CNN model\n",
    "from keras import metrics\n",
    "from keras.models import Sequential\n",
    "from keras.layers import Dense, Activation, Dropout, Flatten, Conv2D, MaxPooling2D\n",
    "from keras.layers.normalization import BatchNormalization\n",
    "from sklearn.metrics import roc_curve, roc_auc_score\n",
    "from sklearn.metrics import classification_report, confusion_matrix, ConfusionMatrixDisplay\n",
    "from keras.models import model_from_json\n",
    "from keras.callbacks import ReduceLROnPlateau\n",
    "\n",
    "#Importing functions notebook containing functions created to streamline code\n",
    "from ipynb.fs.full.functions import load_dataset_CNN"
   ]
  },
  {
   "cell_type": "markdown",
   "metadata": {},
   "source": [
    "# 1. Loading Labels and Resized Image Dataset\n",
    "### 1.1 Loading Dataset via load_dataset_CNN function in \"function.ipynb\""
   ]
  },
  {
   "cell_type": "code",
   "execution_count": 29,
   "metadata": {},
   "outputs": [
    {
     "name": "stdout",
     "output_type": "stream",
     "text": [
      "Datasets successfully loaded with shapes:\n",
      "X Shape:\n",
      "(3000, 50, 50, 1)\n",
      "Y Shape:\n",
      "(3000,)\n"
     ]
    }
   ],
   "source": [
    "#Calls load_dataset_CNN function from function.ipynb to obtain the MRI images dataset and the binary label pickle file and loads it respectively \n",
    "#into our X and Y value. Function also conducts rescaling of image pixel data from 0 to 255 to 0 to 1 range.\n",
    "X, Y = load_dataset_CNN('./dataset/CNN_Images_2D_DF.pkl', './dataset/Y_Binary_label.pkl')"
   ]
  },
  {
   "cell_type": "markdown",
   "metadata": {},
   "source": [
    "### 1.2 Splitting dataset"
   ]
  },
  {
   "cell_type": "code",
   "execution_count": 31,
   "metadata": {},
   "outputs": [],
   "source": [
    "# Split the data into training and testing(70% training and 30% testing data)\n",
    "# Setting random_state to 42 keeps the same random generator seed to be used.\n",
    "# This maintains the split used across code executions so results obtained will be the same for other users\n",
    "xTrain,xTest,yTrain,yTest=train_test_split(X, Y, train_size = 0.7 , random_state = 42)\n",
    "\n",
    "#To verify split data is the same \n",
    "#print(xTrain)"
   ]
  },
  {
   "cell_type": "markdown",
   "metadata": {},
   "source": [
    "#### 1.2.1 Displaying label distribution<br/> We show the the number of samples in each class label "
   ]
  },
  {
   "cell_type": "code",
   "execution_count": 32,
   "metadata": {},
   "outputs": [
    {
     "name": "stdout",
     "output_type": "stream",
     "text": [
      "Training dataset number of samples per class:\n",
      "1.0    1791\n",
      "0.0     309\n",
      "Name: MRI_Binary_Label, dtype: int64\n",
      "Test dataset number of samples per class:\n",
      "1.0    755\n",
      "0.0    145\n",
      "Name: MRI_Binary_Label, dtype: int64\n"
     ]
    }
   ],
   "source": [
    "#Number of Samples per class in training data\n",
    "print(\"Training dataset number of samples per class:\")\n",
    "print(yTrain.value_counts())\n",
    "\n",
    "#Number of Samples per class in test data\n",
    "print(\"Test dataset number of samples per class:\")\n",
    "print(yTest.value_counts())\n",
    "\n",
    "#These values should match the number of samples in the binary SVM train test splits"
   ]
  },
  {
   "cell_type": "markdown",
   "metadata": {},
   "source": [
    "# 2. CNN Model Building"
   ]
  },
  {
   "cell_type": "markdown",
   "metadata": {},
   "source": [
    "### 2.1 Defining model structure"
   ]
  },
  {
   "cell_type": "code",
   "execution_count": 33,
   "metadata": {},
   "outputs": [
    {
     "name": "stdout",
     "output_type": "stream",
     "text": [
      "Model: \"Binary_CNN\"\n",
      "_________________________________________________________________\n",
      "Layer (type)                 Output Shape              Param #   \n",
      "=================================================================\n",
      "conv0 (Conv2D)               (None, 13, 13, 96)        11712     \n",
      "_________________________________________________________________\n",
      "bn0 (BatchNormalization)     (None, 13, 13, 96)        384       \n",
      "_________________________________________________________________\n",
      "activation_19 (Activation)   (None, 13, 13, 96)        0         \n",
      "_________________________________________________________________\n",
      "max_pooling2d_7 (MaxPooling2 (None, 7, 7, 96)          0         \n",
      "_________________________________________________________________\n",
      "conv1 (Conv2D)               (None, 7, 7, 256)         614656    \n",
      "_________________________________________________________________\n",
      "bn1 (BatchNormalization)     (None, 7, 7, 256)         1024      \n",
      "_________________________________________________________________\n",
      "activation_20 (Activation)   (None, 7, 7, 256)         0         \n",
      "_________________________________________________________________\n",
      "max_pooling2d_8 (MaxPooling2 (None, 4, 4, 256)         0         \n",
      "_________________________________________________________________\n",
      "conv2 (Conv2D)               (None, 4, 4, 384)         885120    \n",
      "_________________________________________________________________\n",
      "bn2 (BatchNormalization)     (None, 4, 4, 384)         1536      \n",
      "_________________________________________________________________\n",
      "activation_21 (Activation)   (None, 4, 4, 384)         0         \n",
      "_________________________________________________________________\n",
      "conv3 (Conv2D)               (None, 4, 4, 384)         1327488   \n",
      "_________________________________________________________________\n",
      "bn3 (BatchNormalization)     (None, 4, 4, 384)         1536      \n",
      "_________________________________________________________________\n",
      "activation_22 (Activation)   (None, 4, 4, 384)         0         \n",
      "_________________________________________________________________\n",
      "conv4 (Conv2D)               (None, 4, 4, 256)         884992    \n",
      "_________________________________________________________________\n",
      "bn4 (BatchNormalization)     (None, 4, 4, 256)         1024      \n",
      "_________________________________________________________________\n",
      "activation_23 (Activation)   (None, 4, 4, 256)         0         \n",
      "_________________________________________________________________\n",
      "max_pooling2d_9 (MaxPooling2 (None, 2, 2, 256)         0         \n",
      "_________________________________________________________________\n",
      "flatten_3 (Flatten)          (None, 1024)              0         \n",
      "_________________________________________________________________\n",
      "fc0 (Dense)                  (None, 2500)              2562500   \n",
      "_________________________________________________________________\n",
      "bnfc0 (BatchNormalization)   (None, 2500)              10000     \n",
      "_________________________________________________________________\n",
      "activation_24 (Activation)   (None, 2500)              0         \n",
      "_________________________________________________________________\n",
      "dropout_7 (Dropout)          (None, 2500)              0         \n",
      "_________________________________________________________________\n",
      "fc1 (Dense)                  (None, 2500)              6252500   \n",
      "_________________________________________________________________\n",
      "bnfc1 (BatchNormalization)   (None, 2500)              10000     \n",
      "_________________________________________________________________\n",
      "activation_25 (Activation)   (None, 2500)              0         \n",
      "_________________________________________________________________\n",
      "dropout_8 (Dropout)          (None, 2500)              0         \n",
      "_________________________________________________________________\n",
      "fc2 (Dense)                  (None, 500)               1250500   \n",
      "_________________________________________________________________\n",
      "bnfc2 (BatchNormalization)   (None, 500)               2000      \n",
      "_________________________________________________________________\n",
      "activation_26 (Activation)   (None, 500)               0         \n",
      "_________________________________________________________________\n",
      "dropout_9 (Dropout)          (None, 500)               0         \n",
      "_________________________________________________________________\n",
      "fcOut (Dense)                (None, 1)                 501       \n",
      "_________________________________________________________________\n",
      "batch_normalization_3 (Batch (None, 1)                 4         \n",
      "_________________________________________________________________\n",
      "activation_27 (Activation)   (None, 1)                 0         \n",
      "=================================================================\n",
      "Total params: 13,817,477\n",
      "Trainable params: 13,803,723\n",
      "Non-trainable params: 13,754\n",
      "_________________________________________________________________\n"
     ]
    }
   ],
   "source": [
    "#Initialising the Model\n",
    "Binary_CNN = Sequential(name = 'Binary_CNN')\n",
    "\n",
    "#We use the same number of filters in all convolutional layers of the AlexNet Model\n",
    "#Number of filters in the fully connected layers will be reduced to 2500 2500 and 500\n",
    "#This is to reduce size of CNN so it can be fit into Github without LFS\n",
    "# Final output layer will have 1 node as it is binary classification\n",
    "\n",
    "#1st Convolutional Layer\n",
    "#Input arguements\n",
    "#Filters: Number of output filters in convolution\n",
    "Binary_CNN.add(Conv2D(filters = 96, input_shape = (X.shape[1], X.shape[2], 1), kernel_size = (11, 11), strides = (4, 4), padding = 'same', name=\"conv0\"))\n",
    "Binary_CNN.add(BatchNormalization(name = 'bn0'))\n",
    "Binary_CNN.add(Activation('relu'))\n",
    "Binary_CNN.add(MaxPooling2D(pool_size=(2,2), strides=(2,2), padding='same'))\n",
    "\n",
    "\n",
    "#2nd Convolutional Layer\n",
    "Binary_CNN.add(Conv2D(filters = 256, kernel_size = (5, 5), strides = (1, 1), padding = 'same', name=\"conv1\"))\n",
    "Binary_CNN.add(BatchNormalization(name = 'bn1'))\n",
    "Binary_CNN.add(Activation('relu'))\n",
    "Binary_CNN.add(MaxPooling2D(pool_size=(2,2), strides=(2,2), padding='same'))\n",
    "\n",
    "\n",
    "#3rd Convolutional Layer\n",
    "Binary_CNN.add(Conv2D(filters = 384, kernel_size = (3, 3), strides = (1, 1), padding = 'same', name=\"conv2\"))\n",
    "Binary_CNN.add(BatchNormalization(name = 'bn2'))\n",
    "Binary_CNN.add(Activation('relu'))\n",
    "\n",
    "\n",
    "#4th Convolutional Layer\n",
    "Binary_CNN.add(Conv2D(filters = 384, kernel_size = (3, 3), strides = (1, 1), padding = 'same', name=\"conv3\"))\n",
    "Binary_CNN.add(BatchNormalization(name = 'bn3'))\n",
    "Binary_CNN.add(Activation('relu'))\n",
    "\n",
    "\n",
    "#5th Convolutional Layer\n",
    "Binary_CNN.add(Conv2D(filters = 256, kernel_size = (3, 3), strides = (1, 1), padding = 'same', name=\"conv4\"))\n",
    "Binary_CNN.add(BatchNormalization(name = 'bn4'))\n",
    "Binary_CNN.add(Activation('relu'))\n",
    "Binary_CNN.add(MaxPooling2D(pool_size=(2,2), strides=(2,2), padding='same'))\n",
    "\n",
    "\n",
    "#Passing through the Fully connected layers\n",
    "#We set the number of neurons per layer as 2500 for now\n",
    "#Less than orignal 4096\n",
    "Binary_CNN.add(Flatten())\n",
    "\n",
    "#1st Fully Connected Layer\n",
    "Binary_CNN.add(Dense(2500, name = 'fc0'))\n",
    "Binary_CNN.add(BatchNormalization(name = 'bnfc0'))\n",
    "Binary_CNN.add(Activation('relu'))\n",
    "Binary_CNN.add(Dropout(0.4))\n",
    "\n",
    "#2nd Fully Connected Layer\n",
    "Binary_CNN.add(Dense(2500, name = 'fc1'))\n",
    "Binary_CNN.add(BatchNormalization(name = 'bnfc1'))\n",
    "Binary_CNN.add(Activation('relu'))\n",
    "Binary_CNN.add(Dropout(0.4))\n",
    "\n",
    "#3rd Fully Connected Layer\n",
    "Binary_CNN.add(Dense(500, name = 'fc2'))\n",
    "Binary_CNN.add(BatchNormalization(name = 'bnfc2'))\n",
    "Binary_CNN.add(Activation('relu'))\n",
    "Binary_CNN.add(Dropout(0.4))\n",
    "\n",
    "\n",
    "#Output Layer\n",
    "Binary_CNN.add(Dense(1, name = 'fcOut'))\n",
    "Binary_CNN.add(BatchNormalization())\n",
    "Binary_CNN.add(Activation('sigmoid'))\n",
    "\n",
    "\n",
    "\n",
    "Binary_CNN.summary()"
   ]
  },
  {
   "cell_type": "markdown",
   "metadata": {},
   "source": [
    "### 2.2 Compiling Binary CNN Model"
   ]
  },
  {
   "cell_type": "code",
   "execution_count": 34,
   "metadata": {},
   "outputs": [],
   "source": [
    "#Compiling the model\n",
    "#Loss function is binary_crossentropy\n",
    "#Optimizer is Adam \n",
    "#Metrics to be observed are\n",
    "# Accuracy (both training and validation)\n",
    "# Binary Accuracy\n",
    "# AUC metric\n",
    "Binary_CNN.compile(loss='binary_crossentropy', optimizer= 'adam', metrics=['accuracy', metrics.BinaryAccuracy(), metrics.AUC()])"
   ]
  },
  {
   "cell_type": "markdown",
   "metadata": {},
   "source": [
    "### 2.3 Model Training\n",
    "#### 2.3.1 Defining model training callbacks and parameters"
   ]
  },
  {
   "cell_type": "code",
   "execution_count": 35,
   "metadata": {},
   "outputs": [],
   "source": [
    "#Learning Rate callback\n",
    "lrr= ReduceLROnPlateau(monitor = 'val_accuracy', factor = 0.01, patience = 3, min_lr = 1e-5) \n",
    "\n",
    "#Defining model training parameters\n",
    "batch_size = 32\n",
    "epochs = 30\n",
    "learn_rate = 0.001"
   ]
  },
  {
   "cell_type": "markdown",
   "metadata": {},
   "source": [
    "#### 2.3.2 Training Model with validation set derived from training dataset"
   ]
  },
  {
   "cell_type": "code",
   "execution_count": 36,
   "metadata": {},
   "outputs": [
    {
     "name": "stdout",
     "output_type": "stream",
     "text": [
      "Train on 1470 samples, validate on 630 samples\n",
      "Epoch 1/30\n",
      "1470/1470 [==============================] - 8s 5ms/step - loss: 0.6488 - accuracy: 0.7687 - binary_accuracy: 0.7687 - auc_3: 0.7980 - val_loss: 0.7131 - val_accuracy: 0.1952 - val_binary_accuracy: 0.1952 - val_auc_3: 0.6303ry_accuracy: 0.7652 - auc - ETA: 0s - loss: 0.6521 - accuracy: 0.7664 - binary_accuracy: 0.7664 - auc_3\n",
      "Epoch 2/30\n",
      "1470/1470 [==============================] - 3s 2ms/step - loss: 0.5682 - accuracy: 0.8293 - binary_accuracy: 0.8293 - auc_3: 0.8918 - val_loss: 0.5244 - val_accuracy: 0.8540 - val_binary_accuracy: 0.8540 - val_auc_3: 0.8491racy: 0.8034 - binary_accuracy: 0. - ETA: 0s - loss: 0.5864 - accuracy: 0.8143 - binary_accuracy\n",
      "Epoch 3/30\n",
      "1470/1470 [==============================] - 3s 2ms/step - loss: 0.4997 - accuracy: 0.8918 - binary_accuracy: 0.8918 - auc_3: 0.9515 - val_loss: 0.7042 - val_accuracy: 0.4508 - val_binary_accuracy: 0.4508 - val_auc_3: 0.5212racy: 0.88\n",
      "Epoch 4/30\n",
      "1470/1470 [==============================] - 3s 2ms/step - loss: 0.4773 - accuracy: 0.9014 - binary_accuracy: 0.9014 - auc_3: 0.9501 - val_loss: 1.9784 - val_accuracy: 0.1460 - val_binary_accuracy: 0.1460 - val_auc_3: 0.8107curacy: 0.8939 - binary_accuracy: 0.8939 - auc_3: 0. - ETA: 0s - loss: 0.4848 - accuracy: 0.8929 - binary_accuracy: 0.8929 - auc_3: 0. - ETA: 0s - loss: 0.4832 - accuracy: 0.8953 - binary_accuracy: 0.8953 - a - ETA: 0s - loss: 0.4794 - accuracy: 0.8975 - binary_accuracy: 0.8975 - auc_3: 0. - ETA: 0s - loss: 0.4786 - accuracy: 0.8993 - binary_accuracy: 0.8993 - auc_3: 0.94\n",
      "Epoch 5/30\n",
      "1470/1470 [==============================] - 3s 2ms/step - loss: 0.4361 - accuracy: 0.9320 - binary_accuracy: 0.9320 - auc_3: 0.9755 - val_loss: 2.3292 - val_accuracy: 0.1460 - val_binary_accuracy: 0.1460 - val_auc_3: 0.9115oss:\n",
      "Epoch 6/30\n",
      "1470/1470 [==============================] - 3s 2ms/step - loss: 0.4082 - accuracy: 0.9599 - binary_accuracy: 0.9599 - auc_3: 0.9811 - val_loss: 1.1524 - val_accuracy: 0.1460 - val_binary_accuracy: 0.1460 - val_auc_3: 0.8887 0.4044 \n",
      "Epoch 7/30\n",
      "1470/1470 [==============================] - 3s 2ms/step - loss: 0.3927 - accuracy: 0.9714 - binary_accuracy: 0.9714 - auc_3: 0.9953 - val_loss: 0.8176 - val_accuracy: 0.1841 - val_binary_accuracy: 0.1841 - val_auc_3: 0.8690oss: 0.4039 - accuracy: 0.9669 - binary_accuracy: 0.9669 - auc_3: 0.99 - ETA: 1s - loss: 0.4011 - accuracy: 0.9688 - binary_accuracy: 0.9688 - auc_3 - ETA: 1s - loss: 0.4022 - accuracy: 0. - ETA: 0s - loss: 0.3930 - accuracy: 0.9708 - binary_accuracy: 0.9708 - auc_3: 0.99\n",
      "Epoch 8/30\n",
      "1470/1470 [==============================] - 3s 2ms/step - loss: 0.3936 - accuracy: 0.9687 - binary_accuracy: 0.9687 - auc_3: 0.9902 - val_loss: 0.6741 - val_accuracy: 0.5603 - val_binary_accuracy: 0.5603 - val_auc_3: 0.8602oss: 0.3986 - accuracy: 0.9648 - binary_accuracy: 0.9648 - auc_3 - ETA: 1s - loss: 0.3984 - accuracy: 0.9641 - binary_accuracy: 0.9641 - - ETA: 1s - loss: 0.3962 - accuracy: 0.9688 - binary_accuracy: 0.9688 - a - ETA: 0s - loss: 0.3934 - accuracy: 0.9659 - binary_accuracy: 0.9659 - auc - ETA: 0s - loss: 0.3909 - accuracy: 0.9688 - binary_accuracy: 0.9688\n",
      "Epoch 9/30\n",
      "1470/1470 [==============================] - 3s 2ms/step - loss: 0.3959 - accuracy: 0.9701 - binary_accuracy: 0.9701 - auc_3: 0.9889 - val_loss: 0.5838 - val_accuracy: 0.8175 - val_binary_accuracy: 0.8175 - val_auc_3: 0.8596.3962 - accuracy: 0.9695 - binary_accuracy: 0.9695 - auc_3\n",
      "Epoch 10/30\n",
      "1470/1470 [==============================] - 3s 2ms/step - loss: 0.3933 - accuracy: 0.9776 - binary_accuracy: 0.9776 - auc_3: 0.9938 - val_loss: 0.5296 - val_accuracy: 0.8825 - val_binary_accuracy: 0.8825 - val_auc_3: 0.8606oss: 0.3964 - accuracy: 0.9812 - - ETA: 0s - loss: 0.3972 - accuracy: 0.9750 - binary_accuracy: 0.9750 - ETA: 0s - loss: 0.3934 - accuracy: 0.9767 - binary_accuracy: 0.9767 - auc_3: \n",
      "Epoch 11/30\n",
      "1470/1470 [==============================] - 3s 2ms/step - loss: 0.3914 - accuracy: 0.9728 - binary_accuracy: 0.9728 - auc_3: 0.9910 - val_loss: 0.4867 - val_accuracy: 0.9111 - val_binary_accuracy: 0.9111 - val_auc_3: 0.8795: 0.9844 - binary_accuracy: 0.9844 - auc_3 - ETA: 0s - loss: 0.3851 - accuracy: 0.9834 - binary_accuracy: 0.9834 - auc - ETA: 0s - loss: 0.3890 - accuracy: 0.9789 - binary_accuracy: 0.9789 - auc_3:  - ETA: 0s - loss: 0.3899 - accuracy: 0.9773 - binary_accuracy: 0.9773 - a\n",
      "Epoch 12/30\n",
      "1470/1470 [==============================] - 3s 2ms/step - loss: 0.3933 - accuracy: 0.9735 - binary_accuracy: 0.9735 - auc_3: 0.9871 - val_loss: 0.4578 - val_accuracy: 0.9222 - val_binary_accuracy: 0.9222 - val_auc_3: 0.9291s: 0.4039 - accuracy: 0.9706 - binary_accuracy: 0.97 - ETA: 1s - loss: 0.4015 - accuracy: 0.9724 - binary_accura - ETA: 0s - loss: 0.3997 - accuracy: 0.9728 - binary_accuracy: 0.9728 -\n",
      "Epoch 13/30\n",
      "1470/1470 [==============================] - 3s 2ms/step - loss: 0.3966 - accuracy: 0.9694 - binary_accuracy: 0.9694 - auc_3: 0.9934 - val_loss: 0.4382 - val_accuracy: 0.9413 - val_binary_accuracy: 0.9413 - val_auc_3: 0.9530: 0.9650 - binary_accura\n",
      "Epoch 14/30\n",
      "1470/1470 [==============================] - 3s 2ms/step - loss: 0.3897 - accuracy: 0.9782 - binary_accuracy: 0.9782 - auc_3: 0.9919 - val_loss: 0.4293 - val_accuracy: 0.9492 - val_binary_accuracy: 0.9492 - val_auc_3: 0.9662\n",
      "Epoch 15/30\n",
      "1470/1470 [==============================] - 3s 2ms/step - loss: 0.3831 - accuracy: 0.9830 - binary_accuracy: 0.9830 - auc_3: 0.9954 - val_loss: 0.4282 - val_accuracy: 0.9460 - val_binary_accuracy: 0.9460 - val_auc_3: 0.9653 0.3787 - accuracy: 0.9826 - binary_accuracy: 0.9826 - auc_3: 0. - ETA: 2s - loss: 0.3801 - accuracy: 0.9858 - binary_ - ETA: 1s - loss: 0.3858 - accuracy: 0.9850 - binary_accuracy: 0.98 - ETA: 0s - loss: 0.3834 - accuracy: 0.9844 - binary_accuracy: 0.9844 - ETA: 0s - loss: 0.3841 - accuracy: 0.9822 - binary_accuracy: 0.9822 - auc_3: 0.\n",
      "Epoch 16/30\n",
      "1470/1470 [==============================] - 3s 2ms/step - loss: 0.3893 - accuracy: 0.9803 - binary_accuracy: 0.9803 - auc_3: 0.9967 - val_loss: 0.4267 - val_accuracy: 0.9524 - val_binary_accuracy: 0.9524 - val_auc_3: 0.9618curacy: 0.9792 - binary_accuracy: 0.9792 - auc - ETA: 1s - loss: 0.4030 - accuracy: 0.9743 - binary_accu - ETA: 0s - loss: 0.3924 - accuracy: 0.9808 - binary_accuracy: 0.9808 - a - ETA: 0s - loss: 0.3901 - accuracy: 0.9814 - binary_accuracy: 0.9814 - auc_3 - ETA: 0s - loss: 0.3910 - accuracy: 0.9802 - binary_accuracy: 0.9802 - auc\n",
      "Epoch 17/30\n",
      "1470/1470 [==============================] - 3s 2ms/step - loss: 0.3886 - accuracy: 0.9776 - binary_accuracy: 0.9776 - auc_3: 0.9980 - val_loss: 0.4263 - val_accuracy: 0.9476 - val_binary_accuracy: 0.9476 - val_auc_3: 0.9631 0.3884 - accuracy: 0.9789 - binary_accuracy: 0.97\n",
      "Epoch 18/30\n",
      "1470/1470 [==============================] - 3s 2ms/step - loss: 0.3861 - accuracy: 0.9816 - binary_accuracy: 0.9816 - auc_3: 0.9982 - val_loss: 0.4273 - val_accuracy: 0.9460 - val_binary_accuracy: 0.9460 - val_auc_3: 0.9675cy: 0.9748 - binary_accuracy: 0.9748 - a - ETA: 0s - loss: 0.3916 - accuracy: 0.9785 - binary_accuracy: 0.9785 - ETA: 0s - loss: 0.3878 - accuracy: 0.9805 - binary_accuracy: 0.9805 - a\n",
      "Epoch 19/30\n",
      "1470/1470 [==============================] - 3s 2ms/step - loss: 0.3854 - accuracy: 0.9782 - binary_accuracy: 0.9782 - auc_3: 0.9965 - val_loss: 0.4287 - val_accuracy: 0.9381 - val_binary_accuracy: 0.9381 - val_auc_3: 0.9746- accuracy:  - ETA: 0s - loss: 0.3807 - accuracy: 0.9798 - binary_accuracy: 0.9798 - auc_3: 0. - ETA: 0s - loss: 0.3829 - accuracy: 0.9792 - binary_accuracy: 0.9792 - - ETA: 0s - loss: 0.3799 - accuracy: 0.9804 - binary_accuracy: 0.9804 - auc_3: \n",
      "Epoch 20/30\n",
      "1470/1470 [==============================] - 3s 2ms/step - loss: 0.3832 - accuracy: 0.9830 - binary_accuracy: 0.9830 - auc_3: 0.9959 - val_loss: 0.4287 - val_accuracy: 0.9397 - val_binary_accuracy: 0.9397 - val_auc_3: 0.97414 - accuracy: 0.9792 - binar - ETA: 1s - loss: 0.3839 - accuracy: 0.9838 - binary_accuracy: 0.9838 - auc_3:  - ETA: 0s - loss: 0.3850 - accuracy: 0.9844 - binary_accu\n",
      "Epoch 21/30\n",
      "1470/1470 [==============================] - 3s 2ms/step - loss: 0.3910 - accuracy: 0.9789 - binary_accuracy: 0.9789 - auc_3: 0.9952 - val_loss: 0.4287 - val_accuracy: 0.9397 - val_binary_accuracy: 0.9397 - val_auc_3: 0.9731accuracy: 0.9812 - binary_accuracy: 0.98 - ETA: 1s - loss: 0.3948 - accuracy: 0.9731 - binar\n",
      "Epoch 22/30\n",
      "1470/1470 [==============================] - 3s 2ms/step - loss: 0.3811 - accuracy: 0.9871 - binary_accuracy: 0.9871 - auc_3: 0.9961 - val_loss: 0.4294 - val_accuracy: 0.9397 - val_binary_accuracy: 0.9397 - val_auc_3: 0.972359 - binary_accuracy: 0. - ETA: 1s - loss: 0.3814 - accuracy: 0.9885 - binary_accuracy: 0.9885 - - ETA: 0s - loss: 0.3821 - accuracy: 0.9856 - binary_accuracy: 0.98\n",
      "Epoch 23/30\n",
      "1470/1470 [==============================] - 3s 2ms/step - loss: 0.3868 - accuracy: 0.9830 - binary_accuracy: 0.9830 - auc_3: 0.9955 - val_loss: 0.4262 - val_accuracy: 0.9397 - val_binary_accuracy: 0.9397 - val_auc_3: 0.9701cy: 0.9856 - binary_accuracy: 0.9856 - auc_3: 0. - ETA: 0s - loss: 0.3831 - accuracy: 0.9863 - binary_accuracy: 0.9863 - auc_3:  - ETA: 0s - loss: 0.3804 - accuracy: 0.9872 - binary_accuracy: 0.9872 - auc_3: 0.\n",
      "Epoch 24/30\n",
      "1470/1470 [==============================] - 3s 2ms/step - loss: 0.3819 - accuracy: 0.9844 - binary_accuracy: 0.9844 - auc_3: 0.9937 - val_loss: 0.4279 - val_accuracy: 0.9397 - val_binary_accuracy: 0.9397 - val_auc_3: 0.9709s: 0.3879 - accura - ETA: 0s - loss: 0.3857 - accuracy: 0.9835 - binary_accuracy: 0.9835 - auc_3: 0.99 - ETA: 0s - loss: 0.3859 - accuracy: 0.9821 - binary_accuracy: 0.9821 - - ETA: 0s - loss: 0.3813 - accuracy: 0.9829 - binary_accuracy: 0.9829 - auc_3\n",
      "Epoch 25/30\n",
      "1470/1470 [==============================] - 3s 2ms/step - loss: 0.3806 - accuracy: 0.9884 - binary_accuracy: 0.9884 - auc_3: 0.9987 - val_loss: 0.4272 - val_accuracy: 0.9429 - val_binary_accuracy: 0.9429 - val_auc_3: 0.9698racy: 0.9918 - binary_accuracy: 0.9918 - auc - ETA: 1s - loss: 0.3835 - accuracy: 0.9909 - binary_accuracy - ETA: 0s - loss: 0.3821 - accuracy: 0.9861 - binary_accuracy: 0.\n",
      "Epoch 26/30\n",
      "1470/1470 [==============================] - 3s 2ms/step - loss: 0.3924 - accuracy: 0.9748 - binary_accuracy: 0.9748 - auc_3: 0.9946 - val_loss: 0.4257 - val_accuracy: 0.9413 - val_binary_accuracy: 0.9413 - val_auc_3: 0.9684: 0.9730 - ETA: 0s - loss: 0.3930 - accuracy: 0.9743 - binary_accuracy: 0.9743 - auc_3: 0.99\n",
      "Epoch 27/30\n",
      "1470/1470 [==============================] - 3s 2ms/step - loss: 0.3834 - accuracy: 0.9803 - binary_accuracy: 0.9803 - auc_3: 0.9954 - val_loss: 0.4247 - val_accuracy: 0.9413 - val_binary_accuracy: 0.9413 - val_auc_3: 0.9693cy: 0.9722 - binary_accuracy: 0.9722 - auc - ETA: 1s - loss: 0.3920 - accuracy: 0.9769 - binary_accuracy: 0.9769 - - ETA: 0s - loss: 0.3843 - accuracy: 0.9823 - binary_accuracy: 0.9823 - auc_3:  - ETA: 0s - loss: 0.3847 - accuracy: 0.9820 - binary_accuracy - ETA: 0s - loss: 0.3834 - accuracy: 0.9806 - binary_accuracy: 0.9806 - auc_3: 0.99\n",
      "Epoch 28/30\n",
      "1470/1470 [==============================] - 3s 2ms/step - loss: 0.3857 - accuracy: 0.9816 - binary_accuracy: 0.9816 - auc_3: 0.9960 - val_loss: 0.4246 - val_accuracy: 0.9460 - val_binary_accuracy: 0.9460 - val_auc_3: 0.9590 - ETA: 0s - loss: 0.3845 - accuracy: 0.9812 - binary_accuracy: 0.9812 - auc_3: 0.99\n",
      "Epoch 29/30\n",
      "1470/1470 [==============================] - 3s 2ms/step - loss: 0.3813 - accuracy: 0.9844 - binary_accuracy: 0.9844 - auc_3: 0.9990 - val_loss: 0.4256 - val_accuracy: 0.9429 - val_binary_accuracy: 0.9429 - val_auc_3: 0.96815 - accuracy: 0.9863 - binary_accuracy: 0.9863 - auc - ETA: 1s - loss: 0.3795 - accuracy: 0.9821 - binary_accuracy: 0.9821 - auc - ETA: 1s - loss: 0.3801 - accuracy: 0.9820 -\n",
      "Epoch 30/30\n",
      "1470/1470 [==============================] - 3s 2ms/step - loss: 0.3780 - accuracy: 0.9878 - binary_accuracy: 0.9878 - auc_3: 0.9978 - val_loss: 0.4279 - val_accuracy: 0.9413 - val_binary_accuracy: 0.9413 - val_auc_3: 0.9684.3652 - accuracy: 0.9915 - binary_accuracy - ETA: 1s - loss: 0.3757 - accuracy: 0.9864 - binary_accuracy: 0.9864 - auc_3: 0. - ETA: 1s - loss: 0.3750 - accuracy: 0.9875 - binary_accuracy: 0.9875 - auc_3: 0. - ETA: 1s - loss: 0.3737 - accuracy: 0.9884 - binar - ETA: 0s - loss: 0.3786 - accuracy: 0.9879 - binary_accuracy: 0.9879 - auc_3: 0.\n"
     ]
    },
    {
     "data": {
      "text/plain": [
       "<keras.callbacks.callbacks.History at 0x1b6e143ddc8>"
      ]
     },
     "execution_count": 36,
     "metadata": {},
     "output_type": "execute_result"
    }
   ],
   "source": [
    "#Training the Model\n",
    "#Explanation of the fit arguements\n",
    "#Validation_split splits the training data and uses that split set aside for model validation\n",
    "#in this case we set aside 30% of our training data to be used as validation data and the remaining 70% is used for training\n",
    "#This leaves the original 30% test set as our sample test data. Which will be use on top of the out of sample test data which will be released at a later date\n",
    "#Batch size and epochs are based on parameters set previously\n",
    "#verbose gives us a progress bar per epoch\n",
    "#callbacks includes the learning rate reduction on plateau funtion\n",
    "\n",
    "Binary_CNN.fit(xTrain, yTrain, batch_size= batch_size, epochs= epochs, validation_split= 0.3, shuffle = False, verbose = 1, callbacks = [lrr])\n",
    "#History.history attribute is a record of training loss values and metrics values at successive epochs\n",
    "#as well as validation loss values and validation metrics values (if applicable)."
   ]
  },
  {
   "cell_type": "markdown",
   "metadata": {},
   "source": [
    "### 2.4 Assessing Model Training Performance"
   ]
  },
  {
   "cell_type": "code",
   "execution_count": 37,
   "metadata": {},
   "outputs": [
    {
     "name": "stdout",
     "output_type": "stream",
     "text": [
      "dict_keys(['val_loss', 'val_accuracy', 'val_binary_accuracy', 'val_auc_3', 'loss', 'accuracy', 'binary_accuracy', 'auc_3', 'lr'])\n",
      "Training accuracy:  0.9877551\n",
      "Training loss:  0.37799592297904344\n"
     ]
    }
   ],
   "source": [
    "#Testing addressing of trained model history metrics\n",
    "#Allows us to access the model training history stats such as accuracy in trianing and validation\n",
    "#Shows us the available metrics to check\n",
    "#Can change metrics available by changing metrics to be observed when compiling the model\n",
    "print(Binary_CNN.history.history.keys())\n",
    "\n",
    "#Obtains training accuracy and loss of the most recent epoch to be finished\n",
    "acc = Binary_CNN.history.history['accuracy'][-1]\n",
    "loss = Binary_CNN.history.history['loss'][-1]\n",
    "\n",
    "print(\"Training accuracy: \", acc)\n",
    "print(\"Training loss: \", loss)\n"
   ]
  },
  {
   "cell_type": "markdown",
   "metadata": {},
   "source": [
    "#### 2.4.1 Visualising Model parameters during training"
   ]
  },
  {
   "cell_type": "code",
   "execution_count": 21,
   "metadata": {},
   "outputs": [
    {
     "data": {
      "text/plain": [
       "<matplotlib.legend.Legend at 0x1b7ba452f88>"
      ]
     },
     "execution_count": 21,
     "metadata": {},
     "output_type": "execute_result"
    },
    {
     "data": {
      "image/png": "[encoded data removed]",
      "text/plain": [
       "<Figure size 432x288 with 2 Axes>"
      ]
     },
     "metadata": {
      "needs_background": "light"
     },
     "output_type": "display_data"
    }
   ],
   "source": [
    "#Plotting the Training and validation loss\n",
    "\n",
    "#Creating 2 subsplots under 1 figure\n",
    "f, acc_plot = plt.subplots(2,1)\n",
    "\n",
    "#First subplot graphs training loss and validation loss\n",
    "acc_plot[0].plot(Binary_CNN.history.history['loss'], color = 'b', label = 'Training Loss')\n",
    "acc_plot[0].plot(Binary_CNN.history.history['val_loss'], color = 'r', label = 'Validation Loss')\n",
    "acc_plot[0].set_ylabel('Loss')\n",
    "acc_plot[0].set_title('Training and Validation Accuracy and loss over number of epochs')\n",
    "acc_plot[0].grid()\n",
    "acc_plot[0].legend()\n",
    "\n",
    "#Second subplot graphs training accuracy and validation accuracy\n",
    "acc_plot[1].plot(Binary_CNN.history.history['accuracy'], color = 'b', label = 'Training Accuracy')\n",
    "acc_plot[1].plot(Binary_CNN.history.history['val_accuracy'], color = 'r', label = 'Validation Accuracy')\n",
    "acc_plot[1].set_ylabel('Accuracy')\n",
    "acc_plot[1].set_xlabel('Number of Epochs')\n",
    "acc_plot[1].grid()\n",
    "acc_plot[1].legend()\n",
    "\n",
    "#Saves plot to be used in the report\n",
    "plt.savefig('./Plots/Train_Val_Acc_Loss_Binary_CNN.jpg', bbox_inches='tight')"
   ]
  },
  {
   "cell_type": "markdown",
   "metadata": {},
   "source": [
    "# 3. Making Predictions with Trained Model"
   ]
  },
  {
   "cell_type": "markdown",
   "metadata": {},
   "source": [
    "### 3.1 Obtaining Classification report and confusion matrix"
   ]
  },
  {
   "cell_type": "code",
   "execution_count": 22,
   "metadata": {},
   "outputs": [
    {
     "name": "stdout",
     "output_type": "stream",
     "text": [
      "900/900 [==============================] - 2s 2ms/step\n",
      "The Results for Binary CNN are:\n",
      "              precision    recall  f1-score   support\n",
      "\n",
      "         0.0       0.84      0.79      0.82       134\n",
      "         1.0       0.96      0.97      0.97       766\n",
      "\n",
      "    accuracy                           0.95       900\n",
      "   macro avg       0.90      0.88      0.89       900\n",
      "weighted avg       0.95      0.95      0.95       900\n",
      "\n",
      "The confusion matrix is:\n",
      "[[106  28]\n",
      " [ 20 746]]\n"
     ]
    }
   ],
   "source": [
    "#Making Predictions with the model\n",
    "#We make 2 sets of predictions using the trained model. One which predicts the absolute class of the test image \n",
    "#and another subsequently which provides probability of the labels (0 or 1) using predict_proba. The latter is used for ROC curve plotting\n",
    "Binary_CNN_pred = Binary_CNN.predict_classes(xTest, verbose = 1)\n",
    "\n",
    "#Printing the classification report and metrics\n",
    "print(\"The Results for Binary CNN are:\")\n",
    "print(classification_report(yTest, Binary_CNN_pred))\n",
    "\n",
    "#Printing the confusion matrix for Binary CNN\n",
    "print(\"The confusion matrix is:\")\n",
    "print(confusion_matrix(yTest, Binary_CNN_pred))\n",
    "\n",
    "#To obtain TNR, TPR and FPR metrics for Binary CNN in discrete form\n",
    "FPR_Binary_CNN, TPR_Binary_CNN, Binary_CNN_thres = roc_curve(yTest, Binary_CNN_pred)\n",
    "TNR_Binary_CNN = 746 / (746 + 28)"
   ]
  },
  {
   "cell_type": "markdown",
   "metadata": {},
   "source": [
    "### 3.2 Obtaining ROC curve and other metrics of Binary CNN model"
   ]
  },
  {
   "cell_type": "code",
   "execution_count": 23,
   "metadata": {},
   "outputs": [
    {
     "name": "stdout",
     "output_type": "stream",
     "text": [
      "900/900 [==============================] - 0s 424us/step\n",
      "roc_auc_score for Binary CNN:  0.9403764467479834\n"
     ]
    }
   ],
   "source": [
    "#And the 2nd one being the probability of label for ROC curve assessment\n",
    "Binary_CNN_pred_probability = Binary_CNN.predict_proba(xTest, verbose = 1)\n",
    "FPR_Binary_CNN_proba, TPR_Binary_CNN_proba, Binary_CNN_thres_proba = roc_curve(yTest, Binary_CNN_pred_probability)\n",
    "\n",
    "#Printing the main metrics to assess performance of the Binary CNN model\n",
    "print(\"The metrics for Binary CNN model are as follows\")\n",
    "print(\"True Positive Rate: \", print(TPR_Binary_CNN))\n",
    "print(\"True Negative Rate: \", print(TNR_Binary_CNN))\n",
    "print('roc_auc_score for Binary CNN: ', roc_auc_score(yTest, Binary_CNN_pred_probability))"
   ]
  },
  {
   "cell_type": "code",
   "execution_count": 24,
   "metadata": {},
   "outputs": [
    {
     "data": {
      "image/png": "[encoded data removed]",
      "text/plain": [
       "<Figure size 720x720 with 1 Axes>"
      ]
     },
     "metadata": {
      "needs_background": "light"
     },
     "output_type": "display_data"
    }
   ],
   "source": [
    "#We can visualise the ROC curve for Binary CNN using the probability of class predictions given by Binary_CNN_pred_probability\n",
    "\n",
    "plt.subplots(1, figsize=(10,10))\n",
    "plt.grid()\n",
    "\n",
    "#This plot is the CNN model\n",
    "plt.plot(FPR_Binary_CNN_proba, TPR_Binary_CNN_proba, linestyle='-', color='b', marker='o', label =\"Binary CNN\")\n",
    "\n",
    "#Optimal Model line\n",
    "plt.plot([0, 1], ls=\"--\")\n",
    "\n",
    "#Diagonal Dotted Line\n",
    "plt.plot([0, 0], [1, 0] , c=\".7\"), plt.plot([1, 1] , c=\".7\")\n",
    "\n",
    "#Labels for title and axis\n",
    "plt.title('Receiver Operating Characteristic - Binary CNN', fontsize=22)\n",
    "plt.ylabel('True Positive Rate', fontsize=18)\n",
    "plt.xlabel('False Positive Rate', fontsize=18)\n",
    "plt.yticks(fontsize=16)\n",
    "plt.xticks(fontsize=16)\n",
    "plt.legend(fontsize=20)\n",
    "\n",
    "#Saves plot to be used in the report\n",
    "plt.savefig('./Plots/ROC_Binary_CNN.jpg', bbox_inches='tight')"
   ]
  },
  {
   "cell_type": "markdown",
   "metadata": {},
   "source": [
    "# 4. Saving Model"
   ]
  },
  {
   "cell_type": "code",
   "execution_count": 25,
   "metadata": {},
   "outputs": [
    {
     "name": "stdout",
     "output_type": "stream",
     "text": [
      "Saved model to disk\n"
     ]
    }
   ],
   "source": [
    "#Saving Binary CNN model to json\n",
    "#We split the model architecture and weights to reduce the overall size of the individual files to allow committing to Github\n",
    "#This saves the model architecture to save space\n",
    "Binary_CNN_json = Binary_CNN.to_json()\n",
    "with open(\".\\Models\\Binary-Classification\\CNN\\Binary_CNN.json\", \"w\") as json_file:\n",
    "    json_file.write(Binary_CNN_json)\n",
    "\n",
    "#Saving the Binary_CNN Model weights \n",
    "Binary_CNN.save_weights(\".\\Models\\Binary-Classification\\CNN\\Binary_CNN_Model_Weights\")\n",
    "print(\"Saved model to disk\")"
   ]
  },
  {
   "cell_type": "code",
   "execution_count": 26,
   "metadata": {},
   "outputs": [
    {
     "name": "stdout",
     "output_type": "stream",
     "text": [
      "Loaded model from disk\n"
     ]
    }
   ],
   "source": [
    "#Test to load CNN Model\n",
    "# load Binary CNN json and create model\n",
    "json_file = open(\".\\Models\\Binary-Classification\\CNN\\Binary_CNN.json\", 'r')\n",
    "loaded_model_json = json_file.read()\n",
    "json_file.close()\n",
    "loaded_model = model_from_json(loaded_model_json)\n",
    "# load weights into new model\n",
    "loaded_model.load_weights(\".\\Models\\Binary-Classification\\CNN\\Binary_CNN_Model_Weights\")\n",
    "print(\"Loaded model from disk\")"
   ]
  },
  {
   "cell_type": "code",
   "execution_count": null,
   "metadata": {},
   "outputs": [],
   "source": []
  }
 ],
 "metadata": {
  "interpreter": {
   "hash": "290ec9070849e8daf2fe4bd922bd966932468e9fb905fb4b926b0f4d9e51cc32"
  },
  "kernelspec": {
   "display_name": "Python 3.7.11 64-bit ('gym': conda)",
   "language": "python",
   "name": "python3"
  },
  "language_info": {
   "codemirror_mode": {
    "name": "ipython",
    "version": 3
   },
   "file_extension": ".py",
   "mimetype": "text/x-python",
   "name": "python",
   "nbconvert_exporter": "python",
   "pygments_lexer": "ipython3",
   "version": "3.7.11"
  },
  "orig_nbformat": 4
 },
 "nbformat": 4,
 "nbformat_minor": 2
}
