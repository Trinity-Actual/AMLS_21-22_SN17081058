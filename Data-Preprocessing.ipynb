{
 "cells": [
  {
   "cell_type": "markdown",
   "metadata": {},
   "source": [
    "# Dataset Pre-Processing\n",
    "### This Notebook contains the code which carries out the dataset preprocessing before it is used in both the binary and multiclass tasks in the assessment\n",
    "### Will process the Original Raw dataset and label csv files into appropriate formats for both tasks\n",
    "#### To Do:\n",
    "#### Add description of the destination folders and files created for both the binary and multiclass notebooks to use"
   ]
  },
  {
   "cell_type": "code",
   "execution_count": 17,
   "metadata": {},
   "outputs": [
    {
     "name": "stderr",
     "output_type": "stream",
     "text": [
      "Using TensorFlow backend.\n"
     ]
    },
    {
     "name": "stdout",
     "output_type": "stream",
     "text": [
      "2.1.0\n"
     ]
    }
   ],
   "source": [
    "#Importing required libraries\n",
    "import numpy as np\n",
    "import pandas as pd\n",
    "from sklearn.model_selection import train_test_split\n",
    "import matplotlib.pyplot as plt\n",
    "import tensorflow as tf\n",
    "import keras\n",
    "#Debug to check tensorflow version\n",
    "print(tf.__version__)"
   ]
  },
  {
   "cell_type": "markdown",
   "metadata": {},
   "source": [
    "# 1. Exploring the dataset"
   ]
  },
  {
   "cell_type": "code",
   "execution_count": 2,
   "metadata": {},
   "outputs": [
    {
     "name": "stdout",
     "output_type": "stream",
     "text": [
      "        file_name             label\n",
      "0  IMAGE_0000.jpg  meningioma_tumor\n",
      "1  IMAGE_0001.jpg          no_tumor\n",
      "2  IMAGE_0002.jpg  meningioma_tumor\n",
      "3  IMAGE_0003.jpg      glioma_tumor\n",
      "4  IMAGE_0004.jpg  meningioma_tumor\n"
     ]
    },
    {
     "data": {
      "text/plain": [
       "(3000, 2)"
      ]
     },
     "execution_count": 2,
     "metadata": {},
     "output_type": "execute_result"
    }
   ],
   "source": [
    "#Loading the CSV Label file\n",
    "mri_scan_labels = pd.read_csv('./dataset/label.csv')\n",
    "print(mri_scan_labels.head())\n",
    "\n",
    "# 3000 labels for 3000 images\n",
    "mri_scan_labels.shape\n",
    "\n",
    "# The collection of MRI images are stored as IMAGE_0000 to _2999 as there are 3000 images with their respective target labels"
   ]
  },
  {
   "cell_type": "code",
   "execution_count": 3,
   "metadata": {},
   "outputs": [
    {
     "data": {
      "text/plain": [
       "label           \n",
       "glioma_tumor        860\n",
       "meningioma_tumor    855\n",
       "pituitary_tumor     831\n",
       "no_tumor            454\n",
       "dtype: int64"
      ]
     },
     "execution_count": 3,
     "metadata": {},
     "output_type": "execute_result"
    }
   ],
   "source": [
    "#.value_counts checks the number of unique classes in the dataframe, in this case specifically the label column\n",
    "mri_scan_labels.value_counts(['label'])\n",
    "\n",
    "#We can see that there are 4 unique outputs, 3 types of tumors and 1 being no tumor.\n",
    "#Thus there are 4 distince target classes present in the label.csv file.\n",
    "#This will be used for subsequent indexing of binary and multiclass datasets for model training and testing "
   ]
  },
  {
   "cell_type": "markdown",
   "metadata": {},
   "source": [
    "# 2. Binary Task Dataset Re-labelling"
   ]
  },
  {
   "cell_type": "code",
   "execution_count": 4,
   "metadata": {},
   "outputs": [
    {
     "data": {
      "text/html": [
       "<div>\n",
       "<style scoped>\n",
       "    .dataframe tbody tr th:only-of-type {\n",
       "        vertical-align: middle;\n",
       "    }\n",
       "\n",
       "    .dataframe tbody tr th {\n",
       "        vertical-align: top;\n",
       "    }\n",
       "\n",
       "    .dataframe thead th {\n",
       "        text-align: right;\n",
       "    }\n",
       "</style>\n",
       "<table border=\"1\" class=\"dataframe\">\n",
       "  <thead>\n",
       "    <tr style=\"text-align: right;\">\n",
       "      <th></th>\n",
       "      <th>label</th>\n",
       "    </tr>\n",
       "  </thead>\n",
       "  <tbody>\n",
       "    <tr>\n",
       "      <th>0</th>\n",
       "      <td>meningioma_tumor</td>\n",
       "    </tr>\n",
       "    <tr>\n",
       "      <th>1</th>\n",
       "      <td>no_tumor</td>\n",
       "    </tr>\n",
       "    <tr>\n",
       "      <th>2</th>\n",
       "      <td>meningioma_tumor</td>\n",
       "    </tr>\n",
       "    <tr>\n",
       "      <th>3</th>\n",
       "      <td>glioma_tumor</td>\n",
       "    </tr>\n",
       "    <tr>\n",
       "      <th>4</th>\n",
       "      <td>meningioma_tumor</td>\n",
       "    </tr>\n",
       "    <tr>\n",
       "      <th>...</th>\n",
       "      <td>...</td>\n",
       "    </tr>\n",
       "    <tr>\n",
       "      <th>2995</th>\n",
       "      <td>no_tumor</td>\n",
       "    </tr>\n",
       "    <tr>\n",
       "      <th>2996</th>\n",
       "      <td>meningioma_tumor</td>\n",
       "    </tr>\n",
       "    <tr>\n",
       "      <th>2997</th>\n",
       "      <td>glioma_tumor</td>\n",
       "    </tr>\n",
       "    <tr>\n",
       "      <th>2998</th>\n",
       "      <td>glioma_tumor</td>\n",
       "    </tr>\n",
       "    <tr>\n",
       "      <th>2999</th>\n",
       "      <td>pituitary_tumor</td>\n",
       "    </tr>\n",
       "  </tbody>\n",
       "</table>\n",
       "<p>3000 rows × 1 columns</p>\n",
       "</div>"
      ],
      "text/plain": [
       "                 label\n",
       "0     meningioma_tumor\n",
       "1             no_tumor\n",
       "2     meningioma_tumor\n",
       "3         glioma_tumor\n",
       "4     meningioma_tumor\n",
       "...                ...\n",
       "2995          no_tumor\n",
       "2996  meningioma_tumor\n",
       "2997      glioma_tumor\n",
       "2998      glioma_tumor\n",
       "2999   pituitary_tumor\n",
       "\n",
       "[3000 rows x 1 columns]"
      ]
     },
     "execution_count": 4,
     "metadata": {},
     "output_type": "execute_result"
    }
   ],
   "source": [
    "#Taking just the label portion for editing into our Target Y array\n",
    "Y = mri_scan_labels[['label']]\n",
    "Y"
   ]
  },
  {
   "cell_type": "markdown",
   "metadata": {},
   "source": [
    "## 2.1 Exploring Dataframe parameter code"
   ]
  },
  {
   "cell_type": "code",
   "execution_count": 10,
   "metadata": {},
   "outputs": [
    {
     "name": "stdout",
     "output_type": "stream",
     "text": [
      "[ True]\n",
      "[0. 0. 0. ... 0. 0. 0.]\n",
      "0.0\n"
     ]
    }
   ],
   "source": [
    "#Getting dataframe length parameters\n",
    "len(Y.index)\n",
    "Y.shape[0]\n",
    "3000\n",
    "#Learning Dataframe indexing\n",
    "Y.loc[2].at['label']\n",
    "\n",
    "#Referencing dataframe using integer indexes\n",
    "Y.iat[2,0]\n",
    "\n",
    "# In this case we manipulate the dataframe using np.arrays first so we convert from a dataframe to a np.array\n",
    "# Converts dataframe to numpy array\n",
    "Y_np = Y.to_numpy()\n",
    "len(Y_np)\n",
    "\n",
    "#Checks indexing\n",
    "Y_np[2,0]\n",
    "#Testing string compare on np array elements\n",
    "print(Y_np[2] == 'meningioma_tumor')\n",
    "\n",
    "#Initialises empty array for Y data for binary task\n",
    "Y_binary = np.zeros(len(Y_np))\n",
    "print(Y_binary)\n",
    "print(Y_binary[2])"
   ]
  },
  {
   "cell_type": "markdown",
   "metadata": {},
   "source": [
    "## 2.2 Relabelling based on the requirements\n",
    "### The Binary task wants us to Build a classifier to identify whether there is a tumor in the MRI images.\n",
    "### Therefore the target labels should just be binary, 0 or 1 indicating the presence of a tumor or not in the MRI image\n",
    "### The type of tumor in this case is not required. Just need to know whether it is a tumor or not"
   ]
  },
  {
   "cell_type": "code",
   "execution_count": 11,
   "metadata": {},
   "outputs": [],
   "source": [
    "#For loop through the number of elements in the label dataset, in this case 3000\n",
    "#Loop will check if the array element is == to no_tumor in a string compare condition.\n",
    "#If it returns true, that means the element is labelling no_tumor and therefore we set the corresponding element value of the Y_binary array to 0\n",
    "#As we want 0 to be for no_tumor and 1 to represent the presence of a tumor in the binary classifier task\n",
    "#Therefore if the output of the compare returns false, regardless of the type of tumor we set the element value to = 1 \n",
    "#Meaning the target label is showing a tumor in the mri image.\n",
    "\n",
    "for x in range(len(Y_np)):\n",
    "\n",
    "    if Y_np[x] == 'no_tumor':\n",
    "        Y_binary[x] = 0\n",
    "    else:\n",
    "        Y_binary[x] = 1"
   ]
  },
  {
   "cell_type": "code",
   "execution_count": 12,
   "metadata": {},
   "outputs": [
    {
     "data": {
      "text/plain": [
       "array([1., 0., 1., ..., 1., 1., 1.])"
      ]
     },
     "execution_count": 12,
     "metadata": {},
     "output_type": "execute_result"
    }
   ],
   "source": [
    "#Shows the resultant binary numpy array populated with the labels in binary form (comapred to string form originally)\n",
    "Y_binary"
   ]
  },
  {
   "cell_type": "code",
   "execution_count": 13,
   "metadata": {},
   "outputs": [
    {
     "data": {
      "text/html": [
       "<div>\n",
       "<style scoped>\n",
       "    .dataframe tbody tr th:only-of-type {\n",
       "        vertical-align: middle;\n",
       "    }\n",
       "\n",
       "    .dataframe tbody tr th {\n",
       "        vertical-align: top;\n",
       "    }\n",
       "\n",
       "    .dataframe thead th {\n",
       "        text-align: right;\n",
       "    }\n",
       "</style>\n",
       "<table border=\"1\" class=\"dataframe\">\n",
       "  <thead>\n",
       "    <tr style=\"text-align: right;\">\n",
       "      <th></th>\n",
       "      <th>MRI_Binary_Label</th>\n",
       "    </tr>\n",
       "  </thead>\n",
       "  <tbody>\n",
       "    <tr>\n",
       "      <th>0</th>\n",
       "      <td>1.0</td>\n",
       "    </tr>\n",
       "    <tr>\n",
       "      <th>1</th>\n",
       "      <td>0.0</td>\n",
       "    </tr>\n",
       "    <tr>\n",
       "      <th>2</th>\n",
       "      <td>1.0</td>\n",
       "    </tr>\n",
       "    <tr>\n",
       "      <th>3</th>\n",
       "      <td>1.0</td>\n",
       "    </tr>\n",
       "    <tr>\n",
       "      <th>4</th>\n",
       "      <td>1.0</td>\n",
       "    </tr>\n",
       "    <tr>\n",
       "      <th>...</th>\n",
       "      <td>...</td>\n",
       "    </tr>\n",
       "    <tr>\n",
       "      <th>2995</th>\n",
       "      <td>0.0</td>\n",
       "    </tr>\n",
       "    <tr>\n",
       "      <th>2996</th>\n",
       "      <td>1.0</td>\n",
       "    </tr>\n",
       "    <tr>\n",
       "      <th>2997</th>\n",
       "      <td>1.0</td>\n",
       "    </tr>\n",
       "    <tr>\n",
       "      <th>2998</th>\n",
       "      <td>1.0</td>\n",
       "    </tr>\n",
       "    <tr>\n",
       "      <th>2999</th>\n",
       "      <td>1.0</td>\n",
       "    </tr>\n",
       "  </tbody>\n",
       "</table>\n",
       "<p>3000 rows × 1 columns</p>\n",
       "</div>"
      ],
      "text/plain": [
       "      MRI_Binary_Label\n",
       "0                  1.0\n",
       "1                  0.0\n",
       "2                  1.0\n",
       "3                  1.0\n",
       "4                  1.0\n",
       "...                ...\n",
       "2995               0.0\n",
       "2996               1.0\n",
       "2997               1.0\n",
       "2998               1.0\n",
       "2999               1.0\n",
       "\n",
       "[3000 rows x 1 columns]"
      ]
     },
     "execution_count": 13,
     "metadata": {},
     "output_type": "execute_result"
    }
   ],
   "source": [
    "#Converts it into a DataFrame for CSV file storage, this is so the subsequent notebook code can access the created label file\n",
    "#Also shows successful dataset manipulation for Target classes\n",
    "Y_Binary_Label = pd.DataFrame(Y_binary, columns = ['MRI_Binary_Label'])\n",
    "Y_Binary_Label"
   ]
  },
  {
   "cell_type": "code",
   "execution_count": 14,
   "metadata": {},
   "outputs": [],
   "source": [
    "#Creates the Y_Binary_Label.csv file for storage locally with the binary labels inputted corresponding to the Image filenames\n",
    "Y_Binary_Label.to_csv('./dataset/Y_Binary_Label.csv')"
   ]
  },
  {
   "cell_type": "markdown",
   "metadata": {},
   "source": []
  },
  {
   "cell_type": "markdown",
   "metadata": {},
   "source": [
    "# 3. Multiclass Task Dataset Re-labelling"
   ]
  },
  {
   "cell_type": "code",
   "execution_count": 15,
   "metadata": {},
   "outputs": [
    {
     "data": {
      "text/plain": [
       "label           \n",
       "glioma_tumor        860\n",
       "meningioma_tumor    855\n",
       "pituitary_tumor     831\n",
       "no_tumor            454\n",
       "dtype: int64"
      ]
     },
     "execution_count": 15,
     "metadata": {},
     "output_type": "execute_result"
    }
   ],
   "source": [
    "#Initialises empty array for Y data for binary task\n",
    "Y_Multiclass = np.zeros(len(Y_np))\n",
    "#.value_counts checks the number of unique classes in the dataframe, in this case specifically the label column\n",
    "#Previously we saw 4 unique labels\n",
    "mri_scan_labels.value_counts(['label'])\n",
    "\n",
    "#Therefore for the multiclass targets we arrange them as\n",
    "#no_tumor = 0\n",
    "#glioma_tumor = 1\n",
    "#meningioma_tumor = 2\n",
    "#pituitary_tumor = 3\n",
    "#Respectively"
   ]
  },
  {
   "cell_type": "markdown",
   "metadata": {},
   "source": [
    "## 3.1 Relabelling the dataset based on multiclass requirements\n",
    "\n",
    "### Relabelled label.csv datapoints into 4 integer target classes as described earlier and saving it into a .csv file for future reference"
   ]
  },
  {
   "cell_type": "code",
   "execution_count": 16,
   "metadata": {},
   "outputs": [
    {
     "data": {
      "text/plain": [
       "array([2., 0., 2., ..., 1., 1., 3.])"
      ]
     },
     "execution_count": 16,
     "metadata": {},
     "output_type": "execute_result"
    }
   ],
   "source": [
    "for x in range(len(Y_np)):\n",
    "\n",
    "    if Y_np[x] == 'no_tumor':\n",
    "        Y_Multiclass[x] = 0\n",
    "    \n",
    "    elif Y_np[x] == 'glioma_tumor':\n",
    "        Y_Multiclass[x] = 1\n",
    "\n",
    "    elif Y_np[x] == 'meningioma_tumor':\n",
    "        Y_Multiclass[x] = 2\n",
    "\n",
    "    else:\n",
    "        Y_Multiclass[x] = 3\n",
    "\n",
    "Y_Multiclass"
   ]
  },
  {
   "cell_type": "code",
   "execution_count": 17,
   "metadata": {},
   "outputs": [
    {
     "data": {
      "text/html": [
       "<div>\n",
       "<style scoped>\n",
       "    .dataframe tbody tr th:only-of-type {\n",
       "        vertical-align: middle;\n",
       "    }\n",
       "\n",
       "    .dataframe tbody tr th {\n",
       "        vertical-align: top;\n",
       "    }\n",
       "\n",
       "    .dataframe thead th {\n",
       "        text-align: right;\n",
       "    }\n",
       "</style>\n",
       "<table border=\"1\" class=\"dataframe\">\n",
       "  <thead>\n",
       "    <tr style=\"text-align: right;\">\n",
       "      <th></th>\n",
       "      <th>MRI_Multiclass_Label</th>\n",
       "    </tr>\n",
       "  </thead>\n",
       "  <tbody>\n",
       "    <tr>\n",
       "      <th>0</th>\n",
       "      <td>2.0</td>\n",
       "    </tr>\n",
       "    <tr>\n",
       "      <th>1</th>\n",
       "      <td>0.0</td>\n",
       "    </tr>\n",
       "    <tr>\n",
       "      <th>2</th>\n",
       "      <td>2.0</td>\n",
       "    </tr>\n",
       "    <tr>\n",
       "      <th>3</th>\n",
       "      <td>1.0</td>\n",
       "    </tr>\n",
       "    <tr>\n",
       "      <th>4</th>\n",
       "      <td>2.0</td>\n",
       "    </tr>\n",
       "    <tr>\n",
       "      <th>...</th>\n",
       "      <td>...</td>\n",
       "    </tr>\n",
       "    <tr>\n",
       "      <th>2995</th>\n",
       "      <td>0.0</td>\n",
       "    </tr>\n",
       "    <tr>\n",
       "      <th>2996</th>\n",
       "      <td>2.0</td>\n",
       "    </tr>\n",
       "    <tr>\n",
       "      <th>2997</th>\n",
       "      <td>1.0</td>\n",
       "    </tr>\n",
       "    <tr>\n",
       "      <th>2998</th>\n",
       "      <td>1.0</td>\n",
       "    </tr>\n",
       "    <tr>\n",
       "      <th>2999</th>\n",
       "      <td>3.0</td>\n",
       "    </tr>\n",
       "  </tbody>\n",
       "</table>\n",
       "<p>3000 rows × 1 columns</p>\n",
       "</div>"
      ],
      "text/plain": [
       "      MRI_Multiclass_Label\n",
       "0                      2.0\n",
       "1                      0.0\n",
       "2                      2.0\n",
       "3                      1.0\n",
       "4                      2.0\n",
       "...                    ...\n",
       "2995                   0.0\n",
       "2996                   2.0\n",
       "2997                   1.0\n",
       "2998                   1.0\n",
       "2999                   3.0\n",
       "\n",
       "[3000 rows x 1 columns]"
      ]
     },
     "execution_count": 17,
     "metadata": {},
     "output_type": "execute_result"
    }
   ],
   "source": [
    "#Converts it into a DataFrame for CSV file storage, this is so the subsequent notebook code can access the created label file\n",
    "#Also shows successful dataset manipulation for Target classes\n",
    "Y_Multiclass_Label = pd.DataFrame(Y_Multiclass, columns = ['MRI_Multiclass_Label'])\n",
    "Y_Multiclass_Label\n"
   ]
  },
  {
   "cell_type": "code",
   "execution_count": 18,
   "metadata": {},
   "outputs": [
    {
     "data": {
      "text/plain": [
       "MRI_Multiclass_Label\n",
       "1.0                     860\n",
       "2.0                     855\n",
       "3.0                     831\n",
       "0.0                     454\n",
       "dtype: int64"
      ]
     },
     "execution_count": 18,
     "metadata": {},
     "output_type": "execute_result"
    }
   ],
   "source": [
    "#This is to verify that the relabelling of the labels from string to integer form with the corresponding target class labels defined earlier is correct\n",
    "Y_Multiclass_Label.value_counts(['MRI_Multiclass_Label'])\n",
    "\n",
    "#In this case the count of the unique labels correspond correctly to their actual labels (types of tumor or no_tumor)\n"
   ]
  },
  {
   "cell_type": "code",
   "execution_count": 19,
   "metadata": {},
   "outputs": [],
   "source": [
    "#Creates the Y_Multiclass_Label.csv file for storage locally with the binary labels inputted corresponding to the Image filenames\n",
    "Y_Multiclass_Label.to_csv('./dataset/Y_Multiclass_Label.csv')"
   ]
  },
  {
   "cell_type": "markdown",
   "metadata": {},
   "source": [
    "# 4. Image Dataset Pre-Processing\n",
    "\n",
    "### The following section describes the code which carries out pre-processing for the 3000 MRI images and to package them into a database for future reference and to show successful manipulation.\n",
    "### The processes carried out will be justified and explained in the report."
   ]
  },
  {
   "cell_type": "code",
   "execution_count": 2,
   "metadata": {},
   "outputs": [],
   "source": [
    "#Importing modules for image dataset preprocessing\n",
    "import os\n",
    "import cv2\n",
    "\n",
    "#tqdm is for progress bar functionality in code, must be installed for code to function (TO DO: include exception if tqdm not imported )\n",
    "from tqdm import tqdm"
   ]
  },
  {
   "cell_type": "markdown",
   "metadata": {},
   "source": [
    "## 4.1 Testing Image handling and manipulation using Opencv"
   ]
  },
  {
   "cell_type": "code",
   "execution_count": 108,
   "metadata": {},
   "outputs": [
    {
     "name": "stdout",
     "output_type": "stream",
     "text": [
      ".\n",
      "c:\\Users\\f4nyt\\Documents\\GitHub\\AMLS_21-22-_SN17081058\n",
      "ERROR! Session/line number was not unique in database. History logging moved to new session 114\n"
     ]
    }
   ],
   "source": [
    "#Testing os.path functionality\n",
    "#Obtains path to current work directory, will apply differently depending on user's workspace but will allow correct function of code regardless\n",
    "IMAGEDIR = os.getcwd()\n",
    "#Tests relative path method\n",
    "relative_path = os.path.relpath(IMAGEDIR)\n",
    "#print(relative_path)\n",
    "#print(os.getcwd())"
   ]
  },
  {
   "cell_type": "code",
   "execution_count": 151,
   "metadata": {},
   "outputs": [
    {
     "name": "stdout",
     "output_type": "stream",
     "text": [
      "dataset\\image\\IMAGE_0000.jpg\n"
     ]
    },
    {
     "data": {
      "image/png": "[encoded data removed]",
      "text/plain": [
       "<Figure size 432x288 with 1 Axes>"
      ]
     },
     "metadata": {
      "needs_background": "light"
     },
     "output_type": "display_data"
    }
   ],
   "source": [
    "#Testing reading and displaying image file using os and opencv modules as well as potential method for filename indexing.\n",
    "#Path to image files\n",
    "img_path = 'dataset\\image'\n",
    "#testing filename indexing (NOT USED IN MAIN CODE)\n",
    "number = 0\n",
    "img_name = \"IMAGE_\" + str(number).zfill(4) + '.jpg'\n",
    "full_path = os.path.join(img_path,img_name)\n",
    "print(full_path)\n",
    "\n",
    "#Code reads the image file based on the input arguement path and reads it in  grayscale (2nd input arguement)\n",
    "img_array = cv2.imread(full_path,cv2.IMREAD_GRAYSCALE)\n",
    "#cv2.imshow('image',img_array)\n",
    "\n",
    "#Plot to show the first image obtained, should be IMAGE_000.jpg\n",
    "plt.imshow(img_array, cmap='gray')\n",
    "plt.show()\n",
    "\n",
    "#The image printed out can be changed by changing the value of number variable."
   ]
  },
  {
   "cell_type": "code",
   "execution_count": 123,
   "metadata": {},
   "outputs": [
    {
     "name": "stdout",
     "output_type": "stream",
     "text": [
      "(512, 512)\n"
     ]
    }
   ],
   "source": [
    "#Verify pixel size of images\n",
    "#in this case its 512 x 512 pixels = 262144 pixels\n",
    "print(img_array.shape)"
   ]
  },
  {
   "cell_type": "markdown",
   "metadata": {},
   "source": [
    "## 5.2 Retrieving image files from image folder into notebook for pre-processing"
   ]
  },
  {
   "cell_type": "code",
   "execution_count": 167,
   "metadata": {},
   "outputs": [
    {
     "name": "stderr",
     "output_type": "stream",
     "text": [
      "100%|██████████| 3000/3000 [00:15<00:00, 188.10it/s]\n"
     ]
    }
   ],
   "source": [
    "#This code obtains all the pixel information of all 3000 images in the dataset and stores it in one list/array for further processing.\n",
    "\n",
    "#Initialises empty list for population through for loop\n",
    "image_data = []\n",
    "#Setting the path to the images\n",
    "file_path = 'dataset\\image'\n",
    "\n",
    "#For loop will run through all items in the directory listed, in this case the image folder containing all 3000 mri images in our dataset.\n",
    "#x in this case will print out the full filename (in this case the name of each IMAGE_xxxx.jpg), therefore we can use it to generate paths to \n",
    "#All the images via the for loop.\n",
    "for x in tqdm(os.listdir(file_path)):\n",
    "    #Creates path to images per iteration\n",
    "    image_path = os.path.join(file_path,x)\n",
    "    #Reads the corresponding image using cv2.imread\n",
    "    file_array = cv2.imread(image_path, cv2.IMREAD_GRAYSCALE)\n",
    "    #Stores the image array information into the image_data list created. Append makes sure it adds information in order.\n",
    "    image_data.append(file_array)\n",
    "\n",
    "    #CODE FOR DEBUGGING\n",
    "    #print(x)\n",
    "    #plt.imshow(file_array, cmap='gray')  #graph it\n",
    "    #plt.show()  #display! \n",
    "    #break   "
   ]
  },
  {
   "cell_type": "code",
   "execution_count": 168,
   "metadata": {},
   "outputs": [
    {
     "name": "stdout",
     "output_type": "stream",
     "text": [
      "3000\n"
     ]
    },
    {
     "data": {
      "text/plain": [
       "3000"
      ]
     },
     "execution_count": 168,
     "metadata": {},
     "output_type": "execute_result"
    }
   ],
   "source": [
    "#Converts list into an array for easier numerical manipulation\n",
    "Imagedata_array = np.array(image_data)\n",
    "\n",
    "#Verifies the for loop executed correctly, array and list should have 3000 entries.\n",
    "print(len(Imagedata_array))\n",
    "len(image_data)"
   ]
  },
  {
   "cell_type": "code",
   "execution_count": 169,
   "metadata": {},
   "outputs": [
    {
     "name": "stdout",
     "output_type": "stream",
     "text": [
      "(3000, 512, 512)\n"
     ]
    }
   ],
   "source": [
    "#Verify the array dimensions.\n",
    "#Array of imagedata is a 3D Array with 3000 elements with each element containing 512 x 512 pixel data in array format\n",
    "print(Imagedata_array.shape)"
   ]
  },
  {
   "cell_type": "code",
   "execution_count": 178,
   "metadata": {},
   "outputs": [
    {
     "data": {
      "image/png": "[encoded data removed]",
      "text/plain": [
       "<Figure size 432x288 with 1 Axes>"
      ]
     },
     "metadata": {
      "needs_background": "light"
     },
     "output_type": "display_data"
    }
   ],
   "source": [
    "#testing array indexing and whether obtaining image data was successful by calling images in the array, inthis case the 3rd image IMAGE_0003.jpg.\n",
    "# Order of array should match naming in original image file\n",
    "plt.imshow(Imagedata_array[2,:], cmap='gray')\n",
    "plt.show()"
   ]
  },
  {
   "cell_type": "markdown",
   "metadata": {},
   "source": [
    "## 5.3 Image Dataset Cleaning: PCA\n"
   ]
  },
  {
   "cell_type": "code",
   "execution_count": null,
   "metadata": {},
   "outputs": [],
   "source": []
  },
  {
   "cell_type": "code",
   "execution_count": null,
   "metadata": {},
   "outputs": [],
   "source": []
  }
 ],
 "metadata": {
  "interpreter": {
   "hash": "290ec9070849e8daf2fe4bd922bd966932468e9fb905fb4b926b0f4d9e51cc32"
  },
  "kernelspec": {
   "display_name": "Python 3.7.11 64-bit ('gym': conda)",
   "language": "python",
   "name": "python3"
  },
  "language_info": {
   "codemirror_mode": {
    "name": "ipython",
    "version": 3
   },
   "file_extension": ".py",
   "mimetype": "text/x-python",
   "name": "python",
   "nbconvert_exporter": "python",
   "pygments_lexer": "ipython3",
   "version": "3.7.11"
  },
  "orig_nbformat": 4
 },
 "nbformat": 4,
 "nbformat_minor": 2
}
