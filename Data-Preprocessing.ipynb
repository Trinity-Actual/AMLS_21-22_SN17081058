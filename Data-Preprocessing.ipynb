{
 "cells": [
  {
   "cell_type": "markdown",
   "metadata": {},
   "source": [
    "# Dataset Pre-Processing\n",
    "### This Notebook contains the code which carries out the dataset preprocessing before it is used in both the binary and multiclass tasks in the assessment\n",
    "### Will process the Original Raw dataset and label csv files into appropriate formats for both tasks\n",
    "#### To Do:\n",
    "#### Add description of the destination folders and files created for both the binary and multiclass notebooks to use"
   ]
  },
  {
   "cell_type": "code",
   "execution_count": 1,
   "metadata": {},
   "outputs": [
    {
     "name": "stderr",
     "output_type": "stream",
     "text": [
      "Using TensorFlow backend.\n"
     ]
    },
    {
     "name": "stdout",
     "output_type": "stream",
     "text": [
      "2.1.0\n"
     ]
    }
   ],
   "source": [
    "#Importing required libraries\n",
    "import numpy as np\n",
    "import pandas as pd\n",
    "from sklearn.model_selection import train_test_split\n",
    "import matplotlib.pyplot as plt\n",
    "import tensorflow as tf\n",
    "import keras\n",
    "#Debug to check tensorflow version\n",
    "print(tf.__version__)"
   ]
  },
  {
   "cell_type": "markdown",
   "metadata": {},
   "source": [
    "### Exploring the dataset"
   ]
  },
  {
   "cell_type": "code",
   "execution_count": 2,
   "metadata": {},
   "outputs": [
    {
     "name": "stdout",
     "output_type": "stream",
     "text": [
      "        file_name             label\n",
      "0  IMAGE_0000.jpg  meningioma_tumor\n",
      "1  IMAGE_0001.jpg          no_tumor\n",
      "2  IMAGE_0002.jpg  meningioma_tumor\n",
      "3  IMAGE_0003.jpg      glioma_tumor\n",
      "4  IMAGE_0004.jpg  meningioma_tumor\n"
     ]
    },
    {
     "data": {
      "text/plain": [
       "(3000, 2)"
      ]
     },
     "execution_count": 2,
     "metadata": {},
     "output_type": "execute_result"
    }
   ],
   "source": [
    "#Loading the CSV Label file\n",
    "mri_scan_labels = pd.read_csv('./dataset/label.csv')\n",
    "print(mri_scan_labels.head())\n",
    "\n",
    "# 3000 labels for 3000 images\n",
    "mri_scan_labels.shape\n",
    "\n",
    "# The collection of MRI images are stored as IMAGE_0000 to _2999 as there are 3000 images with their respective target labels"
   ]
  },
  {
   "cell_type": "code",
   "execution_count": 3,
   "metadata": {},
   "outputs": [
    {
     "data": {
      "text/plain": [
       "label           \n",
       "glioma_tumor        860\n",
       "meningioma_tumor    855\n",
       "pituitary_tumor     831\n",
       "no_tumor            454\n",
       "dtype: int64"
      ]
     },
     "execution_count": 3,
     "metadata": {},
     "output_type": "execute_result"
    }
   ],
   "source": [
    "#.value_counts checks the number of unique classes in the dataframe, in this case specifically the label column\n",
    "mri_scan_labels.value_counts(['label'])\n",
    "\n",
    "#We can see that there are 4 unique outputs, 3 types of tumors and 1 being no tumor.\n",
    "#Thus there are 4 distince target classes present in the label.csv file.\n",
    "#This will be used for subsequent indexing of binary and multiclass datasets for model training and testing "
   ]
  },
  {
   "cell_type": "markdown",
   "metadata": {},
   "source": [
    "# Binary Task Dataset Re-labelling"
   ]
  },
  {
   "cell_type": "code",
   "execution_count": 4,
   "metadata": {},
   "outputs": [
    {
     "data": {
      "text/html": [
       "<div>\n",
       "<style scoped>\n",
       "    .dataframe tbody tr th:only-of-type {\n",
       "        vertical-align: middle;\n",
       "    }\n",
       "\n",
       "    .dataframe tbody tr th {\n",
       "        vertical-align: top;\n",
       "    }\n",
       "\n",
       "    .dataframe thead th {\n",
       "        text-align: right;\n",
       "    }\n",
       "</style>\n",
       "<table border=\"1\" class=\"dataframe\">\n",
       "  <thead>\n",
       "    <tr style=\"text-align: right;\">\n",
       "      <th></th>\n",
       "      <th>label</th>\n",
       "    </tr>\n",
       "  </thead>\n",
       "  <tbody>\n",
       "    <tr>\n",
       "      <th>0</th>\n",
       "      <td>meningioma_tumor</td>\n",
       "    </tr>\n",
       "    <tr>\n",
       "      <th>1</th>\n",
       "      <td>no_tumor</td>\n",
       "    </tr>\n",
       "    <tr>\n",
       "      <th>2</th>\n",
       "      <td>meningioma_tumor</td>\n",
       "    </tr>\n",
       "    <tr>\n",
       "      <th>3</th>\n",
       "      <td>glioma_tumor</td>\n",
       "    </tr>\n",
       "    <tr>\n",
       "      <th>4</th>\n",
       "      <td>meningioma_tumor</td>\n",
       "    </tr>\n",
       "    <tr>\n",
       "      <th>...</th>\n",
       "      <td>...</td>\n",
       "    </tr>\n",
       "    <tr>\n",
       "      <th>2995</th>\n",
       "      <td>no_tumor</td>\n",
       "    </tr>\n",
       "    <tr>\n",
       "      <th>2996</th>\n",
       "      <td>meningioma_tumor</td>\n",
       "    </tr>\n",
       "    <tr>\n",
       "      <th>2997</th>\n",
       "      <td>glioma_tumor</td>\n",
       "    </tr>\n",
       "    <tr>\n",
       "      <th>2998</th>\n",
       "      <td>glioma_tumor</td>\n",
       "    </tr>\n",
       "    <tr>\n",
       "      <th>2999</th>\n",
       "      <td>pituitary_tumor</td>\n",
       "    </tr>\n",
       "  </tbody>\n",
       "</table>\n",
       "<p>3000 rows × 1 columns</p>\n",
       "</div>"
      ],
      "text/plain": [
       "                 label\n",
       "0     meningioma_tumor\n",
       "1             no_tumor\n",
       "2     meningioma_tumor\n",
       "3         glioma_tumor\n",
       "4     meningioma_tumor\n",
       "...                ...\n",
       "2995          no_tumor\n",
       "2996  meningioma_tumor\n",
       "2997      glioma_tumor\n",
       "2998      glioma_tumor\n",
       "2999   pituitary_tumor\n",
       "\n",
       "[3000 rows x 1 columns]"
      ]
     },
     "execution_count": 4,
     "metadata": {},
     "output_type": "execute_result"
    }
   ],
   "source": [
    "#Taking just the label portion for editing into our Target Y array\n",
    "Y = mri_scan_labels[['label']]\n",
    "Y"
   ]
  },
  {
   "cell_type": "markdown",
   "metadata": {},
   "source": [
    "### Exploring Dataframe parameter code"
   ]
  },
  {
   "cell_type": "code",
   "execution_count": 10,
   "metadata": {},
   "outputs": [
    {
     "name": "stdout",
     "output_type": "stream",
     "text": [
      "[ True]\n",
      "[0. 0. 0. ... 0. 0. 0.]\n",
      "0.0\n"
     ]
    }
   ],
   "source": [
    "#Getting dataframe length parameters\n",
    "len(Y.index)\n",
    "Y.shape[0]\n",
    "3000\n",
    "#Learning Dataframe indexing\n",
    "Y.loc[2].at['label']\n",
    "\n",
    "#Referencing dataframe using integer indexes\n",
    "Y.iat[2,0]\n",
    "\n",
    "# In this case we manipulate the dataframe using np.arrays first so we convert from a dataframe to a np.array\n",
    "# Converts dataframe to numpy array\n",
    "Y_np = Y.to_numpy()\n",
    "len(Y_np)\n",
    "\n",
    "#Checks indexing\n",
    "Y_np[2,0]\n",
    "#Testing string compare on np array elements\n",
    "print(Y_np[2] == 'meningioma_tumor')\n",
    "\n",
    "#Initialises empty array for Y data for binary task\n",
    "Y_binary = np.zeros(len(Y_np))\n",
    "print(Y_binary)\n",
    "print(Y_binary[2])"
   ]
  },
  {
   "cell_type": "markdown",
   "metadata": {},
   "source": [
    "#### The Binary task wants us to Build a classifier to identify whether there is a tumor in the MRI images.\n",
    "#### Therefore the target labels should just be binary, 0 or 1 indicating the presence of a tumor or not in the MRI image\n",
    "#### The type of tumor in this case is not required. Just need to know whether it is a tumor or not"
   ]
  },
  {
   "cell_type": "code",
   "execution_count": 11,
   "metadata": {},
   "outputs": [],
   "source": [
    "#For loop through the number of elements in the label dataset, in this case 3000\n",
    "#Loop will check if the array element is == to no_tumor in a string compare condition.\n",
    "#If it returns true, that means the element is labelling no_tumor and therefore we set the corresponding element value of the Y_binary array to 0\n",
    "#As we want 0 to be for no_tumor and 1 to represent the presence of a tumor in the binary classifier task\n",
    "#Therefore if the output of the compare returns false, regardless of the type of tumor we set the element value to = 1 \n",
    "#Meaning the target label is showing a tumor in the mri image.\n",
    "\n",
    "for x in range(len(Y_np)):\n",
    "\n",
    "    if Y_np[x] == 'no_tumor':\n",
    "        Y_binary[x] = 0\n",
    "    else:\n",
    "        Y_binary[x] = 1"
   ]
  },
  {
   "cell_type": "code",
   "execution_count": 12,
   "metadata": {},
   "outputs": [
    {
     "data": {
      "text/plain": [
       "array([1., 0., 1., ..., 1., 1., 1.])"
      ]
     },
     "execution_count": 12,
     "metadata": {},
     "output_type": "execute_result"
    }
   ],
   "source": [
    "#Shows the resultant binary numpy array populated with the labels in binary form (comapred to string form originally)\n",
    "Y_binary"
   ]
  },
  {
   "cell_type": "code",
   "execution_count": 13,
   "metadata": {},
   "outputs": [
    {
     "data": {
      "text/html": [
       "<div>\n",
       "<style scoped>\n",
       "    .dataframe tbody tr th:only-of-type {\n",
       "        vertical-align: middle;\n",
       "    }\n",
       "\n",
       "    .dataframe tbody tr th {\n",
       "        vertical-align: top;\n",
       "    }\n",
       "\n",
       "    .dataframe thead th {\n",
       "        text-align: right;\n",
       "    }\n",
       "</style>\n",
       "<table border=\"1\" class=\"dataframe\">\n",
       "  <thead>\n",
       "    <tr style=\"text-align: right;\">\n",
       "      <th></th>\n",
       "      <th>MRI_Binary_Label</th>\n",
       "    </tr>\n",
       "  </thead>\n",
       "  <tbody>\n",
       "    <tr>\n",
       "      <th>0</th>\n",
       "      <td>1.0</td>\n",
       "    </tr>\n",
       "    <tr>\n",
       "      <th>1</th>\n",
       "      <td>0.0</td>\n",
       "    </tr>\n",
       "    <tr>\n",
       "      <th>2</th>\n",
       "      <td>1.0</td>\n",
       "    </tr>\n",
       "    <tr>\n",
       "      <th>3</th>\n",
       "      <td>1.0</td>\n",
       "    </tr>\n",
       "    <tr>\n",
       "      <th>4</th>\n",
       "      <td>1.0</td>\n",
       "    </tr>\n",
       "    <tr>\n",
       "      <th>...</th>\n",
       "      <td>...</td>\n",
       "    </tr>\n",
       "    <tr>\n",
       "      <th>2995</th>\n",
       "      <td>0.0</td>\n",
       "    </tr>\n",
       "    <tr>\n",
       "      <th>2996</th>\n",
       "      <td>1.0</td>\n",
       "    </tr>\n",
       "    <tr>\n",
       "      <th>2997</th>\n",
       "      <td>1.0</td>\n",
       "    </tr>\n",
       "    <tr>\n",
       "      <th>2998</th>\n",
       "      <td>1.0</td>\n",
       "    </tr>\n",
       "    <tr>\n",
       "      <th>2999</th>\n",
       "      <td>1.0</td>\n",
       "    </tr>\n",
       "  </tbody>\n",
       "</table>\n",
       "<p>3000 rows × 1 columns</p>\n",
       "</div>"
      ],
      "text/plain": [
       "      MRI_Binary_Label\n",
       "0                  1.0\n",
       "1                  0.0\n",
       "2                  1.0\n",
       "3                  1.0\n",
       "4                  1.0\n",
       "...                ...\n",
       "2995               0.0\n",
       "2996               1.0\n",
       "2997               1.0\n",
       "2998               1.0\n",
       "2999               1.0\n",
       "\n",
       "[3000 rows x 1 columns]"
      ]
     },
     "execution_count": 13,
     "metadata": {},
     "output_type": "execute_result"
    }
   ],
   "source": [
    "#Converts it into a DataFrame for CSV file storage, this is so the subsequent notebook code can access the created label file\n",
    "#Also shows successful dataset manipulation for Target classes\n",
    "Y_Binary_Label = pd.DataFrame(Y_binary, columns = ['MRI_Binary_Label'])\n",
    "Y_Binary_Label"
   ]
  },
  {
   "cell_type": "code",
   "execution_count": 14,
   "metadata": {},
   "outputs": [],
   "source": [
    "#Creates the Y_Binary_Label.csv file for storage locally with the binary labels inputted corresponding to the Image filenames\n",
    "Y_Binary_Label.to_csv('./dataset/Y_Binary_Label.csv')"
   ]
  },
  {
   "cell_type": "markdown",
   "metadata": {},
   "source": []
  }
 ],
 "metadata": {
  "interpreter": {
   "hash": "290ec9070849e8daf2fe4bd922bd966932468e9fb905fb4b926b0f4d9e51cc32"
  },
  "kernelspec": {
   "display_name": "Python 3.7.11 64-bit ('gym': conda)",
   "language": "python",
   "name": "python3"
  },
  "language_info": {
   "codemirror_mode": {
    "name": "ipython",
    "version": 3
   },
   "file_extension": ".py",
   "mimetype": "text/x-python",
   "name": "python",
   "nbconvert_exporter": "python",
   "pygments_lexer": "ipython3",
   "version": "3.7.11"
  },
  "orig_nbformat": 4
 },
 "nbformat": 4,
 "nbformat_minor": 2
}
