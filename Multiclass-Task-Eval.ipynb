{
 "cells": [
  {
   "cell_type": "code",
   "execution_count": 1,
   "metadata": {},
   "outputs": [
    {
     "name": "stderr",
     "output_type": "stream",
     "text": [
      "Using TensorFlow backend.\n"
     ]
    }
   ],
   "source": [
    "# Import required libraries\n",
    "import numpy as np\n",
    "import pandas as pd\n",
    "import pickle as pkl\n",
    "import os\n",
    "import cv2\n",
    "import matplotlib.pyplot as plt\n",
    "import tensorflow as tf\n",
    "import keras\n",
    "from sklearn.decomposition import PCA\n",
    "\n",
    "#tqdm is for progress bar functionality in code, must be installed for code to function\n",
    "from tqdm import tqdm\n",
    "\n",
    "#Importing libraries used for SVM classification and model assessment\n",
    "from sklearn.model_selection import train_test_split\n",
    "from sklearn.metrics import classification_report, confusion_matrix, ConfusionMatrixDisplay\n",
    "from sklearn.svm import SVC\n",
    "from sklearn.model_selection import GridSearchCV\n",
    "from sklearn.metrics import roc_curve, roc_auc_score\n",
    "\n",
    "#Libraries for CNN model\n",
    "from keras import metrics\n",
    "from keras.models import Sequential\n",
    "from keras.layers import Dense, Activation, Dropout, Flatten, Conv2D, MaxPooling2D\n",
    "from keras.layers.normalization import BatchNormalization\n",
    "from keras.models import model_from_json\n",
    "from keras.utils import to_categorical\n",
    "\n",
    "#Importing functions notebook containing functions created to streamline code\n",
    "from ipynb.fs.full.functions import load_dataset, dataset_PCA, Tuned_SVM_train, SVM_predictions, load_dataset_CNN, image_array_resize"
   ]
  },
  {
   "cell_type": "markdown",
   "metadata": {},
   "source": [
    "# 1. Loading Trained Multiclass CNN Model and Datasets\n"
   ]
  },
  {
   "cell_type": "code",
   "execution_count": 2,
   "metadata": {},
   "outputs": [
    {
     "name": "stdout",
     "output_type": "stream",
     "text": [
      "Loaded model from disk\n"
     ]
    }
   ],
   "source": [
    "# load Multiclass CNN json and create model\n",
    "json_file = open(\".\\Models\\MultiClassification\\CNN\\Multiclass_CNN.json\", 'r')\n",
    "loaded_model_json = json_file.read()\n",
    "json_file.close()\n",
    "CNN_Multiclass = model_from_json(loaded_model_json)\n",
    "# load weights into new model\n",
    "CNN_Multiclass.load_weights(\".\\Models\\MultiClassification\\CNN\\Multiclass_CNN_Model_Weights\")\n",
    "print(\"Loaded model from disk\")"
   ]
  },
  {
   "cell_type": "code",
   "execution_count": 3,
   "metadata": {},
   "outputs": [
    {
     "name": "stderr",
     "output_type": "stream",
     "text": [
      "100%|██████████| 200/200 [00:00<00:00, 216.26it/s]"
     ]
    },
    {
     "name": "stdout",
     "output_type": "stream",
     "text": [
      "Successfully extracted original Images from dataset!\n"
     ]
    },
    {
     "name": "stderr",
     "output_type": "stream",
     "text": [
      "\n"
     ]
    }
   ],
   "source": [
    "#Do the same for our CNN images resized to 50\n",
    "CNN_Images = image_array_resize('dataset\\Extra_test_dataset\\image',50)\n",
    "\n",
    "#Adding 4th channel to array (for convnet fitting)\n",
    "#The last channel is indicating whether it is a RGB channel (3) or grayscale (1) image\n",
    "CNN_Images_4D = CNN_Images.reshape(200,50,50,1)\n",
    "\n",
    "#Getting our Y and X inputs for the model and scaling the X inputs\n",
    "#Carrying out scaling of the pixel data per element so that it is between 0 and 1\n",
    "xTest_CNN = CNN_Images_4D/255"
   ]
  },
  {
   "cell_type": "code",
   "execution_count": 4,
   "metadata": {},
   "outputs": [
    {
     "name": "stdout",
     "output_type": "stream",
     "text": [
      "Multiclass label array setup!\n"
     ]
    }
   ],
   "source": [
    "#Loading the CSV Label file\n",
    "extra_test_labels = pd.read_csv('./dataset/Extra_test_dataset/label.csv')\n",
    "\n",
    "#Taking just the label portion for editing into our Target Y array\n",
    "Y = extra_test_labels[['label']]\n",
    "Y_np = Y.to_numpy()\n",
    "\n",
    "#Initialises empty array for Y data for multiclass task\n",
    "Y_Multiclass = np.zeros(len(Y_np))\n",
    "\n",
    "#For loop runs through array to check which elements are of the different class names\n",
    "#It will then edit the respective index element in Y_Multiclass with the respective integer label we give to the class\n",
    "for x in range(len(Y_np)):\n",
    "\n",
    "    if Y_np[x] == 'no_tumor':\n",
    "        Y_Multiclass[x] = 0\n",
    "    \n",
    "    elif Y_np[x] == 'glioma_tumor':\n",
    "        Y_Multiclass[x] = 1\n",
    "\n",
    "    elif Y_np[x] == 'meningioma_tumor':\n",
    "        Y_Multiclass[x] = 2\n",
    "\n",
    "    else:\n",
    "        Y_Multiclass[x] = 3\n",
    "\n",
    "print(\"Multiclass label array setup!\")"
   ]
  },
  {
   "cell_type": "code",
   "execution_count": 5,
   "metadata": {},
   "outputs": [
    {
     "name": "stdout",
     "output_type": "stream",
     "text": [
      "200/200 [==============================] - 11s 53ms/step\n",
      "The Results for Multiclass CNN are:\n",
      "              precision    recall  f1-score   support\n",
      "\n",
      "         0.0       0.88      0.81      0.85        37\n",
      "         1.0       0.69      0.84      0.76        43\n",
      "         2.0       0.86      0.65      0.74        68\n",
      "         3.0       0.81      0.98      0.89        52\n",
      "\n",
      "    accuracy                           0.81       200\n",
      "   macro avg       0.81      0.82      0.81       200\n",
      "weighted avg       0.82      0.81      0.80       200\n",
      "\n",
      "The confusion matrix is:\n",
      "[[30  1  2  4]\n",
      " [ 2 36  5  0]\n",
      " [ 2 14 44  8]\n",
      " [ 0  1  0 51]]\n"
     ]
    }
   ],
   "source": [
    "#Making Predictions with the model\n",
    "#We make 2 sets of predictions using the trained model. One which predicts the absolute class of the test image \n",
    "#and another subsequently which provides probability of the labels (0 or 1). The latter is used for ROC curve plotting\n",
    "Multiclass_CNN_pred = CNN_Multiclass.predict_classes(xTest_CNN, verbose = 1)\n",
    "\n",
    "#Printing the classification report and metrics\n",
    "print(\"The Results for Multiclass CNN are:\")\n",
    "print(classification_report(Y_Multiclass, Multiclass_CNN_pred))\n",
    "\n",
    "#Printing the confusion matrix for Multiclass CNN\n",
    "print(\"The confusion matrix is:\")\n",
    "print(confusion_matrix(Y_Multiclass, Multiclass_CNN_pred))"
   ]
  },
  {
   "cell_type": "code",
   "execution_count": 6,
   "metadata": {},
   "outputs": [
    {
     "data": {
      "image/png": "[encoded data removed]",
      "text/plain": [
       "<Figure size 432x288 with 2 Axes>"
      ]
     },
     "metadata": {
      "needs_background": "light"
     },
     "output_type": "display_data"
    }
   ],
   "source": [
    "cm_plot = ConfusionMatrixDisplay(confusion_matrix = confusion_matrix(Y_Multiclass, Multiclass_CNN_pred ))\n",
    "\n",
    "cm_plot.plot()\n",
    "#Labels for title and axis\n",
    "plt.title('Confusion Matrix Multiclass CNN', fontsize=22)\n",
    "plt.yticks(fontsize=16)\n",
    "plt.xticks(fontsize=16)\n",
    "\n",
    "#Saves plot to be used in the report COMMENTED OUT SO IT WONT OVERWRITE PLOTS FOR NOW\n",
    "#plt.savefig('./Plots/CM_Eval_Multiclass_CNN.jpg', bbox_inches='tight')"
   ]
  },
  {
   "cell_type": "code",
   "execution_count": 7,
   "metadata": {},
   "outputs": [
    {
     "name": "stdout",
     "output_type": "stream",
     "text": [
      "The metrics for Multiclass CNN model are as follows\n",
      "roc_auc_score for Multiclass CNN:  0.876910759749695\n"
     ]
    }
   ],
   "source": [
    "#Converting prediction labels into one hot format for roc_auc_score\n",
    "Y_Multiclass_OH = to_categorical(Y_Multiclass)\n",
    "Multiclass_CNN_pred_OH = to_categorical(Multiclass_CNN_pred)\n",
    "#Printing the main metrics to assess performance of the Multiclass CNN model\n",
    "print(\"The metrics for Multiclass CNN model are as follows\")\n",
    "print('roc_auc_score for Multiclass CNN: ', roc_auc_score(Y_Multiclass_OH, Multiclass_CNN_pred_OH, average= 'macro', multi_class= 'ovo'))"
   ]
  },
  {
   "cell_type": "code",
   "execution_count": null,
   "metadata": {},
   "outputs": [],
   "source": []
  }
 ],
 "metadata": {
  "interpreter": {
   "hash": "290ec9070849e8daf2fe4bd922bd966932468e9fb905fb4b926b0f4d9e51cc32"
  },
  "kernelspec": {
   "display_name": "Python 3.7.11 64-bit ('gym': conda)",
   "language": "python",
   "name": "python3"
  },
  "language_info": {
   "codemirror_mode": {
    "name": "ipython",
    "version": 3
   },
   "file_extension": ".py",
   "mimetype": "text/x-python",
   "name": "python",
   "nbconvert_exporter": "python",
   "pygments_lexer": "ipython3",
   "version": "3.7.11"
  },
  "orig_nbformat": 4
 },
 "nbformat": 4,
 "nbformat_minor": 2
}
