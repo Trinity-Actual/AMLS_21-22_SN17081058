{
 "cells": [
  {
   "cell_type": "markdown",
   "metadata": {},
   "source": [
    "# Multiclass Task CNN Notebook\n",
    "\n",
    "### Contains Code for Multiclass task CNN Model creation, training and testing<br/> CNN will be an implementation of AlexNet equivalent structure 5 convolutional layers and 3 fully connected layers\n",
    "##### Produces two plots for report, one learning curve and one confusion matrix for predicitons. saving model and plot code has been commented out/disabled to prevent accidental overwriting currently"
   ]
  },
  {
   "cell_type": "code",
   "execution_count": 1,
   "metadata": {},
   "outputs": [
    {
     "name": "stderr",
     "output_type": "stream",
     "text": [
      "Using TensorFlow backend.\n"
     ]
    }
   ],
   "source": [
    "# Import required libraries\n",
    "import numpy as np\n",
    "from numpy import expand_dims\n",
    "import pandas as pd\n",
    "import os\n",
    "import matplotlib.pyplot as plt\n",
    "import tensorflow as tf\n",
    "import keras\n",
    "from sklearn.model_selection import train_test_split\n",
    "from sklearn.decomposition import PCA\n",
    "\n",
    "#tqdm is for progress bar functionality in code, must be installed for code to function (TO DO: include exception if tqdm not imported )\n",
    "from tqdm import tqdm\n",
    "\n",
    "import pickle as pkl\n",
    "import cv2\n",
    "\n",
    "#Libraries for CNN model\n",
    "from keras import metrics\n",
    "from keras.models import Sequential\n",
    "from keras.layers import Dense, Activation, Dropout, Flatten, Conv2D, MaxPooling2D\n",
    "from keras.layers.normalization import BatchNormalization\n",
    "from sklearn.metrics import roc_curve, roc_auc_score\n",
    "from sklearn.metrics import classification_report, confusion_matrix, ConfusionMatrixDisplay\n",
    "from keras.models import model_from_json\n",
    "from keras.utils import to_categorical\n",
    "from keras.callbacks import ReduceLROnPlateau\n",
    "from keras.callbacks import EarlyStopping\n",
    "\n",
    "#Importing functions notebook containing functions created to streamline code\n",
    "from ipynb.fs.full.functions import load_dataset_CNN"
   ]
  },
  {
   "cell_type": "markdown",
   "metadata": {},
   "source": [
    "# 1. Loading Labels and Resized Image Dataset\n",
    "### 1.1 Loading Dataset via load_dataset_CNN function in \"function.ipynb\""
   ]
  },
  {
   "cell_type": "code",
   "execution_count": 2,
   "metadata": {},
   "outputs": [
    {
     "name": "stdout",
     "output_type": "stream",
     "text": [
      "Datasets successfully loaded with shapes:\n",
      "X Shape:\n",
      "(3000, 50, 50, 1)\n",
      "Y Shape:\n",
      "(3000,)\n"
     ]
    }
   ],
   "source": [
    "#Calls load_dataset_CNN function from function.ipynb to obtain the MRI images dataset and the Multiclass label pickle file and loads it respectively \n",
    "#into our X and Y value. Function also conducts rescaling of image pixel data from 0 to 255 to 0 to 1 range.\n",
    "X, Y = load_dataset_CNN('./dataset/CNN_Images_2D_DF.pkl', './dataset/Y_Multiclass_Label.pkl')"
   ]
  },
  {
   "cell_type": "markdown",
   "metadata": {},
   "source": [
    "#### 1.1.1 Making Multiclass target labels into \"one-hot\" Array"
   ]
  },
  {
   "cell_type": "markdown",
   "metadata": {},
   "source": [
    "### 1.2 Splitting dataset"
   ]
  },
  {
   "cell_type": "code",
   "execution_count": 3,
   "metadata": {},
   "outputs": [],
   "source": [
    "# Split the data into training and testing(70% training and 30% testing data)\n",
    "# Setting random_state to 42 keeps the same random generator seed to be used.\n",
    "# This maintains the split used across code executions so results obtained will be the same for other users\n",
    "xTrain,xTest,yTrain,yTest=train_test_split(X, Y, train_size = 0.7, random_state = 42)"
   ]
  },
  {
   "cell_type": "markdown",
   "metadata": {},
   "source": [
    "#### 1.2.1 Displaying label distribution<br/> We show the the number of samples in each class label "
   ]
  },
  {
   "cell_type": "code",
   "execution_count": 4,
   "metadata": {},
   "outputs": [
    {
     "name": "stdout",
     "output_type": "stream",
     "text": [
      "Training dataset number of samples per class:\n",
      "1.0    603\n",
      "2.0    591\n",
      "3.0    586\n",
      "0.0    320\n",
      "Name: MRI_Multiclass_Label, dtype: int64\n",
      "Test dataset number of samples per class:\n",
      "2.0    264\n",
      "1.0    257\n",
      "3.0    245\n",
      "0.0    134\n",
      "Name: MRI_Multiclass_Label, dtype: int64\n"
     ]
    }
   ],
   "source": [
    "#Number of Samples per class in training data\n",
    "print(\"Training dataset number of samples per class:\")\n",
    "print(yTrain.value_counts())\n",
    "\n",
    "#Number of Samples per class in test data\n",
    "print(\"Test dataset number of samples per class:\")\n",
    "print(yTest.value_counts())\n",
    "\n",
    "#These values should match the number of samples in the multiclass SVM train test splits"
   ]
  },
  {
   "cell_type": "code",
   "execution_count": 15,
   "metadata": {},
   "outputs": [
    {
     "name": "stdout",
     "output_type": "stream",
     "text": [
      "(2100, 4)\n",
      "[[0. 1. 0. 0.]\n",
      " [0. 1. 0. 0.]\n",
      " [0. 0. 1. 0.]\n",
      " ...\n",
      " [0. 1. 0. 0.]\n",
      " [0. 1. 0. 0.]\n",
      " [0. 0. 0. 1.]]\n",
      "ERROR! Session/line number was not unique in database. History logging moved to new session 387\n"
     ]
    }
   ],
   "source": [
    "#Before we proceed to model building we need to reconfigure the training set labels array into \n",
    "# categories or \"one-hot\" encoding for the multiclass CNN outputs\n",
    "yTrain_OneHot = to_categorical(yTrain)\n",
    "yTest_OneHot = to_categorical(yTest)\n",
    "#Verifies new shape of target label array to be a 2100 by 4 matrix\n",
    "print(yTrain_OneHot.shape)\n",
    "print(yTrain_OneHot)"
   ]
  },
  {
   "cell_type": "markdown",
   "metadata": {},
   "source": [
    "# 2. CNN Model Building"
   ]
  },
  {
   "cell_type": "markdown",
   "metadata": {},
   "source": [
    "### 2.1 Defining model structure"
   ]
  },
  {
   "cell_type": "code",
   "execution_count": 6,
   "metadata": {},
   "outputs": [
    {
     "name": "stdout",
     "output_type": "stream",
     "text": [
      "Model: \"Multiclass_CNN\"\n",
      "_________________________________________________________________\n",
      "Layer (type)                 Output Shape              Param #   \n",
      "=================================================================\n",
      "conv0 (Conv2D)               (None, 13, 13, 96)        11712     \n",
      "_________________________________________________________________\n",
      "bn0 (BatchNormalization)     (None, 13, 13, 96)        384       \n",
      "_________________________________________________________________\n",
      "activation_1 (Activation)    (None, 13, 13, 96)        0         \n",
      "_________________________________________________________________\n",
      "max_pooling2d_1 (MaxPooling2 (None, 7, 7, 96)          0         \n",
      "_________________________________________________________________\n",
      "conv1 (Conv2D)               (None, 7, 7, 256)         614656    \n",
      "_________________________________________________________________\n",
      "bn1 (BatchNormalization)     (None, 7, 7, 256)         1024      \n",
      "_________________________________________________________________\n",
      "activation_2 (Activation)    (None, 7, 7, 256)         0         \n",
      "_________________________________________________________________\n",
      "max_pooling2d_2 (MaxPooling2 (None, 4, 4, 256)         0         \n",
      "_________________________________________________________________\n",
      "conv2 (Conv2D)               (None, 4, 4, 384)         885120    \n",
      "_________________________________________________________________\n",
      "bn2 (BatchNormalization)     (None, 4, 4, 384)         1536      \n",
      "_________________________________________________________________\n",
      "activation_3 (Activation)    (None, 4, 4, 384)         0         \n",
      "_________________________________________________________________\n",
      "conv3 (Conv2D)               (None, 4, 4, 384)         1327488   \n",
      "_________________________________________________________________\n",
      "bn3 (BatchNormalization)     (None, 4, 4, 384)         1536      \n",
      "_________________________________________________________________\n",
      "activation_4 (Activation)    (None, 4, 4, 384)         0         \n",
      "_________________________________________________________________\n",
      "conv4 (Conv2D)               (None, 4, 4, 256)         884992    \n",
      "_________________________________________________________________\n",
      "bn4 (BatchNormalization)     (None, 4, 4, 256)         1024      \n",
      "_________________________________________________________________\n",
      "activation_5 (Activation)    (None, 4, 4, 256)         0         \n",
      "_________________________________________________________________\n",
      "max_pooling2d_3 (MaxPooling2 (None, 2, 2, 256)         0         \n",
      "_________________________________________________________________\n",
      "flatten_1 (Flatten)          (None, 1024)              0         \n",
      "_________________________________________________________________\n",
      "fc0 (Dense)                  (None, 2500)              2562500   \n",
      "_________________________________________________________________\n",
      "bnfc0 (BatchNormalization)   (None, 2500)              10000     \n",
      "_________________________________________________________________\n",
      "activation_6 (Activation)    (None, 2500)              0         \n",
      "_________________________________________________________________\n",
      "dropout_1 (Dropout)          (None, 2500)              0         \n",
      "_________________________________________________________________\n",
      "fc1 (Dense)                  (None, 2500)              6252500   \n",
      "_________________________________________________________________\n",
      "bnfc1 (BatchNormalization)   (None, 2500)              10000     \n",
      "_________________________________________________________________\n",
      "activation_7 (Activation)    (None, 2500)              0         \n",
      "_________________________________________________________________\n",
      "dropout_2 (Dropout)          (None, 2500)              0         \n",
      "_________________________________________________________________\n",
      "fc2 (Dense)                  (None, 500)               1250500   \n",
      "_________________________________________________________________\n",
      "bnfc2 (BatchNormalization)   (None, 500)               2000      \n",
      "_________________________________________________________________\n",
      "activation_8 (Activation)    (None, 500)               0         \n",
      "_________________________________________________________________\n",
      "dropout_3 (Dropout)          (None, 500)               0         \n",
      "_________________________________________________________________\n",
      "fcOut (Dense)                (None, 4)                 2004      \n",
      "_________________________________________________________________\n",
      "batch_normalization_1 (Batch (None, 4)                 16        \n",
      "_________________________________________________________________\n",
      "activation_9 (Activation)    (None, 4)                 0         \n",
      "=================================================================\n",
      "Total params: 13,818,992\n",
      "Trainable params: 13,805,232\n",
      "Non-trainable params: 13,760\n",
      "_________________________________________________________________\n"
     ]
    }
   ],
   "source": [
    "#Initialising the Model\n",
    "Multiclass_CNN = Sequential(name = 'Multiclass_CNN')\n",
    "\n",
    "#We use the same number of filters in all convolutional layers of the AlexNet Model\n",
    "#Number of filters in the fully connected layers will be reduced to 2500 2500 and 500\n",
    "#This is to reduce size of CNN so it can be fit into Github without LFS\n",
    "# Final output layer will have 4 nodes which corresponds to the 4 target labels in the MRI image dataset\n",
    "\n",
    "#1st Convolutional Layer\n",
    "#Input arguements\n",
    "#Filters: Number of output filters in convolution\n",
    "Multiclass_CNN.add(Conv2D(filters = 96, input_shape = (X.shape[1], X.shape[2], 1), kernel_size = (11, 11), strides = (4, 4), padding = 'same', name=\"conv0\"))\n",
    "Multiclass_CNN.add(BatchNormalization(name = 'bn0'))\n",
    "Multiclass_CNN.add(Activation('relu'))\n",
    "Multiclass_CNN.add(MaxPooling2D(pool_size=(2,2), strides=(2,2), padding='same'))\n",
    "\n",
    "\n",
    "#2nd Convolutional Layer\n",
    "Multiclass_CNN.add(Conv2D(filters = 256, kernel_size = (5, 5), strides = (1, 1), padding = 'same', name=\"conv1\"))\n",
    "Multiclass_CNN.add(BatchNormalization(name = 'bn1'))\n",
    "Multiclass_CNN.add(Activation('relu'))\n",
    "Multiclass_CNN.add(MaxPooling2D(pool_size=(2,2), strides=(2,2), padding='same'))\n",
    "\n",
    "\n",
    "#3rd Convolutional Layer\n",
    "Multiclass_CNN.add(Conv2D(filters = 384, kernel_size = (3, 3), strides = (1, 1), padding = 'same', name=\"conv2\"))\n",
    "Multiclass_CNN.add(BatchNormalization(name = 'bn2'))\n",
    "Multiclass_CNN.add(Activation('relu'))\n",
    "\n",
    "\n",
    "#4th Convolutional Layer\n",
    "Multiclass_CNN.add(Conv2D(filters = 384, kernel_size = (3, 3), strides = (1, 1), padding = 'same', name=\"conv3\"))\n",
    "Multiclass_CNN.add(BatchNormalization(name = 'bn3'))\n",
    "Multiclass_CNN.add(Activation('relu'))\n",
    "\n",
    "\n",
    "#5th Convolutional Layer\n",
    "Multiclass_CNN.add(Conv2D(filters = 256, kernel_size = (3, 3), strides = (1, 1), padding = 'same', name=\"conv4\"))\n",
    "Multiclass_CNN.add(BatchNormalization(name = 'bn4'))\n",
    "Multiclass_CNN.add(Activation('relu'))\n",
    "Multiclass_CNN.add(MaxPooling2D(pool_size=(2,2), strides=(2,2), padding='same'))\n",
    "\n",
    "\n",
    "#Passing through the Fully connected layers\n",
    "#We set the number of neurons per layer as 2500 for now\n",
    "#Less than orignal 4096\n",
    "Multiclass_CNN.add(Flatten())\n",
    "\n",
    "#1st Fully Connected Layer\n",
    "Multiclass_CNN.add(Dense(2500, name = 'fc0'))\n",
    "Multiclass_CNN.add(BatchNormalization(name = 'bnfc0'))\n",
    "Multiclass_CNN.add(Activation('relu'))\n",
    "Multiclass_CNN.add(Dropout(0.4))\n",
    "\n",
    "#2nd Fully Connected Layer\n",
    "Multiclass_CNN.add(Dense(2500, name = 'fc1'))\n",
    "Multiclass_CNN.add(BatchNormalization(name = 'bnfc1'))\n",
    "Multiclass_CNN.add(Activation('relu'))\n",
    "Multiclass_CNN.add(Dropout(0.4))\n",
    "\n",
    "#3rd Fully Connected Layer\n",
    "Multiclass_CNN.add(Dense(500, name = 'fc2'))\n",
    "Multiclass_CNN.add(BatchNormalization(name = 'bnfc2'))\n",
    "Multiclass_CNN.add(Activation('relu'))\n",
    "Multiclass_CNN.add(Dropout(0.4))\n",
    "\n",
    "\n",
    "#Output Layer\n",
    "Multiclass_CNN.add(Dense(4, name = 'fcOut'))\n",
    "Multiclass_CNN.add(BatchNormalization())\n",
    "Multiclass_CNN.add(Activation('softmax'))\n",
    "\n",
    "\n",
    "\n",
    "Multiclass_CNN.summary()"
   ]
  },
  {
   "cell_type": "markdown",
   "metadata": {},
   "source": [
    "### 2.2 Compiling Multiclass CNN Model"
   ]
  },
  {
   "cell_type": "code",
   "execution_count": 7,
   "metadata": {},
   "outputs": [],
   "source": [
    "#Compiling the model\n",
    "#Loss function is categorical_crossentropy\n",
    "#Optimizer is Adam \n",
    "#Metrics to be observed are\n",
    "# Accuracy (both training and validation)\n",
    "# Categorical Accuracy\n",
    "# Categorical Crossentropy\n",
    "# AUC metric\n",
    "Multiclass_CNN.compile(loss='categorical_crossentropy', optimizer= 'adam', metrics=['accuracy', metrics.CategoricalAccuracy(), metrics.CategoricalCrossentropy(), metrics.AUC()])"
   ]
  },
  {
   "cell_type": "markdown",
   "metadata": {},
   "source": [
    "### 2.3 Model Training\n",
    "#### 2.3.1 Defining model training callbacks and parameters"
   ]
  },
  {
   "cell_type": "code",
   "execution_count": 8,
   "metadata": {},
   "outputs": [],
   "source": [
    "#Learning Rate callback\n",
    "lrr= ReduceLROnPlateau(monitor = 'val_accuracy', factor = 0.01, patience = 3, min_lr = 1e-5) \n",
    "\n",
    "\n",
    "#Earlystopping callback\n",
    "#This will end the training before the final defined epoch if the validation loss plateaus for more than 5 epochs\n",
    "#Validation loss is the metric which the callback is monitoring\n",
    "ES = EarlyStopping(monitor = 'val_loss', patience = 10)\n",
    "\n",
    "#Defining model training parameters\n",
    "batch_size = 32\n",
    "epochs = 30\n",
    "learn_rate = 0.001"
   ]
  },
  {
   "cell_type": "markdown",
   "metadata": {},
   "source": [
    "#### 2.3.2 Training Model with validation set derived from training dataset"
   ]
  },
  {
   "cell_type": "code",
   "execution_count": 9,
   "metadata": {},
   "outputs": [
    {
     "name": "stdout",
     "output_type": "stream",
     "text": [
      "Train on 1470 samples, validate on 630 samples\n",
      "Epoch 1/30\n",
      "1470/1470 [==============================] - 8s 5ms/step - loss: 1.1283 - accuracy: 0.5327 - categorical_accuracy: 0.5327 - categorical_crossentropy: 1.1283 - auc_1: 0.7751 - val_loss: 1.7199 - val_accuracy: 0.1460 - val_categorical_accuracy: 0.1460 - val_categorical_crossentropy: 1.7199 - val_auc_1: 0.4654117 - accuracy: 0.4598 - categorical_accuracy: 0.4598 - categorical - ETA: 2s - loss: 1.1528 - accuracy: 0.5275 - categorical_accuracy: 0.5275 - categorical_crossentro\n",
      "Epoch 2/30\n",
      "1470/1470 [==============================] - 4s 2ms/step - loss: 0.8886 - accuracy: 0.6497 - categorical_accuracy: 0.6497 - categorical_crossentropy: 0.8886 - auc_1: 0.8702 - val_loss: 1.4121 - val_accuracy: 0.3317 - val_categorical_accuracy: 0.3317 - val_categorical_crossentropy: 1.4121 - val_auc_1: 0.5786\n",
      "Epoch 3/30\n",
      "1470/1470 [==============================] - 4s 3ms/step - loss: 0.7416 - accuracy: 0.7320 - categorical_accuracy: 0.7320 - categorical_crossentropy: 0.7416 - auc_1: 0.9156 - val_loss: 1.6850 - val_accuracy: 0.3063 - val_categorical_accuracy: 0.3063 - val_categorical_crossentropy: 1.6850 - val_auc_1: 0.5544\n",
      "Epoch 4/30\n",
      "1470/1470 [==============================] - 4s 2ms/step - loss: 0.6478 - accuracy: 0.7871 - categorical_accuracy: 0.7871 - categorical_crossentropy: 0.6478 - auc_1: 0.9401 - val_loss: 2.2734 - val_accuracy: 0.1444 - val_categorical_accuracy: 0.1444 - val_categorical_crossentropy: 2.2734 - val_auc_1: 0.4801\n",
      "Epoch 5/30\n",
      "1470/1470 [==============================] - 4s 2ms/step - loss: 0.5739 - accuracy: 0.8231 - categorical_accuracy: 0.8231 - categorical_crossentropy: 0.5739 - auc_1: 0.9540 - val_loss: 2.1332 - val_accuracy: 0.1587 - val_categorical_accuracy: 0.1587 - val_categorical_crossentropy: 2.1332 - val_auc_1: 0.5023\n",
      "Epoch 6/30\n",
      "1470/1470 [==============================] - 4s 2ms/step - loss: 0.4191 - accuracy: 0.9068 - categorical_accuracy: 0.9068 - categorical_crossentropy: 0.4191 - auc_1: 0.9861 - val_loss: 1.9287 - val_accuracy: 0.2222 - val_categorical_accuracy: 0.2222 - val_categorical_crossentropy: 1.9287 - val_auc_1: 0.5398\n",
      "Epoch 7/30\n",
      "1470/1470 [==============================] - 3s 2ms/step - loss: 0.4138 - accuracy: 0.9238 - categorical_accuracy: 0.9238 - categorical_crossentropy: 0.4138 - auc_1: 0.9848 - val_loss: 1.8118 - val_accuracy: 0.2619 - val_categorical_accuracy: 0.2619 - val_categorical_crossentropy: 1.8118 - val_auc_1: 0.5606\n",
      "Epoch 8/30\n",
      "1470/1470 [==============================] - 4s 2ms/step - loss: 0.4033 - accuracy: 0.9177 - categorical_accuracy: 0.9177 - categorical_crossentropy: 0.4033 - auc_1: 0.9868 - val_loss: 1.6939 - val_accuracy: 0.2857 - val_categorical_accuracy: 0.2857 - val_categorical_crossentropy: 1.6939 - val_auc_1: 0.5865\n",
      "Epoch 9/30\n",
      "1470/1470 [==============================] - 4s 2ms/step - loss: 0.3932 - accuracy: 0.9279 - categorical_accuracy: 0.9279 - categorical_crossentropy: 0.3932 - auc_1: 0.9868 - val_loss: 1.5286 - val_accuracy: 0.3429 - val_categorical_accuracy: 0.3429 - val_categorical_crossentropy: 1.5286 - val_auc_1: 0.6319\n",
      "Epoch 10/30\n",
      "1470/1470 [==============================] - 4s 2ms/step - loss: 0.3784 - accuracy: 0.9401 - categorical_accuracy: 0.9401 - categorical_crossentropy: 0.3784 - auc_1: 0.9899 - val_loss: 1.3218 - val_accuracy: 0.4270 - val_categorical_accuracy: 0.4270 - val_categorical_crossentropy: 1.3218 - val_auc_1: 0.6958\n",
      "Epoch 11/30\n",
      "1470/1470 [==============================] - 4s 2ms/step - loss: 0.3825 - accuracy: 0.9320 - categorical_accuracy: 0.9320 - categorical_crossentropy: 0.3825 - auc_1: 0.9901 - val_loss: 1.1083 - val_accuracy: 0.5937 - val_categorical_accuracy: 0.5937 - val_categorical_crossentropy: 1.1083 - val_auc_1: 0.7777\n",
      "Epoch 12/30\n",
      "1470/1470 [==============================] - 4s 2ms/step - loss: 0.3674 - accuracy: 0.9429 - categorical_accuracy: 0.9429 - categorical_crossentropy: 0.3674 - auc_1: 0.9915 - val_loss: 0.9391 - val_accuracy: 0.6762 - val_categorical_accuracy: 0.6762 - val_categorical_crossentropy: 0.9391 - val_auc_1: 0.8373\n",
      "Epoch 13/30\n",
      "1470/1470 [==============================] - 4s 2ms/step - loss: 0.3712 - accuracy: 0.9367 - categorical_accuracy: 0.9367 - categorical_crossentropy: 0.3712 - auc_1: 0.9901 - val_loss: 0.8201 - val_accuracy: 0.7381 - val_categorical_accuracy: 0.7381 - val_categorical_crossentropy: 0.8201 - val_auc_1: 0.8804\n",
      "Epoch 14/30\n",
      "1470/1470 [==============================] - 4s 2ms/step - loss: 0.3788 - accuracy: 0.9327 - categorical_accuracy: 0.9327 - categorical_crossentropy: 0.3788 - auc_1: 0.9890 - val_loss: 0.7377 - val_accuracy: 0.7635 - val_categorical_accuracy: 0.7635 - val_categorical_crossentropy: 0.7377 - val_auc_1: 0.9097\n",
      "Epoch 15/30\n",
      "1470/1470 [==============================] - 4s 2ms/step - loss: 0.3549 - accuracy: 0.9435 - categorical_accuracy: 0.9435 - categorical_crossentropy: 0.3549 - auc_1: 0.9933 - val_loss: 0.6873 - val_accuracy: 0.7762 - val_categorical_accuracy: 0.7762 - val_categorical_crossentropy: 0.6873 - val_auc_1: 0.9251\n",
      "Epoch 16/30\n",
      "1470/1470 [==============================] - 4s 2ms/step - loss: 0.3510 - accuracy: 0.9463 - categorical_accuracy: 0.9463 - categorical_crossentropy: 0.3510 - auc_1: 0.9934 - val_loss: 0.6609 - val_accuracy: 0.7905 - val_categorical_accuracy: 0.7905 - val_categorical_crossentropy: 0.6609 - val_auc_1: 0.9322\n",
      "Epoch 17/30\n",
      "1470/1470 [==============================] - 4s 2ms/step - loss: 0.3495 - accuracy: 0.9510 - categorical_accuracy: 0.9510 - categorical_crossentropy: 0.3495 - auc_1: 0.9928 - val_loss: 0.6442 - val_accuracy: 0.7968 - val_categorical_accuracy: 0.7968 - val_categorical_crossentropy: 0.6442 - val_auc_1: 0.9366\n",
      "Epoch 18/30\n",
      "1470/1470 [==============================] - 4s 2ms/step - loss: 0.3399 - accuracy: 0.9544 - categorical_accuracy: 0.9544 - categorical_crossentropy: 0.3399 - auc_1: 0.9941 - val_loss: 0.6404 - val_accuracy: 0.8000 - val_categorical_accuracy: 0.8000 - val_categorical_crossentropy: 0.6404 - val_auc_1: 0.9377\n",
      "Epoch 19/30\n",
      "1470/1470 [==============================] - 4s 2ms/step - loss: 0.3419 - accuracy: 0.9558 - categorical_accuracy: 0.9558 - categorical_crossentropy: 0.3419 - auc_1: 0.9928 - val_loss: 0.6336 - val_accuracy: 0.8000 - val_categorical_accuracy: 0.8000 - val_categorical_crossentropy: 0.6336 - val_auc_1: 0.9391\n",
      "Epoch 20/30\n",
      "1470/1470 [==============================] - 4s 2ms/step - loss: 0.3548 - accuracy: 0.9476 - categorical_accuracy: 0.9476 - categorical_crossentropy: 0.3548 - auc_1: 0.9932 - val_loss: 0.6280 - val_accuracy: 0.8000 - val_categorical_accuracy: 0.8000 - val_categorical_crossentropy: 0.6280 - val_auc_1: 0.9405\n",
      "Epoch 21/30\n",
      "1470/1470 [==============================] - 4s 2ms/step - loss: 0.3478 - accuracy: 0.9510 - categorical_accuracy: 0.9510 - categorical_crossentropy: 0.3478 - auc_1: 0.9938 - val_loss: 0.6267 - val_accuracy: 0.8032 - val_categorical_accuracy: 0.8032 - val_categorical_crossentropy: 0.6267 - val_auc_1: 0.9407\n",
      "Epoch 22/30\n",
      "1470/1470 [==============================] - 4s 2ms/step - loss: 0.3280 - accuracy: 0.9599 - categorical_accuracy: 0.9599 - categorical_crossentropy: 0.3280 - auc_1: 0.9948 - val_loss: 0.6203 - val_accuracy: 0.8079 - val_categorical_accuracy: 0.8079 - val_categorical_crossentropy: 0.6203 - val_auc_1: 0.9426.9603 - categorical_crossentropy: 0.32\n",
      "Epoch 23/30\n",
      "1470/1470 [==============================] - 3s 2ms/step - loss: 0.3246 - accuracy: 0.9626 - categorical_accuracy: 0.9626 - categorical_crossentropy: 0.3246 - auc_1: 0.9964 - val_loss: 0.6186 - val_accuracy: 0.8079 - val_categorical_accuracy: 0.8079 - val_categorical_crossentropy: 0.6186 - val_auc_1: 0.9433racy: 0.9634 - categorical_accuracy: 0.9634 - categorical_crossentropy: \n",
      "Epoch 24/30\n",
      "1470/1470 [==============================] - 4s 2ms/step - loss: 0.3321 - accuracy: 0.9565 - categorical_accuracy: 0.9565 - categorical_crossentropy: 0.3321 - auc_1: 0.9950 - val_loss: 0.6207 - val_accuracy: 0.8048 - val_categorical_accuracy: 0.8048 - val_categorical_crossentropy: 0.6207 - val_auc_1: 0.9421\n",
      "Epoch 25/30\n",
      "1470/1470 [==============================] - 4s 2ms/step - loss: 0.3185 - accuracy: 0.9667 - categorical_accuracy: 0.9667 - categorical_crossentropy: 0.3185 - auc_1: 0.9966 - val_loss: 0.6034 - val_accuracy: 0.8175 - val_categorical_accuracy: 0.8175 - val_categorical_crossentropy: 0.6034 - val_auc_1: 0.9450\n",
      "Epoch 26/30\n",
      "1470/1470 [==============================] - 3s 2ms/step - loss: 0.3129 - accuracy: 0.9680 - categorical_accuracy: 0.9680 - categorical_crossentropy: 0.3129 - auc_1: 0.9959 - val_loss: 0.6048 - val_accuracy: 0.8159 - val_categorical_accuracy: 0.8159 - val_categorical_crossentropy: 0.6048 - val_auc_1: 0.9444\n",
      "Epoch 27/30\n",
      "1470/1470 [==============================] - 3s 2ms/step - loss: 0.3185 - accuracy: 0.9646 - categorical_accuracy: 0.9646 - categorical_crossentropy: 0.3185 - auc_1: 0.9976 - val_loss: 0.6015 - val_accuracy: 0.8206 - val_categorical_accuracy: 0.8206 - val_categorical_crossentropy: 0.6015 - val_auc_1: 0.9458\n",
      "Epoch 28/30\n",
      "1470/1470 [==============================] - 3s 2ms/step - loss: 0.3261 - accuracy: 0.9592 - categorical_accuracy: 0.9592 - categorical_crossentropy: 0.3261 - auc_1: 0.9963 - val_loss: 0.6152 - val_accuracy: 0.8095 - val_categorical_accuracy: 0.8095 - val_categorical_crossentropy: 0.6152 - val_auc_1: 0.9440: 0.9663 - categorical_accuracy: 0.9663 - categorical_crossent - ETA: 0s - loss: 0.3166 - accuracy: 0.9663 - categorical_accuracy: 0.9663 - categorical_crossentropy: 0.3166 -\n",
      "Epoch 29/30\n",
      "1470/1470 [==============================] - 3s 2ms/step - loss: 0.3058 - accuracy: 0.9707 - categorical_accuracy: 0.9707 - categorical_crossentropy: 0.3058 - auc_1: 0.9973 - val_loss: 0.6003 - val_accuracy: 0.8159 - val_categorical_accuracy: 0.8159 - val_categorical_crossentropy: 0.6003 - val_auc_1: 0.9466\n",
      "Epoch 30/30\n",
      "1470/1470 [==============================] - 3s 2ms/step - loss: 0.3012 - accuracy: 0.9755 - categorical_accuracy: 0.9755 - categorical_crossentropy: 0.3012 - auc_1: 0.9985 - val_loss: 0.6065 - val_accuracy: 0.8111 - val_categorical_accuracy: 0.8111 - val_categorical_crossentropy: 0.6065 - val_auc_1: 0.9451egorical_accuracy: 0.9757 - categorical_crossentropy: 0.2997 - auc_1: 0.99\n"
     ]
    },
    {
     "data": {
      "text/plain": [
       "<keras.callbacks.callbacks.History at 0x1dc81706388>"
      ]
     },
     "execution_count": 9,
     "metadata": {},
     "output_type": "execute_result"
    }
   ],
   "source": [
    "#Training the Model\n",
    "#Explanation of the fit arguements\n",
    "#Validation_split splits the training data and uses that split set aside for model validation\n",
    "#in this case we set aside 30% of our training data to be used as validation data and the remaining 70% is used for training\n",
    "#This leaves the original 30% test set as our sample test data. Which will be use on top of the out of sample test data which will be released at a later date\n",
    "#Batch size and epochs are based on parameters set previously\n",
    "#verbose gives us a progress bar per epoch\n",
    "#callbacks includes the learning rate reduction on plateau funtion and stopping the training early if the validation loss plateaus for more than 5 epochs\n",
    "\n",
    "Multiclass_CNN.fit(xTrain, yTrain_OneHot, batch_size= batch_size, epochs= epochs, validation_split= 0.3,  verbose = 1, callbacks = [lrr, ES])\n",
    "#History.history attribute is a record of training loss values and metrics values at successive epochs\n",
    "#as well as validation loss values and validation metrics values (if applicable)."
   ]
  },
  {
   "cell_type": "markdown",
   "metadata": {},
   "source": [
    "### 2.4 Assessing Model Training Performance"
   ]
  },
  {
   "cell_type": "code",
   "execution_count": 10,
   "metadata": {},
   "outputs": [
    {
     "name": "stdout",
     "output_type": "stream",
     "text": [
      "dict_keys(['val_loss', 'val_accuracy', 'val_categorical_accuracy', 'val_categorical_crossentropy', 'val_auc_1', 'loss', 'accuracy', 'categorical_accuracy', 'categorical_crossentropy', 'auc_1', 'lr'])\n",
      "Training accuracy:  0.9755102\n",
      "Training loss:  0.3012006152649315\n"
     ]
    }
   ],
   "source": [
    "#Testing addressing of trained model history metrics\n",
    "#Allows us to access the model training history stats such as accuracy in trianing and validation\n",
    "#Shows us the available metrics to check\n",
    "#Can change metrics available by changing metrics to be observed when compiling the model\n",
    "print(Multiclass_CNN.history.history.keys())\n",
    "\n",
    "#Obtains training accuracy and loss of the most recent epoch to be finished\n",
    "acc = Multiclass_CNN.history.history['accuracy'][-1]\n",
    "loss = Multiclass_CNN.history.history['loss'][-1]\n",
    "\n",
    "print(\"Training accuracy: \", acc)\n",
    "print(\"Training loss: \", loss)\n"
   ]
  },
  {
   "cell_type": "markdown",
   "metadata": {},
   "source": [
    "#### 2.4.1 Visualising Model parameters during training"
   ]
  },
  {
   "cell_type": "code",
   "execution_count": 12,
   "metadata": {},
   "outputs": [
    {
     "name": "stdout",
     "output_type": "stream",
     "text": [
      "ERROR! Session/line number was not unique in database. History logging moved to new session 385\n"
     ]
    },
    {
     "data": {
      "image/png": "[encoded data removed]",
      "text/plain": [
       "<Figure size 432x288 with 2 Axes>"
      ]
     },
     "metadata": {
      "needs_background": "light"
     },
     "output_type": "display_data"
    }
   ],
   "source": [
    "#Plotting the Training and validation loss\n",
    "\n",
    "#Creating 2 subsplots under 1 figure\n",
    "f, acc_plot = plt.subplots(2,1)\n",
    "\n",
    "#First subplot graphs training loss and validation loss\n",
    "acc_plot[0].plot(Multiclass_CNN.history.history['loss'], color = 'b', label = 'Training Loss')\n",
    "acc_plot[0].plot(Multiclass_CNN.history.history['val_loss'], color = 'r', label = 'Validation Loss')\n",
    "acc_plot[0].set_ylabel('Loss')\n",
    "acc_plot[0].set_title('Training and Validation Accuracy and loss over number of epochs')\n",
    "acc_plot[0].grid()\n",
    "acc_plot[0].legend()\n",
    "\n",
    "#Second subplot graphs training accuracy and validation accuracy\n",
    "acc_plot[1].plot(Multiclass_CNN.history.history['accuracy'], color = 'b', label = 'Training Accuracy')\n",
    "acc_plot[1].plot(Multiclass_CNN.history.history['val_accuracy'], color = 'r', label = 'Validation Accuracy')\n",
    "acc_plot[1].set_ylabel('Accuracy')\n",
    "acc_plot[1].set_xlabel('Number of Epochs')\n",
    "acc_plot[1].set_ylim([0, 1])\n",
    "acc_plot[1].grid()\n",
    "acc_plot[1].legend()\n",
    "\n",
    "#Saves plot to be used in the report COMMENTED OUT SO IT WONT OVERWRITE PLOTS FOR NOW\n",
    "#plt.savefig('./Plots/Train_Val_Acc_Loss_Multiclass_CNN.jpg', bbox_inches='tight')"
   ]
  },
  {
   "cell_type": "markdown",
   "metadata": {},
   "source": [
    "# 3. Making Predictions with Trained Model"
   ]
  },
  {
   "cell_type": "markdown",
   "metadata": {},
   "source": [
    "### 3.1 Obtaining Classification report and confusion matrix"
   ]
  },
  {
   "cell_type": "code",
   "execution_count": 13,
   "metadata": {},
   "outputs": [
    {
     "name": "stdout",
     "output_type": "stream",
     "text": [
      "900/900 [==============================] - 1s 1ms/step\n",
      "The Results for Multiclass CNN are:\n",
      "              precision    recall  f1-score   support\n",
      "\n",
      "         0.0       0.82      0.79      0.80       134\n",
      "         1.0       0.75      0.86      0.80       257\n",
      "         2.0       0.84      0.68      0.75       264\n",
      "         3.0       0.88      0.94      0.91       245\n",
      "\n",
      "    accuracy                           0.82       900\n",
      "   macro avg       0.82      0.82      0.82       900\n",
      "weighted avg       0.82      0.82      0.82       900\n",
      "\n",
      "The confusion matrix is:\n",
      "[[106   7  11  10]\n",
      " [  7 220  19  11]\n",
      " [ 15  59 180  10]\n",
      " [  2   8   4 231]]\n"
     ]
    }
   ],
   "source": [
    "#Making Predictions with the model\n",
    "#We make 2 sets of predictions using the trained model. One which predicts the absolute class of the test image \n",
    "#and another subsequently which provides probability of the labels. The latter is used for ROC curve plotting\n",
    "Multiclass_CNN_pred = Multiclass_CNN.predict_classes(xTest, verbose = 1)\n",
    "\n",
    "#Printing the classification report and metrics\n",
    "print(\"The Results for Multiclass CNN are:\")\n",
    "print(classification_report(yTest, Multiclass_CNN_pred))\n",
    "\n",
    "#Printing the confusion matrix for Multiclass CNN\n",
    "print(\"The confusion matrix is:\")\n",
    "print(confusion_matrix(yTest, Multiclass_CNN_pred))\n"
   ]
  },
  {
   "cell_type": "code",
   "execution_count": 14,
   "metadata": {},
   "outputs": [
    {
     "data": {
      "image/png": "[encoded data removed]",
      "text/plain": [
       "<Figure size 432x288 with 2 Axes>"
      ]
     },
     "metadata": {
      "needs_background": "light"
     },
     "output_type": "display_data"
    }
   ],
   "source": [
    "cm_plot = ConfusionMatrixDisplay(confusion_matrix = confusion_matrix(yTest, Multiclass_CNN_pred ))\n",
    "\n",
    "cm_plot.plot()\n",
    "#Labels for title and axis\n",
    "plt.title('Confusion Matrix Multiclass CNN', fontsize=22)\n",
    "plt.yticks(fontsize=16)\n",
    "plt.xticks(fontsize=16)\n",
    "\n",
    "#Saves plot to be used in the report COMMENTED OUT SO IT WONT OVERWRITE PLOTS FOR NOW\n",
    "#plt.savefig('./Plots/CM_Multiclass_CNN.jpg', bbox_inches='tight')"
   ]
  },
  {
   "cell_type": "markdown",
   "metadata": {},
   "source": [
    "### 3.2 Obtaining ROC curve and other metrics of Multiclass CNN model\n",
    "#### We obtain the general AUC metric from model using one vs one scheme.<br/> That is comparing each class pairwise and returning the weighted average AUC metric."
   ]
  },
  {
   "cell_type": "code",
   "execution_count": 16,
   "metadata": {},
   "outputs": [
    {
     "name": "stdout",
     "output_type": "stream",
     "text": [
      "The metrics for Multiclass CNN model are as follows\n",
      "roc_auc_score for Multiclass CNN:  0.8780683420238754\n",
      "ERROR! Session/line number was not unique in database. History logging moved to new session 389\n"
     ]
    }
   ],
   "source": [
    "#Converting prediction labels into one hot format for roc_auc_score\n",
    "Multiclass_CNN_pred_OH = to_categorical(Multiclass_CNN_pred)\n",
    "#Printing the main metrics to assess performance of the Multiclass CNN model\n",
    "print(\"The metrics for Multiclass CNN model are as follows\")\n",
    "print('roc_auc_score for Multiclass CNN: ', roc_auc_score(yTest_OneHot, Multiclass_CNN_pred_OH, average= 'macro', multi_class= 'ovo'))"
   ]
  },
  {
   "cell_type": "markdown",
   "metadata": {},
   "source": [
    "# 4. Saving Model\n",
    "### THIS SECTION HAS BEEN COMMENTED OUT CURRENTLY TO PREVENT OVERWRITING ORIGINAL MODEL, can uncomment to check if the saving process works however will overwrite the model weights used to obtain prediction results shown in report."
   ]
  },
  {
   "cell_type": "code",
   "execution_count": 17,
   "metadata": {},
   "outputs": [
    {
     "name": "stdout",
     "output_type": "stream",
     "text": [
      "Saved model to disk\n"
     ]
    }
   ],
   "source": [
    "#Serialize Multiclass CNN model to json\n",
    "#This saves the model architecture to save space\n",
    "\n",
    "\n",
    "#Multiclass_CNN_json = Multiclass_CNN.to_json()\n",
    "#with open(\".\\Models\\MultiClassification\\CNN\\Multiclass_CNN.json\", \"w\") as json_file:\n",
    "#    json_file.write(Multiclass_CNN_json)\n",
    "\n",
    "#Saving the Multiclass_CNN Model weights \n",
    "\n",
    "#Multiclass_CNN.save_weights(\".\\Models\\MultiClassification\\CNN\\Multiclass_CNN_Model_Weights\")\n",
    "#print(\"Saved model to disk\")"
   ]
  },
  {
   "cell_type": "code",
   "execution_count": null,
   "metadata": {},
   "outputs": [
    {
     "name": "stdout",
     "output_type": "stream",
     "text": [
      "Loaded model from disk\n"
     ]
    }
   ],
   "source": [
    "#Test to load CNN Model\n",
    "# load Multiclass CNN json and create model\n",
    "json_file = open(\".\\Models\\MultiClassification\\CNN\\Multiclass_CNN.json\", 'r')\n",
    "loaded_model_json = json_file.read()\n",
    "json_file.close()\n",
    "loaded_model = model_from_json(loaded_model_json)\n",
    "# load weights into new model\n",
    "loaded_model.load_weights(\".\\Models\\MultiClassification\\CNN\\Multiclass_CNN_Model_Weights\")\n",
    "print(\"Loaded model from disk\")"
   ]
  },
  {
   "cell_type": "code",
   "execution_count": null,
   "metadata": {},
   "outputs": [],
   "source": []
  }
 ],
 "metadata": {
  "interpreter": {
   "hash": "290ec9070849e8daf2fe4bd922bd966932468e9fb905fb4b926b0f4d9e51cc32"
  },
  "kernelspec": {
   "display_name": "Python 3.7.11 64-bit ('gym': conda)",
   "language": "python",
   "name": "python3"
  },
  "language_info": {
   "codemirror_mode": {
    "name": "ipython",
    "version": 3
   },
   "file_extension": ".py",
   "mimetype": "text/x-python",
   "name": "python",
   "nbconvert_exporter": "python",
   "pygments_lexer": "ipython3",
   "version": "3.7.11"
  },
  "orig_nbformat": 4
 },
 "nbformat": 4,
 "nbformat_minor": 2
}
