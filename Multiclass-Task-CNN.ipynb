{
 "cells": [
  {
   "cell_type": "markdown",
   "metadata": {},
   "source": [
    "# Multiclass Task CNN Notebook\n",
    "\n",
    "### Contains Code for Multiclass task CNN Model creation, training and testing<br/> CNN will be an implementation of AlexNet equivalent structure 5 convolutional layers and 3 fully connected layers"
   ]
  },
  {
   "cell_type": "code",
   "execution_count": 1,
   "metadata": {},
   "outputs": [
    {
     "name": "stderr",
     "output_type": "stream",
     "text": [
      "Using TensorFlow backend.\n"
     ]
    }
   ],
   "source": [
    "# Import required libraries\n",
    "import numpy as np\n",
    "from numpy import expand_dims\n",
    "import pandas as pd\n",
    "import os\n",
    "import matplotlib.pyplot as plt\n",
    "import tensorflow as tf\n",
    "import keras\n",
    "from sklearn.model_selection import train_test_split\n",
    "from sklearn.decomposition import PCA\n",
    "\n",
    "#tqdm is for progress bar functionality in code, must be installed for code to function (TO DO: include exception if tqdm not imported )\n",
    "from tqdm import tqdm\n",
    "\n",
    "import pickle as pkl\n",
    "import cv2\n",
    "\n",
    "#Libraries for CNN model\n",
    "from keras import metrics\n",
    "from keras.models import Sequential\n",
    "from keras.layers import Dense, Activation, Dropout, Flatten, Conv2D, MaxPooling2D\n",
    "from keras.layers.normalization import BatchNormalization\n",
    "from sklearn.metrics import roc_curve, roc_auc_score\n",
    "from sklearn.metrics import classification_report, confusion_matrix\n",
    "from keras.models import model_from_json\n",
    "from keras.utils import to_categorical\n",
    "\n",
    "#Importing functions notebook containing functions created to streamline code\n",
    "from ipynb.fs.full.functions import load_dataset_CNN"
   ]
  },
  {
   "cell_type": "markdown",
   "metadata": {},
   "source": [
    "# 1. Loading Labels and Resized Image Dataset\n",
    "### 1.1 Loading Dataset via load_dataset_CNN function in \"function.ipynb\""
   ]
  },
  {
   "cell_type": "code",
   "execution_count": 2,
   "metadata": {},
   "outputs": [
    {
     "name": "stdout",
     "output_type": "stream",
     "text": [
      "Datasets successfully loaded with shapes:\n",
      "X Shape:\n",
      "(3000, 50, 50, 1)\n",
      "Y Shape:\n",
      "(3000,)\n"
     ]
    }
   ],
   "source": [
    "#Calls load_dataset_CNN function from function.ipynb to obtain the MRI images dataset and the Multiclass label pickle file and loads it respectively \n",
    "#into our X and Y value. Function also conducts rescaling of image pixel data from 0 to 255 to 0 to 1 range.\n",
    "X, Y = load_dataset_CNN('./dataset/CNN_Images_2D_DF.pkl', './dataset/Y_Multiclass_Label.pkl')"
   ]
  },
  {
   "cell_type": "markdown",
   "metadata": {},
   "source": [
    "#### 1.1.1 Making Multiclass target labels into \"one-hot\" Array"
   ]
  },
  {
   "cell_type": "markdown",
   "metadata": {},
   "source": [
    "### 1.2 Splitting dataset"
   ]
  },
  {
   "cell_type": "code",
   "execution_count": 14,
   "metadata": {},
   "outputs": [
    {
     "name": "stdout",
     "output_type": "stream",
     "text": [
      "ERROR! Session/line number was not unique in database. History logging moved to new session 294\n"
     ]
    }
   ],
   "source": [
    "# Split the data into training and testing(70% training and 30% testing data)\n",
    "xTrain,xTest,yTrain,yTest=train_test_split(X, Y, train_size = 0.7, random_state = 42)"
   ]
  },
  {
   "cell_type": "code",
   "execution_count": 16,
   "metadata": {},
   "outputs": [
    {
     "name": "stdout",
     "output_type": "stream",
     "text": [
      "(2100, 4)\n",
      "[[0. 0. 0. 1.]\n",
      " [1. 0. 0. 0.]\n",
      " [0. 0. 0. 1.]\n",
      " ...\n",
      " [0. 0. 1. 0.]\n",
      " [0. 1. 0. 0.]\n",
      " [0. 1. 0. 0.]]\n"
     ]
    }
   ],
   "source": [
    "#We need to reconfigure the training set labels array into categories or \"one-hot\" encoding for the multiclass CNN outputs\n",
    "yTrain_OneHot = to_categorical(yTrain)\n",
    "print(yTrain_OneHot.shape)\n",
    "print(yTrain_OneHot)"
   ]
  },
  {
   "cell_type": "markdown",
   "metadata": {},
   "source": [
    "# 2. CNN Model Building"
   ]
  },
  {
   "cell_type": "markdown",
   "metadata": {},
   "source": [
    "### 2.1 Defining model structure"
   ]
  },
  {
   "cell_type": "code",
   "execution_count": 6,
   "metadata": {},
   "outputs": [
    {
     "name": "stdout",
     "output_type": "stream",
     "text": [
      "Model: \"Multiclass_CNN\"\n",
      "_________________________________________________________________\n",
      "Layer (type)                 Output Shape              Param #   \n",
      "=================================================================\n",
      "conv0 (Conv2D)               (None, 13, 13, 96)        11712     \n",
      "_________________________________________________________________\n",
      "bn0 (BatchNormalization)     (None, 13, 13, 96)        384       \n",
      "_________________________________________________________________\n",
      "activation_1 (Activation)    (None, 13, 13, 96)        0         \n",
      "_________________________________________________________________\n",
      "max_pooling2d_1 (MaxPooling2 (None, 7, 7, 96)          0         \n",
      "_________________________________________________________________\n",
      "conv1 (Conv2D)               (None, 7, 7, 256)         614656    \n",
      "_________________________________________________________________\n",
      "bn1 (BatchNormalization)     (None, 7, 7, 256)         1024      \n",
      "_________________________________________________________________\n",
      "activation_2 (Activation)    (None, 7, 7, 256)         0         \n",
      "_________________________________________________________________\n",
      "max_pooling2d_2 (MaxPooling2 (None, 4, 4, 256)         0         \n",
      "_________________________________________________________________\n",
      "conv2 (Conv2D)               (None, 4, 4, 384)         885120    \n",
      "_________________________________________________________________\n",
      "bn2 (BatchNormalization)     (None, 4, 4, 384)         1536      \n",
      "_________________________________________________________________\n",
      "activation_3 (Activation)    (None, 4, 4, 384)         0         \n",
      "_________________________________________________________________\n",
      "conv3 (Conv2D)               (None, 4, 4, 384)         1327488   \n",
      "_________________________________________________________________\n",
      "bn3 (BatchNormalization)     (None, 4, 4, 384)         1536      \n",
      "_________________________________________________________________\n",
      "activation_4 (Activation)    (None, 4, 4, 384)         0         \n",
      "_________________________________________________________________\n",
      "conv4 (Conv2D)               (None, 4, 4, 256)         884992    \n",
      "_________________________________________________________________\n",
      "bn4 (BatchNormalization)     (None, 4, 4, 256)         1024      \n",
      "_________________________________________________________________\n",
      "activation_5 (Activation)    (None, 4, 4, 256)         0         \n",
      "_________________________________________________________________\n",
      "max_pooling2d_3 (MaxPooling2 (None, 2, 2, 256)         0         \n",
      "_________________________________________________________________\n",
      "flatten_1 (Flatten)          (None, 1024)              0         \n",
      "_________________________________________________________________\n",
      "fc0 (Dense)                  (None, 2500)              2562500   \n",
      "_________________________________________________________________\n",
      "bnfc0 (BatchNormalization)   (None, 2500)              10000     \n",
      "_________________________________________________________________\n",
      "activation_6 (Activation)    (None, 2500)              0         \n",
      "_________________________________________________________________\n",
      "dropout_1 (Dropout)          (None, 2500)              0         \n",
      "_________________________________________________________________\n",
      "fc1 (Dense)                  (None, 2500)              6252500   \n",
      "_________________________________________________________________\n",
      "bnfc1 (BatchNormalization)   (None, 2500)              10000     \n",
      "_________________________________________________________________\n",
      "activation_7 (Activation)    (None, 2500)              0         \n",
      "_________________________________________________________________\n",
      "dropout_2 (Dropout)          (None, 2500)              0         \n",
      "_________________________________________________________________\n",
      "fc2 (Dense)                  (None, 500)               1250500   \n",
      "_________________________________________________________________\n",
      "bnfc2 (BatchNormalization)   (None, 500)               2000      \n",
      "_________________________________________________________________\n",
      "activation_8 (Activation)    (None, 500)               0         \n",
      "_________________________________________________________________\n",
      "dropout_3 (Dropout)          (None, 500)               0         \n",
      "_________________________________________________________________\n",
      "fcOut (Dense)                (None, 4)                 2004      \n",
      "_________________________________________________________________\n",
      "batch_normalization_1 (Batch (None, 4)                 16        \n",
      "_________________________________________________________________\n",
      "activation_9 (Activation)    (None, 4)                 0         \n",
      "=================================================================\n",
      "Total params: 13,818,992\n",
      "Trainable params: 13,805,232\n",
      "Non-trainable params: 13,760\n",
      "_________________________________________________________________\n"
     ]
    }
   ],
   "source": [
    "#Initialising the Model\n",
    "Multiclass_CNN = Sequential(name = 'Multiclass_CNN')\n",
    "\n",
    "#We use the same number of filters in all convolutional layers of the AlexNet Model\n",
    "#Number of filters in the fully connected layers will be reduced to 2500 2500 and 500\n",
    "#This is to reduce size of CNN so it can be fit into Github without LFS\n",
    "# Final output layer will have 4 nodes which corresponds to the 4 target labels in the MRI tumors\n",
    "\n",
    "#1st Convolutional Layer\n",
    "#Input arguements\n",
    "#Filters: Number of output filters in convolution\n",
    "Multiclass_CNN.add(Conv2D(filters = 96, input_shape = (X.shape[1], X.shape[2], 1), kernel_size = (11, 11), strides = (4, 4), padding = 'same', name=\"conv0\"))\n",
    "Multiclass_CNN.add(BatchNormalization(name = 'bn0'))\n",
    "Multiclass_CNN.add(Activation('relu'))\n",
    "Multiclass_CNN.add(MaxPooling2D(pool_size=(2,2), strides=(2,2), padding='same'))\n",
    "\n",
    "\n",
    "#2nd Convolutional Layer\n",
    "Multiclass_CNN.add(Conv2D(filters = 256, kernel_size = (5, 5), strides = (1, 1), padding = 'same', name=\"conv1\"))\n",
    "Multiclass_CNN.add(BatchNormalization(name = 'bn1'))\n",
    "Multiclass_CNN.add(Activation('relu'))\n",
    "Multiclass_CNN.add(MaxPooling2D(pool_size=(2,2), strides=(2,2), padding='same'))\n",
    "\n",
    "\n",
    "#3rd Convolutional Layer\n",
    "Multiclass_CNN.add(Conv2D(filters = 384, kernel_size = (3, 3), strides = (1, 1), padding = 'same', name=\"conv2\"))\n",
    "Multiclass_CNN.add(BatchNormalization(name = 'bn2'))\n",
    "Multiclass_CNN.add(Activation('relu'))\n",
    "\n",
    "\n",
    "#4th Convolutional Layer\n",
    "Multiclass_CNN.add(Conv2D(filters = 384, kernel_size = (3, 3), strides = (1, 1), padding = 'same', name=\"conv3\"))\n",
    "Multiclass_CNN.add(BatchNormalization(name = 'bn3'))\n",
    "Multiclass_CNN.add(Activation('relu'))\n",
    "\n",
    "\n",
    "#5th Convolutional Layer\n",
    "Multiclass_CNN.add(Conv2D(filters = 256, kernel_size = (3, 3), strides = (1, 1), padding = 'same', name=\"conv4\"))\n",
    "Multiclass_CNN.add(BatchNormalization(name = 'bn4'))\n",
    "Multiclass_CNN.add(Activation('relu'))\n",
    "Multiclass_CNN.add(MaxPooling2D(pool_size=(2,2), strides=(2,2), padding='same'))\n",
    "\n",
    "\n",
    "#Passing through the Fully connected layers\n",
    "#We set the number of neurons per layer as 2500 for now\n",
    "#Less than orignal 4096\n",
    "Multiclass_CNN.add(Flatten())\n",
    "\n",
    "#1st Fully Connected Layer\n",
    "Multiclass_CNN.add(Dense(2500, name = 'fc0'))\n",
    "Multiclass_CNN.add(BatchNormalization(name = 'bnfc0'))\n",
    "Multiclass_CNN.add(Activation('relu'))\n",
    "Multiclass_CNN.add(Dropout(0.4))\n",
    "\n",
    "#2nd Fully Connected Layer\n",
    "Multiclass_CNN.add(Dense(2500, name = 'fc1'))\n",
    "Multiclass_CNN.add(BatchNormalization(name = 'bnfc1'))\n",
    "Multiclass_CNN.add(Activation('relu'))\n",
    "Multiclass_CNN.add(Dropout(0.4))\n",
    "\n",
    "#3rd Fully Connected Layer\n",
    "Multiclass_CNN.add(Dense(500, name = 'fc2'))\n",
    "Multiclass_CNN.add(BatchNormalization(name = 'bnfc2'))\n",
    "Multiclass_CNN.add(Activation('relu'))\n",
    "Multiclass_CNN.add(Dropout(0.4))\n",
    "\n",
    "\n",
    "#Output Layer\n",
    "Multiclass_CNN.add(Dense(4, name = 'fcOut'))\n",
    "Multiclass_CNN.add(BatchNormalization())\n",
    "Multiclass_CNN.add(Activation('softmax'))\n",
    "\n",
    "\n",
    "\n",
    "Multiclass_CNN.summary()"
   ]
  },
  {
   "cell_type": "markdown",
   "metadata": {},
   "source": [
    "### 2.2 Compiling Multiclass CNN Model"
   ]
  },
  {
   "cell_type": "code",
   "execution_count": 9,
   "metadata": {},
   "outputs": [],
   "source": [
    "#Compiling the model\n",
    "Multiclass_CNN.compile(loss='categorical_crossentropy', optimizer= 'adam', metrics=['accuracy', metrics.CategoricalAccuracy(), metrics.CategoricalCrossentropy(), metrics.AUC()])"
   ]
  },
  {
   "cell_type": "markdown",
   "metadata": {},
   "source": [
    "### 2.3 Model Training\n",
    "#### 2.3.1 Defining model training callbacks and parameters"
   ]
  },
  {
   "cell_type": "code",
   "execution_count": 23,
   "metadata": {},
   "outputs": [],
   "source": [
    "#Learning Rate callback\n",
    "from keras.callbacks import ReduceLROnPlateau\n",
    "lrr= ReduceLROnPlateau(monitor = 'val_accuracy', factor = 0.01, patience = 3, min_lr = 1e-5) \n",
    "\n",
    "\n",
    "#Earlystopping callback\n",
    "from keras.callbacks import EarlyStopping\n",
    "ES = EarlyStopping(monitor = 'val_loss', patience = 10)\n",
    "\n",
    "#Defining model training parameters\n",
    "batch_size = 32\n",
    "epochs = 30\n",
    "learn_rate = 0.001"
   ]
  },
  {
   "cell_type": "markdown",
   "metadata": {},
   "source": [
    "#### 2.3.2 Training Model with validation set derived from training dataset"
   ]
  },
  {
   "cell_type": "code",
   "execution_count": 24,
   "metadata": {},
   "outputs": [
    {
     "name": "stdout",
     "output_type": "stream",
     "text": [
      "Train on 1470 samples, validate on 630 samples\n",
      "Epoch 1/30\n",
      "1470/1470 [==============================] - 3s 2ms/step - loss: 0.1973 - accuracy: 0.9776 - categorical_accuracy: 0.9776 - categorical_crossentropy: 0.1973 - auc_3: 0.9955 - val_loss: 0.2901 - val_accuracy: 0.9254 - val_categorical_accuracy: 0.9254 - val_categorical_crossentropy: 0.2901 - val_auc_3: 0.9857\n",
      "Epoch 2/30\n",
      "1470/1470 [==============================] - 3s 2ms/step - loss: 0.1899 - accuracy: 0.9769 - categorical_accuracy: 0.9769 - categorical_crossentropy: 0.1899 - auc_3: 0.9965 - val_loss: 0.2932 - val_accuracy: 0.9222 - val_categorical_accuracy: 0.9222 - val_categorical_crossentropy: 0.2932 - val_auc_3: 0.9856\n",
      "Epoch 3/30\n",
      "1470/1470 [==============================] - 3s 2ms/step - loss: 0.1905 - accuracy: 0.9837 - categorical_accuracy: 0.9837 - categorical_crossentropy: 0.1905 - auc_3: 0.9958 - val_loss: 0.2917 - val_accuracy: 0.9286 - val_categorical_accuracy: 0.9286 - val_categorical_crossentropy: 0.2917 - val_auc_3: 0.9857\n",
      "Epoch 4/30\n",
      "1470/1470 [==============================] - 3s 2ms/step - loss: 0.1842 - accuracy: 0.9850 - categorical_accuracy: 0.9850 - categorical_crossentropy: 0.1842 - auc_3: 0.9960 - val_loss: 0.2929 - val_accuracy: 0.9254 - val_categorical_accuracy: 0.9254 - val_categorical_crossentropy: 0.2929 - val_auc_3: 0.9855\n",
      "Epoch 5/30\n",
      "1470/1470 [==============================] - 3s 2ms/step - loss: 0.1808 - accuracy: 0.9823 - categorical_accuracy: 0.9823 - categorical_crossentropy: 0.1808 - auc_3: 0.9969 - val_loss: 0.2912 - val_accuracy: 0.9270 - val_categorical_accuracy: 0.9270 - val_categorical_crossentropy: 0.2912 - val_auc_3: 0.9857\n",
      "Epoch 6/30\n",
      "1470/1470 [==============================] - 3s 2ms/step - loss: 0.1820 - accuracy: 0.9844 - categorical_accuracy: 0.9844 - categorical_crossentropy: 0.1820 - auc_3: 0.9951 - val_loss: 0.2898 - val_accuracy: 0.9286 - val_categorical_accuracy: 0.9286 - val_categorical_crossentropy: 0.2898 - val_auc_3: 0.9857\n",
      "Epoch 7/30\n",
      "1470/1470 [==============================] - 3s 2ms/step - loss: 0.1796 - accuracy: 0.9837 - categorical_accuracy: 0.9837 - categorical_crossentropy: 0.1796 - auc_3: 0.9977 - val_loss: 0.2903 - val_accuracy: 0.9238 - val_categorical_accuracy: 0.9238 - val_categorical_crossentropy: 0.2903 - val_auc_3: 0.9857\n",
      "Epoch 8/30\n",
      "1470/1470 [==============================] - 3s 2ms/step - loss: 0.1779 - accuracy: 0.9864 - categorical_accuracy: 0.9864 - categorical_crossentropy: 0.1779 - auc_3: 0.9961 - val_loss: 0.2899 - val_accuracy: 0.9254 - val_categorical_accuracy: 0.9254 - val_categorical_crossentropy: 0.2899 - val_auc_3: 0.9859\n",
      "Epoch 9/30\n",
      "1470/1470 [==============================] - 3s 2ms/step - loss: 0.1783 - accuracy: 0.9823 - categorical_accuracy: 0.9823 - categorical_crossentropy: 0.1783 - auc_3: 0.9972 - val_loss: 0.2899 - val_accuracy: 0.9270 - val_categorical_accuracy: 0.9270 - val_categorical_crossentropy: 0.2899 - val_auc_3: 0.9856\n",
      "Epoch 10/30\n",
      "1470/1470 [==============================] - 3s 2ms/step - loss: 0.1856 - accuracy: 0.9789 - categorical_accuracy: 0.9789 - categorical_crossentropy: 0.1856 - auc_3: 0.9968 - val_loss: 0.3024 - val_accuracy: 0.9222 - val_categorical_accuracy: 0.9222 - val_categorical_crossentropy: 0.3024 - val_auc_3: 0.9848\n",
      "Epoch 11/30\n",
      "1470/1470 [==============================] - 3s 2ms/step - loss: 0.1741 - accuracy: 0.9857 - categorical_accuracy: 0.9857 - categorical_crossentropy: 0.1741 - auc_3: 0.9964 - val_loss: 0.2900 - val_accuracy: 0.9254 - val_categorical_accuracy: 0.9254 - val_categorical_crossentropy: 0.2900 - val_auc_3: 0.9856\n",
      "Epoch 12/30\n",
      "1470/1470 [==============================] - 3s 2ms/step - loss: 0.1698 - accuracy: 0.9871 - categorical_accuracy: 0.9871 - categorical_crossentropy: 0.1698 - auc_3: 0.9982 - val_loss: 0.2925 - val_accuracy: 0.9286 - val_categorical_accuracy: 0.9286 - val_categorical_crossentropy: 0.2925 - val_auc_3: 0.9855\n",
      "Epoch 13/30\n",
      "1470/1470 [==============================] - 3s 2ms/step - loss: 0.1745 - accuracy: 0.9837 - categorical_accuracy: 0.9837 - categorical_crossentropy: 0.1745 - auc_3: 0.9966 - val_loss: 0.2935 - val_accuracy: 0.9286 - val_categorical_accuracy: 0.9286 - val_categorical_crossentropy: 0.2935 - val_auc_3: 0.9854\n",
      "Epoch 14/30\n",
      "1470/1470 [==============================] - 3s 2ms/step - loss: 0.1785 - accuracy: 0.9857 - categorical_accuracy: 0.9857 - categorical_crossentropy: 0.1785 - auc_3: 0.9963 - val_loss: 0.2935 - val_accuracy: 0.9254 - val_categorical_accuracy: 0.9254 - val_categorical_crossentropy: 0.2935 - val_auc_3: 0.9857\n",
      "Epoch 15/30\n",
      "1470/1470 [==============================] - 3s 2ms/step - loss: 0.1637 - accuracy: 0.9884 - categorical_accuracy: 0.9884 - categorical_crossentropy: 0.1637 - auc_3: 0.9981 - val_loss: 0.2897 - val_accuracy: 0.9270 - val_categorical_accuracy: 0.9270 - val_categorical_crossentropy: 0.2897 - val_auc_3: 0.9859\n",
      "Epoch 16/30\n",
      "1470/1470 [==============================] - 3s 2ms/step - loss: 0.1654 - accuracy: 0.9857 - categorical_accuracy: 0.9857 - categorical_crossentropy: 0.1654 - auc_3: 0.9976 - val_loss: 0.2945 - val_accuracy: 0.9254 - val_categorical_accuracy: 0.9254 - val_categorical_crossentropy: 0.2945 - val_auc_3: 0.9857\n",
      "Epoch 17/30\n",
      "1470/1470 [==============================] - 3s 2ms/step - loss: 0.1621 - accuracy: 0.9884 - categorical_accuracy: 0.9884 - categorical_crossentropy: 0.1621 - auc_3: 0.9986 - val_loss: 0.2951 - val_accuracy: 0.9238 - val_categorical_accuracy: 0.9238 - val_categorical_crossentropy: 0.2951 - val_auc_3: 0.9856\n",
      "Epoch 18/30\n",
      "1470/1470 [==============================] - 3s 2ms/step - loss: 0.1741 - accuracy: 0.9857 - categorical_accuracy: 0.9857 - categorical_crossentropy: 0.1741 - auc_3: 0.9969 - val_loss: 0.2905 - val_accuracy: 0.9302 - val_categorical_accuracy: 0.9302 - val_categorical_crossentropy: 0.2905 - val_auc_3: 0.9855\n",
      "Epoch 19/30\n",
      "1470/1470 [==============================] - 3s 2ms/step - loss: 0.1747 - accuracy: 0.9830 - categorical_accuracy: 0.9830 - categorical_crossentropy: 0.1747 - auc_3: 0.9980 - val_loss: 0.2891 - val_accuracy: 0.9270 - val_categorical_accuracy: 0.9270 - val_categorical_crossentropy: 0.2891 - val_auc_3: 0.9856\n",
      "Epoch 20/30\n",
      "1470/1470 [==============================] - 3s 2ms/step - loss: 0.1749 - accuracy: 0.9850 - categorical_accuracy: 0.9850 - categorical_crossentropy: 0.1749 - auc_3: 0.9967 - val_loss: 0.2905 - val_accuracy: 0.9286 - val_categorical_accuracy: 0.9286 - val_categorical_crossentropy: 0.2905 - val_auc_3: 0.9856\n",
      "Epoch 21/30\n",
      "1470/1470 [==============================] - 3s 2ms/step - loss: 0.1739 - accuracy: 0.9844 - categorical_accuracy: 0.9844 - categorical_crossentropy: 0.1739 - auc_3: 0.9970 - val_loss: 0.2919 - val_accuracy: 0.9270 - val_categorical_accuracy: 0.9270 - val_categorical_crossentropy: 0.2919 - val_auc_3: 0.9851\n",
      "Epoch 22/30\n",
      "1470/1470 [==============================] - 3s 2ms/step - loss: 0.1687 - accuracy: 0.9871 - categorical_accuracy: 0.9871 - categorical_crossentropy: 0.1687 - auc_3: 0.9983 - val_loss: 0.2973 - val_accuracy: 0.9254 - val_categorical_accuracy: 0.9254 - val_categorical_crossentropy: 0.2973 - val_auc_3: 0.9848\n",
      "Epoch 23/30\n",
      "1470/1470 [==============================] - 3s 2ms/step - loss: 0.1743 - accuracy: 0.9871 - categorical_accuracy: 0.9871 - categorical_crossentropy: 0.1743 - auc_3: 0.9971 - val_loss: 0.2943 - val_accuracy: 0.9238 - val_categorical_accuracy: 0.9238 - val_categorical_crossentropy: 0.2943 - val_auc_3: 0.9848\n",
      "Epoch 24/30\n",
      "1470/1470 [==============================] - 3s 2ms/step - loss: 0.1739 - accuracy: 0.9871 - categorical_accuracy: 0.9871 - categorical_crossentropy: 0.1739 - auc_3: 0.9973 - val_loss: 0.2901 - val_accuracy: 0.9270 - val_categorical_accuracy: 0.9270 - val_categorical_crossentropy: 0.2901 - val_auc_3: 0.9848\n",
      "Epoch 25/30\n",
      "1470/1470 [==============================] - 3s 2ms/step - loss: 0.1555 - accuracy: 0.9925 - categorical_accuracy: 0.9925 - categorical_crossentropy: 0.1555 - auc_3: 0.9987 - val_loss: 0.2915 - val_accuracy: 0.9254 - val_categorical_accuracy: 0.9254 - val_categorical_crossentropy: 0.2915 - val_auc_3: 0.9853\n",
      "Epoch 26/30\n",
      "1470/1470 [==============================] - 3s 2ms/step - loss: 0.1634 - accuracy: 0.9905 - categorical_accuracy: 0.9905 - categorical_crossentropy: 0.1634 - auc_3: 0.9987 - val_loss: 0.2897 - val_accuracy: 0.9286 - val_categorical_accuracy: 0.9286 - val_categorical_crossentropy: 0.2897 - val_auc_3: 0.9860\n",
      "Epoch 27/30\n",
      "1470/1470 [==============================] - 3s 2ms/step - loss: 0.1536 - accuracy: 0.9925 - categorical_accuracy: 0.9925 - categorical_crossentropy: 0.1536 - auc_3: 0.9986 - val_loss: 0.2975 - val_accuracy: 0.9286 - val_categorical_accuracy: 0.9286 - val_categorical_crossentropy: 0.2975 - val_auc_3: 0.9849\n",
      "Epoch 28/30\n",
      "1470/1470 [==============================] - 3s 2ms/step - loss: 0.1625 - accuracy: 0.9905 - categorical_accuracy: 0.9905 - categorical_crossentropy: 0.1625 - auc_3: 0.9978 - val_loss: 0.2908 - val_accuracy: 0.9270 - val_categorical_accuracy: 0.9270 - val_categorical_crossentropy: 0.2908 - val_auc_3: 0.9860\n",
      "Epoch 29/30\n",
      "1470/1470 [==============================] - 3s 2ms/step - loss: 0.1579 - accuracy: 0.9898 - categorical_accuracy: 0.9898 - categorical_crossentropy: 0.1579 - auc_3: 0.9986 - val_loss: 0.2956 - val_accuracy: 0.9270 - val_categorical_accuracy: 0.9270 - val_categorical_crossentropy: 0.2956 - val_auc_3: 0.9851\n"
     ]
    },
    {
     "data": {
      "text/plain": [
       "<keras.callbacks.callbacks.History at 0x2170f6cc5c8>"
      ]
     },
     "execution_count": 24,
     "metadata": {},
     "output_type": "execute_result"
    }
   ],
   "source": [
    "#Training the Model\n",
    "#Explanation of the fit arguements\n",
    "#Validation_split splits the training data and uses that split set aside for model validation\n",
    "\n",
    "Multiclass_CNN.fit(xTrain, yTrain_OneHot, batch_size= batch_size, epochs= epochs, validation_split= 0.3,  verbose = 1, callbacks = [lrr, ES])\n",
    "#History.history attribute is a record of training loss values and metrics values at successive epochs\n",
    "#as well as validation loss values and validation metrics values (if applicable)."
   ]
  },
  {
   "cell_type": "markdown",
   "metadata": {},
   "source": [
    "### 2.4 Assessing Model Training Performance"
   ]
  },
  {
   "cell_type": "code",
   "execution_count": 25,
   "metadata": {},
   "outputs": [
    {
     "name": "stdout",
     "output_type": "stream",
     "text": [
      "dict_keys(['val_loss', 'val_accuracy', 'val_categorical_accuracy', 'val_categorical_crossentropy', 'val_auc_3', 'loss', 'accuracy', 'categorical_accuracy', 'categorical_crossentropy', 'auc_3', 'lr'])\n",
      "Training accuracy:  0.9897959\n",
      "Training loss:  0.15790441976923522\n"
     ]
    }
   ],
   "source": [
    "#Testing addressing of trained model history metrics\n",
    "#Allows us to access the model training history stats such as accuracy in trianing and validation\n",
    "print(Multiclass_CNN.history.history.keys())\n",
    "\n",
    "#Obtains training accuracy and loss of the most recent epoch to be finished\n",
    "acc = Multiclass_CNN.history.history['accuracy'][-1]\n",
    "loss = Multiclass_CNN.history.history['loss'][-1]\n",
    "\n",
    "print(\"Training accuracy: \", acc)\n",
    "print(\"Training loss: \", loss)\n"
   ]
  },
  {
   "cell_type": "markdown",
   "metadata": {},
   "source": [
    "#### 2.4.1 Visualising Model parameters during training"
   ]
  },
  {
   "cell_type": "code",
   "execution_count": 26,
   "metadata": {},
   "outputs": [
    {
     "data": {
      "text/plain": [
       "<matplotlib.legend.Legend at 0x216212c3a08>"
      ]
     },
     "execution_count": 26,
     "metadata": {},
     "output_type": "execute_result"
    },
    {
     "data": {
      "image/png": "[encoded data removed]",
      "text/plain": [
       "<Figure size 432x288 with 2 Axes>"
      ]
     },
     "metadata": {
      "needs_background": "light"
     },
     "output_type": "display_data"
    }
   ],
   "source": [
    "#Plotting the Training and validation loss\n",
    "\n",
    "#Creating 2 subsplots under 1 figure\n",
    "f, acc_plot = plt.subplots(2,1)\n",
    "\n",
    "#First subplot graphs training loss and validation loss\n",
    "acc_plot[0].plot(Multiclass_CNN.history.history['loss'], color = 'b', label = 'Training Loss')\n",
    "acc_plot[0].plot(Multiclass_CNN.history.history['val_loss'], color = 'r', label = 'Validation Loss')\n",
    "\n",
    "#Second subplot graphs training accuracy and validation accuracy\n",
    "acc_plot[1].plot(Multiclass_CNN.history.history['accuracy'], color = 'b', label = 'Training Accuracy')\n",
    "acc_plot[1].plot(Multiclass_CNN.history.history['val_accuracy'], color = 'r', label = 'Validation Accuracy')\n",
    "\n",
    "plt.legend()"
   ]
  },
  {
   "cell_type": "markdown",
   "metadata": {},
   "source": [
    "# 3. Making Predictions with Trained Model"
   ]
  },
  {
   "cell_type": "markdown",
   "metadata": {},
   "source": [
    "### 3.1 Obtaining Classification report and confusion matrix"
   ]
  },
  {
   "cell_type": "code",
   "execution_count": 27,
   "metadata": {},
   "outputs": [
    {
     "name": "stdout",
     "output_type": "stream",
     "text": [
      "900/900 [==============================] - 0s 394us/step\n",
      "The Results for Multiclass CNN are:\n",
      "              precision    recall  f1-score   support\n",
      "\n",
      "         0.0       0.91      0.94      0.93       135\n",
      "         1.0       0.93      0.90      0.91       248\n",
      "         2.0       0.91      0.90      0.90       250\n",
      "         3.0       0.97      0.99      0.98       267\n",
      "\n",
      "    accuracy                           0.93       900\n",
      "   macro avg       0.93      0.93      0.93       900\n",
      "weighted avg       0.93      0.93      0.93       900\n",
      "\n",
      "The confusion matrix is:\n",
      "[[127   0   7   1]\n",
      " [  8 222  16   2]\n",
      " [  4  15 225   6]\n",
      " [  0   2   0 265]]\n"
     ]
    }
   ],
   "source": [
    "#Making Predictions with the model\n",
    "#We make 2 sets of predictions using the trained model. One which predicts the absolute class of the test image \n",
    "#and another subsequently which provides probability of the labels (0 or 1). The latter is used for ROC curve plotting\n",
    "Multiclass_CNN_pred = Multiclass_CNN.predict_classes(xTest, verbose = 1)\n",
    "\n",
    "#Printing the classification report and metrics\n",
    "print(\"The Results for Multiclass CNN are:\")\n",
    "print(classification_report(yTest, Multiclass_CNN_pred))\n",
    "\n",
    "#Printing the confusion matrix for Multiclass CNN\n",
    "print(\"The confusion matrix is:\")\n",
    "print(confusion_matrix(yTest, Multiclass_CNN_pred))"
   ]
  },
  {
   "cell_type": "markdown",
   "metadata": {},
   "source": [
    "# 4. Saving Model"
   ]
  },
  {
   "cell_type": "code",
   "execution_count": 21,
   "metadata": {},
   "outputs": [
    {
     "name": "stdout",
     "output_type": "stream",
     "text": [
      "ERROR! Session/line number was not unique in database. History logging moved to new session 295\n",
      "Saved model to disk\n"
     ]
    }
   ],
   "source": [
    "#Serialize Multiclass CNN model to json\n",
    "#This saves the model architecture to save space\n",
    "Multiclass_CNN_json = Multiclass_CNN.to_json()\n",
    "with open(\".\\Models\\MultiClassification\\CNN\\Multiclass_CNN.json\", \"w\") as json_file:\n",
    "    json_file.write(Multiclass_CNN_json)\n",
    "\n",
    "#Saving the Multiclass_CNN Model weights \n",
    "Multiclass_CNN.save_weights(\".\\Models\\MultiClassification\\CNN\\Multiclass_CNN_Model_Weights\")\n",
    "print(\"Saved model to disk\")"
   ]
  },
  {
   "cell_type": "code",
   "execution_count": 28,
   "metadata": {},
   "outputs": [
    {
     "name": "stdout",
     "output_type": "stream",
     "text": [
      "Loaded model from disk\n"
     ]
    }
   ],
   "source": [
    "#Test to load CNN Model\n",
    "# load Multiclass CNN json and create model\n",
    "json_file = open(\".\\Models\\MultiClassification\\CNN\\Multiclass_CNN.json\", 'r')\n",
    "loaded_model_json = json_file.read()\n",
    "json_file.close()\n",
    "loaded_model = model_from_json(loaded_model_json)\n",
    "# load weights into new model\n",
    "loaded_model.load_weights(\".\\Models\\MultiClassification\\CNN\\Multiclass_CNN_Model_Weights\")\n",
    "print(\"Loaded model from disk\")"
   ]
  }
 ],
 "metadata": {
  "interpreter": {
   "hash": "290ec9070849e8daf2fe4bd922bd966932468e9fb905fb4b926b0f4d9e51cc32"
  },
  "kernelspec": {
   "display_name": "Python 3.7.11 64-bit ('gym': conda)",
   "language": "python",
   "name": "python3"
  },
  "language_info": {
   "codemirror_mode": {
    "name": "ipython",
    "version": 3
   },
   "file_extension": ".py",
   "mimetype": "text/x-python",
   "name": "python",
   "nbconvert_exporter": "python",
   "pygments_lexer": "ipython3",
   "version": "3.7.11"
  },
  "orig_nbformat": 4
 },
 "nbformat": 4,
 "nbformat_minor": 2
}
