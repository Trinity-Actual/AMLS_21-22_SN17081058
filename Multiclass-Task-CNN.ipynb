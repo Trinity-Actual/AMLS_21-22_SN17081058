{
 "cells": [
  {
   "cell_type": "markdown",
   "metadata": {},
   "source": [
    "# Multiclass Task CNN Notebook\n",
    "\n",
    "### Contains Code for Multiclass task CNN Model creation, training and testing<br/> CNN will be an implementation of AlexNet equivalent structure 5 convolutional layers and 3 fully connected layers"
   ]
  },
  {
   "cell_type": "code",
   "execution_count": 29,
   "metadata": {},
   "outputs": [],
   "source": [
    "# Import required libraries\n",
    "import numpy as np\n",
    "from numpy import expand_dims\n",
    "import pandas as pd\n",
    "import os\n",
    "import matplotlib.pyplot as plt\n",
    "import tensorflow as tf\n",
    "import keras\n",
    "from sklearn.model_selection import train_test_split\n",
    "from sklearn.decomposition import PCA\n",
    "\n",
    "#tqdm is for progress bar functionality in code, must be installed for code to function (TO DO: include exception if tqdm not imported )\n",
    "from tqdm import tqdm\n",
    "\n",
    "import pickle as pkl\n",
    "import cv2\n",
    "\n",
    "#Libraries for CNN model\n",
    "from keras import metrics\n",
    "from keras.models import Sequential\n",
    "from keras.layers import Dense, Activation, Dropout, Flatten, Conv2D, MaxPooling2D\n",
    "from keras.layers.normalization import BatchNormalization\n",
    "from sklearn.metrics import roc_curve, roc_auc_score\n",
    "from sklearn.metrics import classification_report, confusion_matrix\n",
    "from keras.models import model_from_json\n",
    "from keras.utils import to_categorical\n",
    "from keras.callbacks import ReduceLROnPlateau\n",
    "from keras.callbacks import EarlyStopping\n",
    "\n",
    "#Importing functions notebook containing functions created to streamline code\n",
    "from ipynb.fs.full.functions import load_dataset_CNN"
   ]
  },
  {
   "cell_type": "markdown",
   "metadata": {},
   "source": [
    "# 1. Loading Labels and Resized Image Dataset\n",
    "### 1.1 Loading Dataset via load_dataset_CNN function in \"function.ipynb\""
   ]
  },
  {
   "cell_type": "code",
   "execution_count": 30,
   "metadata": {},
   "outputs": [
    {
     "name": "stdout",
     "output_type": "stream",
     "text": [
      "Datasets successfully loaded with shapes:\n",
      "X Shape:\n",
      "(3000, 50, 50, 1)\n",
      "Y Shape:\n",
      "(3000,)\n"
     ]
    }
   ],
   "source": [
    "#Calls load_dataset_CNN function from function.ipynb to obtain the MRI images dataset and the Multiclass label pickle file and loads it respectively \n",
    "#into our X and Y value. Function also conducts rescaling of image pixel data from 0 to 255 to 0 to 1 range.\n",
    "X, Y = load_dataset_CNN('./dataset/CNN_Images_2D_DF.pkl', './dataset/Y_Multiclass_Label.pkl')"
   ]
  },
  {
   "cell_type": "markdown",
   "metadata": {},
   "source": [
    "#### 1.1.1 Making Multiclass target labels into \"one-hot\" Array"
   ]
  },
  {
   "cell_type": "markdown",
   "metadata": {},
   "source": [
    "### 1.2 Splitting dataset"
   ]
  },
  {
   "cell_type": "code",
   "execution_count": 31,
   "metadata": {},
   "outputs": [],
   "source": [
    "# Split the data into training and testing(70% training and 30% testing data)\n",
    "# Setting random_state to 42 keeps the same random generator seed to be used.\n",
    "# This maintains the split used across code executions so results obtained will be the same for other users\n",
    "xTrain,xTest,yTrain,yTest=train_test_split(X, Y, train_size = 0.7, random_state = 42)"
   ]
  },
  {
   "cell_type": "markdown",
   "metadata": {},
   "source": [
    "#### 1.2.1 Displaying label distribution<br/> We show the the number of samples in each class label "
   ]
  },
  {
   "cell_type": "code",
   "execution_count": 32,
   "metadata": {},
   "outputs": [
    {
     "name": "stdout",
     "output_type": "stream",
     "text": [
      "Training dataset number of samples per class:\n",
      "1.0    603\n",
      "2.0    591\n",
      "3.0    586\n",
      "0.0    320\n",
      "Name: MRI_Multiclass_Label, dtype: int64\n",
      "Test dataset number of samples per class:\n",
      "2.0    264\n",
      "1.0    257\n",
      "3.0    245\n",
      "0.0    134\n",
      "Name: MRI_Multiclass_Label, dtype: int64\n"
     ]
    }
   ],
   "source": [
    "#Number of Samples per class in training data\n",
    "print(\"Training dataset number of samples per class:\")\n",
    "print(yTrain.value_counts())\n",
    "\n",
    "#Number of Samples per class in test data\n",
    "print(\"Test dataset number of samples per class:\")\n",
    "print(yTest.value_counts())\n",
    "\n",
    "#These values should match the number of samples in the multiclass SVM train test splits"
   ]
  },
  {
   "cell_type": "code",
   "execution_count": 33,
   "metadata": {},
   "outputs": [
    {
     "name": "stdout",
     "output_type": "stream",
     "text": [
      "(2100, 4)\n",
      "[[0. 1. 0. 0.]\n",
      " [0. 1. 0. 0.]\n",
      " [0. 0. 1. 0.]\n",
      " ...\n",
      " [0. 1. 0. 0.]\n",
      " [0. 1. 0. 0.]\n",
      " [0. 0. 0. 1.]]\n"
     ]
    }
   ],
   "source": [
    "#Before we proceed to model building we need to reconfigure the training set labels array into \n",
    "# categories or \"one-hot\" encoding for the multiclass CNN outputs\n",
    "yTrain_OneHot = to_categorical(yTrain)\n",
    "\n",
    "#Verifies new shape of target label array to be a 2100 by 4 matrix\n",
    "print(yTrain_OneHot.shape)\n",
    "print(yTrain_OneHot)"
   ]
  },
  {
   "cell_type": "markdown",
   "metadata": {},
   "source": [
    "# 2. CNN Model Building"
   ]
  },
  {
   "cell_type": "markdown",
   "metadata": {},
   "source": [
    "### 2.1 Defining model structure"
   ]
  },
  {
   "cell_type": "code",
   "execution_count": 34,
   "metadata": {},
   "outputs": [
    {
     "name": "stdout",
     "output_type": "stream",
     "text": [
      "Model: \"Multiclass_CNN\"\n",
      "_________________________________________________________________\n",
      "Layer (type)                 Output Shape              Param #   \n",
      "=================================================================\n",
      "conv0 (Conv2D)               (None, 13, 13, 96)        11712     \n",
      "_________________________________________________________________\n",
      "bn0 (BatchNormalization)     (None, 13, 13, 96)        384       \n",
      "_________________________________________________________________\n",
      "activation_10 (Activation)   (None, 13, 13, 96)        0         \n",
      "_________________________________________________________________\n",
      "max_pooling2d_4 (MaxPooling2 (None, 7, 7, 96)          0         \n",
      "_________________________________________________________________\n",
      "conv1 (Conv2D)               (None, 7, 7, 256)         614656    \n",
      "_________________________________________________________________\n",
      "bn1 (BatchNormalization)     (None, 7, 7, 256)         1024      \n",
      "_________________________________________________________________\n",
      "activation_11 (Activation)   (None, 7, 7, 256)         0         \n",
      "_________________________________________________________________\n",
      "max_pooling2d_5 (MaxPooling2 (None, 4, 4, 256)         0         \n",
      "_________________________________________________________________\n",
      "conv2 (Conv2D)               (None, 4, 4, 384)         885120    \n",
      "_________________________________________________________________\n",
      "bn2 (BatchNormalization)     (None, 4, 4, 384)         1536      \n",
      "_________________________________________________________________\n",
      "activation_12 (Activation)   (None, 4, 4, 384)         0         \n",
      "_________________________________________________________________\n",
      "conv3 (Conv2D)               (None, 4, 4, 384)         1327488   \n",
      "_________________________________________________________________\n",
      "bn3 (BatchNormalization)     (None, 4, 4, 384)         1536      \n",
      "_________________________________________________________________\n",
      "activation_13 (Activation)   (None, 4, 4, 384)         0         \n",
      "_________________________________________________________________\n",
      "conv4 (Conv2D)               (None, 4, 4, 256)         884992    \n",
      "_________________________________________________________________\n",
      "bn4 (BatchNormalization)     (None, 4, 4, 256)         1024      \n",
      "_________________________________________________________________\n",
      "activation_14 (Activation)   (None, 4, 4, 256)         0         \n",
      "_________________________________________________________________\n",
      "max_pooling2d_6 (MaxPooling2 (None, 2, 2, 256)         0         \n",
      "_________________________________________________________________\n",
      "flatten_2 (Flatten)          (None, 1024)              0         \n",
      "_________________________________________________________________\n",
      "fc0 (Dense)                  (None, 2500)              2562500   \n",
      "_________________________________________________________________\n",
      "bnfc0 (BatchNormalization)   (None, 2500)              10000     \n",
      "_________________________________________________________________\n",
      "activation_15 (Activation)   (None, 2500)              0         \n",
      "_________________________________________________________________\n",
      "dropout_4 (Dropout)          (None, 2500)              0         \n",
      "_________________________________________________________________\n",
      "fc1 (Dense)                  (None, 2500)              6252500   \n",
      "_________________________________________________________________\n",
      "bnfc1 (BatchNormalization)   (None, 2500)              10000     \n",
      "_________________________________________________________________\n",
      "activation_16 (Activation)   (None, 2500)              0         \n",
      "_________________________________________________________________\n",
      "dropout_5 (Dropout)          (None, 2500)              0         \n",
      "_________________________________________________________________\n",
      "fc2 (Dense)                  (None, 500)               1250500   \n",
      "_________________________________________________________________\n",
      "bnfc2 (BatchNormalization)   (None, 500)               2000      \n",
      "_________________________________________________________________\n",
      "activation_17 (Activation)   (None, 500)               0         \n",
      "_________________________________________________________________\n",
      "dropout_6 (Dropout)          (None, 500)               0         \n",
      "_________________________________________________________________\n",
      "fcOut (Dense)                (None, 4)                 2004      \n",
      "_________________________________________________________________\n",
      "batch_normalization_2 (Batch (None, 4)                 16        \n",
      "_________________________________________________________________\n",
      "activation_18 (Activation)   (None, 4)                 0         \n",
      "=================================================================\n",
      "Total params: 13,818,992\n",
      "Trainable params: 13,805,232\n",
      "Non-trainable params: 13,760\n",
      "_________________________________________________________________\n"
     ]
    }
   ],
   "source": [
    "#Initialising the Model\n",
    "Multiclass_CNN = Sequential(name = 'Multiclass_CNN')\n",
    "\n",
    "#We use the same number of filters in all convolutional layers of the AlexNet Model\n",
    "#Number of filters in the fully connected layers will be reduced to 2500 2500 and 500\n",
    "#This is to reduce size of CNN so it can be fit into Github without LFS\n",
    "# Final output layer will have 4 nodes which corresponds to the 4 target labels in the MRI image dataset\n",
    "\n",
    "#1st Convolutional Layer\n",
    "#Input arguements\n",
    "#Filters: Number of output filters in convolution\n",
    "Multiclass_CNN.add(Conv2D(filters = 96, input_shape = (X.shape[1], X.shape[2], 1), kernel_size = (11, 11), strides = (4, 4), padding = 'same', name=\"conv0\"))\n",
    "Multiclass_CNN.add(BatchNormalization(name = 'bn0'))\n",
    "Multiclass_CNN.add(Activation('relu'))\n",
    "Multiclass_CNN.add(MaxPooling2D(pool_size=(2,2), strides=(2,2), padding='same'))\n",
    "\n",
    "\n",
    "#2nd Convolutional Layer\n",
    "Multiclass_CNN.add(Conv2D(filters = 256, kernel_size = (5, 5), strides = (1, 1), padding = 'same', name=\"conv1\"))\n",
    "Multiclass_CNN.add(BatchNormalization(name = 'bn1'))\n",
    "Multiclass_CNN.add(Activation('relu'))\n",
    "Multiclass_CNN.add(MaxPooling2D(pool_size=(2,2), strides=(2,2), padding='same'))\n",
    "\n",
    "\n",
    "#3rd Convolutional Layer\n",
    "Multiclass_CNN.add(Conv2D(filters = 384, kernel_size = (3, 3), strides = (1, 1), padding = 'same', name=\"conv2\"))\n",
    "Multiclass_CNN.add(BatchNormalization(name = 'bn2'))\n",
    "Multiclass_CNN.add(Activation('relu'))\n",
    "\n",
    "\n",
    "#4th Convolutional Layer\n",
    "Multiclass_CNN.add(Conv2D(filters = 384, kernel_size = (3, 3), strides = (1, 1), padding = 'same', name=\"conv3\"))\n",
    "Multiclass_CNN.add(BatchNormalization(name = 'bn3'))\n",
    "Multiclass_CNN.add(Activation('relu'))\n",
    "\n",
    "\n",
    "#5th Convolutional Layer\n",
    "Multiclass_CNN.add(Conv2D(filters = 256, kernel_size = (3, 3), strides = (1, 1), padding = 'same', name=\"conv4\"))\n",
    "Multiclass_CNN.add(BatchNormalization(name = 'bn4'))\n",
    "Multiclass_CNN.add(Activation('relu'))\n",
    "Multiclass_CNN.add(MaxPooling2D(pool_size=(2,2), strides=(2,2), padding='same'))\n",
    "\n",
    "\n",
    "#Passing through the Fully connected layers\n",
    "#We set the number of neurons per layer as 2500 for now\n",
    "#Less than orignal 4096\n",
    "Multiclass_CNN.add(Flatten())\n",
    "\n",
    "#1st Fully Connected Layer\n",
    "Multiclass_CNN.add(Dense(2500, name = 'fc0'))\n",
    "Multiclass_CNN.add(BatchNormalization(name = 'bnfc0'))\n",
    "Multiclass_CNN.add(Activation('relu'))\n",
    "Multiclass_CNN.add(Dropout(0.4))\n",
    "\n",
    "#2nd Fully Connected Layer\n",
    "Multiclass_CNN.add(Dense(2500, name = 'fc1'))\n",
    "Multiclass_CNN.add(BatchNormalization(name = 'bnfc1'))\n",
    "Multiclass_CNN.add(Activation('relu'))\n",
    "Multiclass_CNN.add(Dropout(0.4))\n",
    "\n",
    "#3rd Fully Connected Layer\n",
    "Multiclass_CNN.add(Dense(500, name = 'fc2'))\n",
    "Multiclass_CNN.add(BatchNormalization(name = 'bnfc2'))\n",
    "Multiclass_CNN.add(Activation('relu'))\n",
    "Multiclass_CNN.add(Dropout(0.4))\n",
    "\n",
    "\n",
    "#Output Layer\n",
    "Multiclass_CNN.add(Dense(4, name = 'fcOut'))\n",
    "Multiclass_CNN.add(BatchNormalization())\n",
    "Multiclass_CNN.add(Activation('softmax'))\n",
    "\n",
    "\n",
    "\n",
    "Multiclass_CNN.summary()"
   ]
  },
  {
   "cell_type": "markdown",
   "metadata": {},
   "source": [
    "### 2.2 Compiling Multiclass CNN Model"
   ]
  },
  {
   "cell_type": "code",
   "execution_count": 35,
   "metadata": {},
   "outputs": [],
   "source": [
    "#Compiling the model\n",
    "#Loss function is categorical_crossentropy\n",
    "#Optimizer is Adam \n",
    "#Metrics to be observed are\n",
    "# Accuracy (both training and validation)\n",
    "# Categorical Accuracy\n",
    "# Categorical Crossentropy\n",
    "# AUC metric\n",
    "Multiclass_CNN.compile(loss='categorical_crossentropy', optimizer= 'adam', metrics=['accuracy', metrics.CategoricalAccuracy(), metrics.CategoricalCrossentropy(), metrics.AUC()])"
   ]
  },
  {
   "cell_type": "markdown",
   "metadata": {},
   "source": [
    "### 2.3 Model Training\n",
    "#### 2.3.1 Defining model training callbacks and parameters"
   ]
  },
  {
   "cell_type": "code",
   "execution_count": 36,
   "metadata": {},
   "outputs": [],
   "source": [
    "#Learning Rate callback\n",
    "lrr= ReduceLROnPlateau(monitor = 'val_accuracy', factor = 0.01, patience = 3, min_lr = 1e-5) \n",
    "\n",
    "\n",
    "#Earlystopping callback\n",
    "#This will end the training before the final defined epoch if the validation loss plateaus for more than 5 epochs\n",
    "#Validation loss is the metric which the callback is monitoring\n",
    "ES = EarlyStopping(monitor = 'val_loss', patience = 5)\n",
    "\n",
    "#Defining model training parameters\n",
    "batch_size = 32\n",
    "epochs = 30\n",
    "learn_rate = 0.001"
   ]
  },
  {
   "cell_type": "markdown",
   "metadata": {},
   "source": [
    "#### 2.3.2 Training Model with validation set derived from training dataset"
   ]
  },
  {
   "cell_type": "code",
   "execution_count": 37,
   "metadata": {},
   "outputs": [
    {
     "name": "stdout",
     "output_type": "stream",
     "text": [
      "Train on 1470 samples, validate on 630 samples\n",
      "Epoch 1/30\n",
      "1470/1470 [==============================] - 10s 7ms/step - loss: 1.0693 - accuracy: 0.5490 - categorical_accuracy: 0.5490 - categorical_crossentropy: 1.0693 - auc_4: 0.8047 - val_loss: 2.0904 - val_accuracy: 0.3000 - val_categorical_accuracy: 0.3000 - val_categorical_crossentropy: 2.0904 - val_auc_4: 0.5669\n",
      "Epoch 2/30\n",
      "1470/1470 [==============================] - 4s 2ms/step - loss: 0.9083 - accuracy: 0.6381 - categorical_accuracy: 0.6381 - categorical_crossentropy: 0.9083 - auc_4: 0.8633 - val_loss: 2.4712 - val_accuracy: 0.2968 - val_categorical_accuracy: 0.2968 - val_categorical_crossentropy: 2.4712 - val_auc_4: 0.5390\n",
      "Epoch 3/30\n",
      "1470/1470 [==============================] - 3s 2ms/step - loss: 0.7522 - accuracy: 0.7218 - categorical_accuracy: 0.7218 - categorical_crossentropy: 0.7522 - auc_4: 0.9158 - val_loss: 1.6886 - val_accuracy: 0.3635 - val_categorical_accuracy: 0.3635 - val_categorical_crossentropy: 1.6886 - val_auc_4: 0.5477\n",
      "Epoch 4/30\n",
      "1470/1470 [==============================] - 4s 2ms/step - loss: 0.6407 - accuracy: 0.7912 - categorical_accuracy: 0.7912 - categorical_crossentropy: 0.6407 - auc_4: 0.9406 - val_loss: 2.5198 - val_accuracy: 0.1492 - val_categorical_accuracy: 0.1492 - val_categorical_crossentropy: 2.5198 - val_auc_4: 0.4993\n",
      "Epoch 5/30\n",
      "1470/1470 [==============================] - 3s 2ms/step - loss: 0.5641 - accuracy: 0.8272 - categorical_accuracy: 0.8272 - categorical_crossentropy: 0.5641 - auc_4: 0.9566 - val_loss: 2.4967 - val_accuracy: 0.1460 - val_categorical_accuracy: 0.1460 - val_categorical_crossentropy: 2.4967 - val_auc_4: 0.5400\n",
      "Epoch 6/30\n",
      "1470/1470 [==============================] - 4s 2ms/step - loss: 0.4604 - accuracy: 0.8857 - categorical_accuracy: 0.8857 - categorical_crossentropy: 0.4604 - auc_4: 0.9740 - val_loss: 2.7413 - val_accuracy: 0.1460 - val_categorical_accuracy: 0.1460 - val_categorical_crossentropy: 2.7413 - val_auc_4: 0.5621\n",
      "Epoch 7/30\n",
      "1470/1470 [==============================] - 4s 2ms/step - loss: 0.3924 - accuracy: 0.9068 - categorical_accuracy: 0.9068 - categorical_crossentropy: 0.3924 - auc_4: 0.9871 - val_loss: 1.5854 - val_accuracy: 0.3016 - val_categorical_accuracy: 0.3016 - val_categorical_crossentropy: 1.5854 - val_auc_4: 0.5981\n",
      "Epoch 8/30\n",
      "1470/1470 [==============================] - 4s 2ms/step - loss: 0.3515 - accuracy: 0.9374 - categorical_accuracy: 0.9374 - categorical_crossentropy: 0.3515 - auc_4: 0.9915 - val_loss: 1.3020 - val_accuracy: 0.5460 - val_categorical_accuracy: 0.5460 - val_categorical_crossentropy: 1.3020 - val_auc_4: 0.7038\n",
      "Epoch 9/30\n",
      "1470/1470 [==============================] - 4s 2ms/step - loss: 0.3506 - accuracy: 0.9401 - categorical_accuracy: 0.9401 - categorical_crossentropy: 0.3506 - auc_4: 0.9927 - val_loss: 1.1722 - val_accuracy: 0.6206 - val_categorical_accuracy: 0.6206 - val_categorical_crossentropy: 1.1722 - val_auc_4: 0.7465\n",
      "Epoch 10/30\n",
      "1470/1470 [==============================] - 4s 3ms/step - loss: 0.3350 - accuracy: 0.9524 - categorical_accuracy: 0.9524 - categorical_crossentropy: 0.3350 - auc_4: 0.9941 - val_loss: 1.0702 - val_accuracy: 0.6444 - val_categorical_accuracy: 0.6444 - val_categorical_crossentropy: 1.0702 - val_auc_4: 0.7870\n",
      "Epoch 11/30\n",
      "1470/1470 [==============================] - 4s 3ms/step - loss: 0.3169 - accuracy: 0.9619 - categorical_accuracy: 0.9619 - categorical_crossentropy: 0.3169 - auc_4: 0.9955 - val_loss: 0.9655 - val_accuracy: 0.6635 - val_categorical_accuracy: 0.6635 - val_categorical_crossentropy: 0.9655 - val_auc_4: 0.8320\n",
      "Epoch 12/30\n",
      "1470/1470 [==============================] - 4s 3ms/step - loss: 0.3142 - accuracy: 0.9599 - categorical_accuracy: 0.9599 - categorical_crossentropy: 0.3142 - auc_4: 0.9958 - val_loss: 0.8618 - val_accuracy: 0.6905 - val_categorical_accuracy: 0.6905 - val_categorical_crossentropy: 0.8618 - val_auc_4: 0.8703\n",
      "Epoch 13/30\n",
      "1470/1470 [==============================] - 4s 3ms/step - loss: 0.3126 - accuracy: 0.9639 - categorical_accuracy: 0.9639 - categorical_crossentropy: 0.3126 - auc_4: 0.9961 - val_loss: 0.7548 - val_accuracy: 0.7444 - val_categorical_accuracy: 0.7444 - val_categorical_crossentropy: 0.7548 - val_auc_4: 0.9023\n",
      "Epoch 14/30\n",
      "1470/1470 [==============================] - 4s 3ms/step - loss: 0.3249 - accuracy: 0.9537 - categorical_accuracy: 0.9537 - categorical_crossentropy: 0.3249 - auc_4: 0.9939 - val_loss: 0.6646 - val_accuracy: 0.7905 - val_categorical_accuracy: 0.7905 - val_categorical_crossentropy: 0.6646 - val_auc_4: 0.9287\n",
      "Epoch 15/30\n",
      "1470/1470 [==============================] - 3s 2ms/step - loss: 0.3074 - accuracy: 0.9653 - categorical_accuracy: 0.9653 - categorical_crossentropy: 0.3074 - auc_4: 0.9964 - val_loss: 0.6086 - val_accuracy: 0.8159 - val_categorical_accuracy: 0.8159 - val_categorical_crossentropy: 0.6086 - val_auc_4: 0.9445 - categorical_accuracy: 0.9700 - catego\n",
      "Epoch 16/30\n",
      "1470/1470 [==============================] - 3s 2ms/step - loss: 0.3081 - accuracy: 0.9646 - categorical_accuracy: 0.9646 - categorical_crossentropy: 0.3081 - auc_4: 0.9958 - val_loss: 0.5874 - val_accuracy: 0.8159 - val_categorical_accuracy: 0.8159 - val_categorical_crossentropy: 0.5874 - val_auc_4: 0.9503\n",
      "Epoch 17/30\n",
      "1470/1470 [==============================] - 4s 3ms/step - loss: 0.2998 - accuracy: 0.9680 - categorical_accuracy: 0.9680 - categorical_crossentropy: 0.2998 - auc_4: 0.9970 - val_loss: 0.5643 - val_accuracy: 0.8238 - val_categorical_accuracy: 0.8238 - val_categorical_crossentropy: 0.5643 - val_auc_4: 0.9567\n",
      "Epoch 18/30\n",
      "1470/1470 [==============================] - 3s 2ms/step - loss: 0.2987 - accuracy: 0.9687 - categorical_accuracy: 0.9687 - categorical_crossentropy: 0.2987 - auc_4: 0.9973 - val_loss: 0.5642 - val_accuracy: 0.8254 - val_categorical_accuracy: 0.8254 - val_categorical_crossentropy: 0.5642 - val_auc_4: 0.9566\n",
      "Epoch 19/30\n",
      "1470/1470 [==============================] - 4s 2ms/step - loss: 0.2961 - accuracy: 0.9673 - categorical_accuracy: 0.9673 - categorical_crossentropy: 0.2961 - auc_4: 0.9966 - val_loss: 0.5594 - val_accuracy: 0.8206 - val_categorical_accuracy: 0.8206 - val_categorical_crossentropy: 0.5594 - val_auc_4: 0.9577\n",
      "Epoch 20/30\n",
      "1470/1470 [==============================] - 3s 2ms/step - loss: 0.3047 - accuracy: 0.9646 - categorical_accuracy: 0.9646 - categorical_crossentropy: 0.3047 - auc_4: 0.9951 - val_loss: 0.5560 - val_accuracy: 0.8206 - val_categorical_accuracy: 0.8206 - val_categorical_crossentropy: 0.5560 - val_auc_4: 0.9591\n",
      "Epoch 21/30\n",
      "1470/1470 [==============================] - 3s 2ms/step - loss: 0.2803 - accuracy: 0.9748 - categorical_accuracy: 0.9748 - categorical_crossentropy: 0.2803 - auc_4: 0.9982 - val_loss: 0.5511 - val_accuracy: 0.8206 - val_categorical_accuracy: 0.8206 - val_categorical_crossentropy: 0.5511 - val_auc_4: 0.9610\n",
      "Epoch 22/30\n",
      "1470/1470 [==============================] - 3s 2ms/step - loss: 0.2866 - accuracy: 0.9755 - categorical_accuracy: 0.9755 - categorical_crossentropy: 0.2866 - auc_4: 0.9979 - val_loss: 0.5504 - val_accuracy: 0.8190 - val_categorical_accuracy: 0.8190 - val_categorical_crossentropy: 0.5504 - val_auc_4: 0.9611\n",
      "Epoch 23/30\n",
      "1470/1470 [==============================] - 3s 2ms/step - loss: 0.2861 - accuracy: 0.9741 - categorical_accuracy: 0.9741 - categorical_crossentropy: 0.2861 - auc_4: 0.9975 - val_loss: 0.5604 - val_accuracy: 0.8333 - val_categorical_accuracy: 0.8333 - val_categorical_crossentropy: 0.5604 - val_auc_4: 0.9592\n",
      "Epoch 24/30\n",
      "1470/1470 [==============================] - 3s 2ms/step - loss: 0.2796 - accuracy: 0.9741 - categorical_accuracy: 0.9741 - categorical_crossentropy: 0.2796 - auc_4: 0.9979 - val_loss: 0.5521 - val_accuracy: 0.8190 - val_categorical_accuracy: 0.8190 - val_categorical_crossentropy: 0.5521 - val_auc_4: 0.9616\n",
      "Epoch 25/30\n",
      "1470/1470 [==============================] - 3s 2ms/step - loss: 0.2729 - accuracy: 0.9776 - categorical_accuracy: 0.9776 - categorical_crossentropy: 0.2729 - auc_4: 0.9982 - val_loss: 0.5503 - val_accuracy: 0.8270 - val_categorical_accuracy: 0.8270 - val_categorical_crossentropy: 0.5503 - val_auc_4: 0.9625 - categorical_accuracy: 0.9826 - categorica\n",
      "Epoch 26/30\n",
      "1470/1470 [==============================] - 3s 2ms/step - loss: 0.2805 - accuracy: 0.9748 - categorical_accuracy: 0.9748 - categorical_crossentropy: 0.2805 - auc_4: 0.9981 - val_loss: 0.5508 - val_accuracy: 0.8206 - val_categorical_accuracy: 0.8206 - val_categorical_crossentropy: 0.5508 - val_auc_4: 0.9620\n",
      "Epoch 27/30\n",
      "1470/1470 [==============================] - 3s 2ms/step - loss: 0.2690 - accuracy: 0.9796 - categorical_accuracy: 0.9796 - categorical_crossentropy: 0.2690 - auc_4: 0.9990 - val_loss: 0.5484 - val_accuracy: 0.8302 - val_categorical_accuracy: 0.8302 - val_categorical_crossentropy: 0.5484 - val_auc_4: 0.9627\n",
      "Epoch 28/30\n",
      "1470/1470 [==============================] - 3s 2ms/step - loss: 0.2713 - accuracy: 0.9837 - categorical_accuracy: 0.9837 - categorical_crossentropy: 0.2713 - auc_4: 0.9987 - val_loss: 0.5458 - val_accuracy: 0.8286 - val_categorical_accuracy: 0.8286 - val_categorical_crossentropy: 0.5458 - val_auc_4: 0.9638\n",
      "Epoch 29/30\n",
      "1470/1470 [==============================] - 3s 2ms/step - loss: 0.2656 - accuracy: 0.9823 - categorical_accuracy: 0.9823 - categorical_crossentropy: 0.2656 - auc_4: 0.9987 - val_loss: 0.5422 - val_accuracy: 0.8365 - val_categorical_accuracy: 0.8365 - val_categorical_crossentropy: 0.5422 - val_auc_4: 0.9644\n",
      "Epoch 30/30\n",
      "1470/1470 [==============================] - 3s 2ms/step - loss: 0.2755 - accuracy: 0.9803 - categorical_accuracy: 0.9803 - categorical_crossentropy: 0.2755 - auc_4: 0.9992 - val_loss: 0.5444 - val_accuracy: 0.8238 - val_categorical_accuracy: 0.8238 - val_categorical_crossentropy: 0.5444 - val_auc_4: 0.963631 - categorical_accuracy: 0.9831 - categorical_crossentropy: 0.26\n"
     ]
    },
    {
     "data": {
      "text/plain": [
       "<keras.callbacks.callbacks.History at 0x21621783d48>"
      ]
     },
     "execution_count": 37,
     "metadata": {},
     "output_type": "execute_result"
    }
   ],
   "source": [
    "#Training the Model\n",
    "#Explanation of the fit arguements\n",
    "#Validation_split splits the training data and uses that split set aside for model validation\n",
    "#in this case we set aside 30% of our training data to be used as validation data and the remaining 70% is used for training\n",
    "#This leaves the original 30% test set as our sample test data. Which will be use on top of the out of sample test data which will be released at a later date\n",
    "#Batch size and epochs are based on parameters set previously\n",
    "#verbose gives us a progress bar per epoch\n",
    "#callbacks includes the learning rate reduction on plateau funtion and stopping the training early if the validation loss plateaus for more than 5 epochs\n",
    "\n",
    "Multiclass_CNN.fit(xTrain, yTrain_OneHot, batch_size= batch_size, epochs= epochs, validation_split= 0.3,  verbose = 1, callbacks = [lrr, ES])\n",
    "#History.history attribute is a record of training loss values and metrics values at successive epochs\n",
    "#as well as validation loss values and validation metrics values (if applicable)."
   ]
  },
  {
   "cell_type": "markdown",
   "metadata": {},
   "source": [
    "### 2.4 Assessing Model Training Performance"
   ]
  },
  {
   "cell_type": "code",
   "execution_count": 38,
   "metadata": {},
   "outputs": [
    {
     "name": "stdout",
     "output_type": "stream",
     "text": [
      "dict_keys(['val_loss', 'val_accuracy', 'val_categorical_accuracy', 'val_categorical_crossentropy', 'val_auc_4', 'loss', 'accuracy', 'categorical_accuracy', 'categorical_crossentropy', 'auc_4', 'lr'])\n",
      "Training accuracy:  0.9802721\n",
      "Training loss:  0.2754546740833594\n"
     ]
    }
   ],
   "source": [
    "#Testing addressing of trained model history metrics\n",
    "#Allows us to access the model training history stats such as accuracy in trianing and validation\n",
    "#Shows us the available metrics to check\n",
    "#Can change metrics available by changing metrics to be observed when compiling the model\n",
    "print(Multiclass_CNN.history.history.keys())\n",
    "\n",
    "#Obtains training accuracy and loss of the most recent epoch to be finished\n",
    "acc = Multiclass_CNN.history.history['accuracy'][-1]\n",
    "loss = Multiclass_CNN.history.history['loss'][-1]\n",
    "\n",
    "print(\"Training accuracy: \", acc)\n",
    "print(\"Training loss: \", loss)\n"
   ]
  },
  {
   "cell_type": "markdown",
   "metadata": {},
   "source": [
    "#### 2.4.1 Visualising Model parameters during training"
   ]
  },
  {
   "cell_type": "code",
   "execution_count": 39,
   "metadata": {},
   "outputs": [
    {
     "data": {
      "text/plain": [
       "<matplotlib.legend.Legend at 0x2173c415648>"
      ]
     },
     "execution_count": 39,
     "metadata": {},
     "output_type": "execute_result"
    },
    {
     "data": {
      "image/png": "[encoded data removed]",
      "text/plain": [
       "<Figure size 432x288 with 2 Axes>"
      ]
     },
     "metadata": {
      "needs_background": "light"
     },
     "output_type": "display_data"
    }
   ],
   "source": [
    "#Plotting the Training and validation loss\n",
    "\n",
    "#Creating 2 subsplots under 1 figure\n",
    "f, acc_plot = plt.subplots(2,1)\n",
    "\n",
    "#First subplot graphs training loss and validation loss\n",
    "acc_plot[0].plot(Multiclass_CNN.history.history['loss'], color = 'b', label = 'Training Loss')\n",
    "acc_plot[0].plot(Multiclass_CNN.history.history['val_loss'], color = 'r', label = 'Validation Loss')\n",
    "plt.legend()\n",
    "\n",
    "#Second subplot graphs training accuracy and validation accuracy\n",
    "acc_plot[1].plot(Multiclass_CNN.history.history['accuracy'], color = 'b', label = 'Training Accuracy')\n",
    "acc_plot[1].plot(Multiclass_CNN.history.history['val_accuracy'], color = 'r', label = 'Validation Accuracy')\n",
    "\n",
    "plt.legend()"
   ]
  },
  {
   "cell_type": "markdown",
   "metadata": {},
   "source": [
    "# 3. Making Predictions with Trained Model"
   ]
  },
  {
   "cell_type": "markdown",
   "metadata": {},
   "source": [
    "### 3.1 Obtaining Classification report and confusion matrix"
   ]
  },
  {
   "cell_type": "code",
   "execution_count": 40,
   "metadata": {},
   "outputs": [
    {
     "name": "stdout",
     "output_type": "stream",
     "text": [
      "900/900 [==============================] - 1s 936us/step\n",
      "The Results for Multiclass CNN are:\n",
      "              precision    recall  f1-score   support\n",
      "\n",
      "         0.0       0.83      0.83      0.83       134\n",
      "         1.0       0.81      0.82      0.82       257\n",
      "         2.0       0.78      0.75      0.76       264\n",
      "         3.0       0.90      0.94      0.92       245\n",
      "\n",
      "    accuracy                           0.83       900\n",
      "   macro avg       0.83      0.83      0.83       900\n",
      "weighted avg       0.83      0.83      0.83       900\n",
      "\n",
      "The confusion matrix is:\n",
      "[[111   6  10   7]\n",
      " [  5 211  36   5]\n",
      " [ 15  38 197  14]\n",
      " [  2   4   9 230]]\n"
     ]
    }
   ],
   "source": [
    "#Making Predictions with the model\n",
    "#We make 2 sets of predictions using the trained model. One which predicts the absolute class of the test image \n",
    "#and another subsequently which provides probability of the labels (0 or 1). The latter is used for ROC curve plotting\n",
    "Multiclass_CNN_pred = Multiclass_CNN.predict_classes(xTest, verbose = 1)\n",
    "\n",
    "#Printing the classification report and metrics\n",
    "print(\"The Results for Multiclass CNN are:\")\n",
    "print(classification_report(yTest, Multiclass_CNN_pred))\n",
    "\n",
    "#Printing the confusion matrix for Multiclass CNN\n",
    "print(\"The confusion matrix is:\")\n",
    "print(confusion_matrix(yTest, Multiclass_CNN_pred))\n",
    "\n",
    "#To obtain TNR, TPR and FPR metrics for Multiclass CNN in discrete form\n",
    "FPR_Multiclass_CNN, TPR_Multiclass_CNN, Multiclass_CNN_thres = roc_curve(yTest, Multiclass_CNN_pred)\n",
    "#TNR_Multiclass_CNN = "
   ]
  },
  {
   "cell_type": "markdown",
   "metadata": {},
   "source": [
    "### 3.2 Obtaining ROC curve and other metrics of Multiclass CNN model"
   ]
  },
  {
   "cell_type": "code",
   "execution_count": 1,
   "metadata": {},
   "outputs": [
    {
     "ename": "NameError",
     "evalue": "name 'roc_auc_score' is not defined",
     "output_type": "error",
     "traceback": [
      "\u001b[1;31m---------------------------------------------------------------------------\u001b[0m",
      "\u001b[1;31mNameError\u001b[0m                                 Traceback (most recent call last)",
      "\u001b[1;32m~\\AppData\\Local\\Temp/ipykernel_11500/641314013.py\u001b[0m in \u001b[0;36m<module>\u001b[1;34m\u001b[0m\n\u001b[1;32m----> 1\u001b[1;33m \u001b[0mprint\u001b[0m\u001b[1;33m(\u001b[0m\u001b[1;34m'roc_auc_score for Binary CNN: '\u001b[0m\u001b[1;33m,\u001b[0m \u001b[0mroc_auc_score\u001b[0m\u001b[1;33m(\u001b[0m\u001b[0myTest\u001b[0m\u001b[1;33m,\u001b[0m \u001b[0mMulticlass_CNN_pred\u001b[0m\u001b[1;33m)\u001b[0m\u001b[1;33m)\u001b[0m\u001b[1;33m\u001b[0m\u001b[1;33m\u001b[0m\u001b[0m\n\u001b[0m",
      "\u001b[1;31mNameError\u001b[0m: name 'roc_auc_score' is not defined"
     ]
    }
   ],
   "source": [
    "#Printing the main metrics to assess performance of the Multiclass CNN model\n",
    "print(\"The metrics for Multiclass CNN model are as follows\")\n",
    "print(\"True Positive Rate: \", print(TPR_Multiclass_CNN))\n",
    "print(\"True Negative Rate: \", print(TNR_Multiclass_CNN))\n",
    "print('roc_auc_score for Multiclass CNN: ', roc_auc_score(yTest, Multiclass_CNN_pred))"
   ]
  },
  {
   "cell_type": "markdown",
   "metadata": {},
   "source": [
    "# 4. Saving Model"
   ]
  },
  {
   "cell_type": "code",
   "execution_count": 41,
   "metadata": {},
   "outputs": [
    {
     "name": "stdout",
     "output_type": "stream",
     "text": [
      "Saved model to disk\n"
     ]
    }
   ],
   "source": [
    "#Serialize Multiclass CNN model to json\n",
    "#This saves the model architecture to save space\n",
    "Multiclass_CNN_json = Multiclass_CNN.to_json()\n",
    "with open(\".\\Models\\MultiClassification\\CNN\\Multiclass_CNN.json\", \"w\") as json_file:\n",
    "    json_file.write(Multiclass_CNN_json)\n",
    "\n",
    "#Saving the Multiclass_CNN Model weights \n",
    "Multiclass_CNN.save_weights(\".\\Models\\MultiClassification\\CNN\\Multiclass_CNN_Model_Weights\")\n",
    "print(\"Saved model to disk\")"
   ]
  },
  {
   "cell_type": "code",
   "execution_count": 42,
   "metadata": {},
   "outputs": [
    {
     "name": "stdout",
     "output_type": "stream",
     "text": [
      "Loaded model from disk\n"
     ]
    }
   ],
   "source": [
    "#Test to load CNN Model\n",
    "# load Multiclass CNN json and create model\n",
    "json_file = open(\".\\Models\\MultiClassification\\CNN\\Multiclass_CNN.json\", 'r')\n",
    "loaded_model_json = json_file.read()\n",
    "json_file.close()\n",
    "loaded_model = model_from_json(loaded_model_json)\n",
    "# load weights into new model\n",
    "loaded_model.load_weights(\".\\Models\\MultiClassification\\CNN\\Multiclass_CNN_Model_Weights\")\n",
    "print(\"Loaded model from disk\")"
   ]
  },
  {
   "cell_type": "code",
   "execution_count": null,
   "metadata": {},
   "outputs": [],
   "source": []
  }
 ],
 "metadata": {
  "interpreter": {
   "hash": "290ec9070849e8daf2fe4bd922bd966932468e9fb905fb4b926b0f4d9e51cc32"
  },
  "kernelspec": {
   "display_name": "Python 3.7.11 64-bit ('gym': conda)",
   "language": "python",
   "name": "python3"
  },
  "language_info": {
   "codemirror_mode": {
    "name": "ipython",
    "version": 3
   },
   "file_extension": ".py",
   "mimetype": "text/x-python",
   "name": "python",
   "nbconvert_exporter": "python",
   "pygments_lexer": "ipython3",
   "version": "3.7.11"
  },
  "orig_nbformat": 4
 },
 "nbformat": 4,
 "nbformat_minor": 2
}
